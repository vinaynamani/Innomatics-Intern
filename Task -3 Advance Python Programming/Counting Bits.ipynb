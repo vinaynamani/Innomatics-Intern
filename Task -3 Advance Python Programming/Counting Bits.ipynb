{
 "cells": [
  {
   "cell_type": "code",
   "execution_count": 9,
   "id": "5b9973e0",
   "metadata": {},
   "outputs": [
    {
     "name": "stdout",
     "output_type": "stream",
     "text": [
      "[0, 1, 1, 2, 1, 2]\n"
     ]
    }
   ],
   "source": [
    "n = 5\n",
    "count = []\n",
    "for i in range(0,n+1):\n",
    "    bit = bin(i).replace(\"b\",\"\")\n",
    "#     bit = bit.replace(\"b\",\"\")\n",
    "#     count_1 = bit.count(\"1\")\n",
    "    count.append(bit.count(\"1\"))\n",
    "    \n",
    "print(count)"
   ]
  },
  {
   "cell_type": "code",
   "execution_count": null,
   "id": "cf1fc9c9",
   "metadata": {},
   "outputs": [],
   "source": []
  }
 ],
 "metadata": {
  "kernelspec": {
   "display_name": "Python 3",
   "language": "python",
   "name": "python3"
  },
  "language_info": {
   "codemirror_mode": {
    "name": "ipython",
    "version": 3
   },
   "file_extension": ".py",
   "mimetype": "text/x-python",
   "name": "python",
   "nbconvert_exporter": "python",
   "pygments_lexer": "ipython3",
   "version": "3.9.6"
  }
 },
 "nbformat": 4,
 "nbformat_minor": 5
}
