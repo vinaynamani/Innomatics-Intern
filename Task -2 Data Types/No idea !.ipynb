{
 "cells": [
  {
   "cell_type": "code",
   "execution_count": 1,
   "id": "a4c9e958",
   "metadata": {},
   "outputs": [
    {
     "name": "stdout",
     "output_type": "stream",
     "text": [
      "3 2\n",
      "1 5 3\n",
      "3 1\n",
      "5 7\n",
      "1\n"
     ]
    }
   ],
   "source": [
    "n , m = map(int,input().split())\n",
    "main_array = input().split()\n",
    "a = set(input().split())\n",
    "b = set(input().split())\n",
    "\n",
    "happiness = 0\n",
    "sadness = 0\n",
    "for i in main_array:\n",
    "    if i in a:\n",
    "        happiness = happiness + 1\n",
    "    elif i in b:\n",
    "        sadness = sadness + 1\n",
    "print(happiness - sadness)"
   ]
  },
  {
   "cell_type": "code",
   "execution_count": null,
   "id": "302cf445",
   "metadata": {},
   "outputs": [],
   "source": []
  }
 ],
 "metadata": {
  "kernelspec": {
   "display_name": "Python 3",
   "language": "python",
   "name": "python3"
  },
  "language_info": {
   "codemirror_mode": {
    "name": "ipython",
    "version": 3
   },
   "file_extension": ".py",
   "mimetype": "text/x-python",
   "name": "python",
   "nbconvert_exporter": "python",
   "pygments_lexer": "ipython3",
   "version": "3.9.6"
  }
 },
 "nbformat": 4,
 "nbformat_minor": 5
}
