{
 "cells": [
  {
   "cell_type": "code",
   "execution_count": 8,
   "id": "25e86bfd",
   "metadata": {},
   "outputs": [
    {
     "name": "stdout",
     "output_type": "stream",
     "text": [
      "16\n",
      "1 2 3 4 5 6 7 8 9 10 11 12 13 14 24 52\n",
      "4\n",
      "intersection_update\n",
      "2 3 5 6 8 9 1 4 7 11\n",
      "update\n",
      "55 66\n",
      "symmetric_difference_update\n",
      "22 7 35 62 58\n",
      "difference_update\n",
      "11 22 35 55 58 62 66\n",
      "38\n"
     ]
    }
   ],
   "source": [
    "n = int(input())\n",
    "\n",
    "set_A = set(map(int,input().split()))\n",
    "\n",
    "N = int(input())\n",
    "\n",
    "for _ in range(0,N):\n",
    "    operation = input().split()\n",
    "    \n",
    "    if operation[0] == \"intersection_update\":\n",
    "        set_i = set(map(int,input().split()))\n",
    "        set_A.intersection_update(set_i) \n",
    "        # print(set_A)\n",
    "    \n",
    "    elif operation[0] == 'update':\n",
    "        set_i = set(map(int,input().split()))        \n",
    "        set_A.update(set_i)\n",
    "        # print(set_A)\n",
    "        \n",
    "    elif operation[0] == 'symmetric_difference_update':\n",
    "        set_i = set(map(int,input().split()))\n",
    "        set_A.symmetric_difference_update(set_i)\n",
    "        # print(set_A)\n",
    "        \n",
    "    elif operation[0] == 'difference_update':\n",
    "        set_i = set(map(int,input().split()))\n",
    "        set_A.difference_update(set_i)\n",
    "        # print(set_A)\n",
    "        \n",
    "print(sum(set_A))"
   ]
  },
  {
   "cell_type": "code",
   "execution_count": null,
   "id": "8efaa6e7",
   "metadata": {},
   "outputs": [],
   "source": []
  }
 ],
 "metadata": {
  "kernelspec": {
   "display_name": "Python 3",
   "language": "python",
   "name": "python3"
  },
  "language_info": {
   "codemirror_mode": {
    "name": "ipython",
    "version": 3
   },
   "file_extension": ".py",
   "mimetype": "text/x-python",
   "name": "python",
   "nbconvert_exporter": "python",
   "pygments_lexer": "ipython3",
   "version": "3.9.6"
  }
 },
 "nbformat": 4,
 "nbformat_minor": 5
}
