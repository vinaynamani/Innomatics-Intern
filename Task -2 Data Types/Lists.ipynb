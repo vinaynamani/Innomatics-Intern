{
 "cells": [
  {
   "cell_type": "code",
   "execution_count": 2,
   "id": "2cd8cf14",
   "metadata": {},
   "outputs": [
    {
     "name": "stdout",
     "output_type": "stream",
     "text": [
      "12\n",
      "insert 0 5\n",
      "insert 1 10\n",
      "insert 0 6\n",
      "print\n",
      "[6, 5, 10]\n",
      "remove 6\n",
      "append 9\n",
      "append 1\n",
      "sort\n",
      "print\n",
      "[1, 5, 9, 10]\n",
      "pop\n",
      "reverse\n",
      "print\n",
      "[9, 5, 1]\n"
     ]
    }
   ],
   "source": [
    "N = int(input())\n",
    "lst = []\n",
    "for i in range(N):\n",
    "    operation = input().split()\n",
    "    if operation[0] == 'insert':\n",
    "       lst.insert(int(operation[1]),int(operation[2]))\n",
    "    elif operation[0] == 'remove':\n",
    "        lst.remove(int(operation[1]))\n",
    "    elif operation[0] == 'append':\n",
    "        lst.append(int(operation[1]))\n",
    "    elif operation[0] == 'sort':\n",
    "        lst = sorted(lst)\n",
    "    elif operation[0] == 'print':\n",
    "        print(lst)\n",
    "    elif operation[0] == 'pop':\n",
    "        lst.pop()\n",
    "    elif operation[0] == 'reverse':\n",
    "        lst = lst[::-1]\n",
    "# print(lst)"
   ]
  },
  {
   "cell_type": "code",
   "execution_count": null,
   "id": "9e37656e",
   "metadata": {},
   "outputs": [],
   "source": []
  }
 ],
 "metadata": {
  "kernelspec": {
   "display_name": "Python 3",
   "language": "python",
   "name": "python3"
  },
  "language_info": {
   "codemirror_mode": {
    "name": "ipython",
    "version": 3
   },
   "file_extension": ".py",
   "mimetype": "text/x-python",
   "name": "python",
   "nbconvert_exporter": "python",
   "pygments_lexer": "ipython3",
   "version": "3.9.6"
  }
 },
 "nbformat": 4,
 "nbformat_minor": 5
}
