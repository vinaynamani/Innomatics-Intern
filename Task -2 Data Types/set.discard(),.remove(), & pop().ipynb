{
 "cells": [
  {
   "cell_type": "code",
   "execution_count": 2,
   "id": "71b41b2c",
   "metadata": {},
   "outputs": [
    {
     "name": "stdout",
     "output_type": "stream",
     "text": [
      "9\n",
      "1 2 3 4 5 6 7 8 9\n",
      "10\n",
      "pop\n",
      "remove 9\n",
      "discard 9\n",
      "discard 8\n",
      "remove 7\n",
      "pop\n",
      "discard 6\n",
      "remove 5\n",
      "pop\n",
      "discard 5\n",
      "4\n"
     ]
    }
   ],
   "source": [
    "n = int(input())\n",
    "numbers = set(map(int,input().split()))\n",
    "\n",
    "N = int(input())\n",
    "for i in range(N):\n",
    "    operation = input().split()\n",
    "    if operation[0] == 'pop':\n",
    "        numbers.pop()\n",
    "    elif operation[0] == 'remove':\n",
    "        numbers.remove(int(operation[1]))\n",
    "    elif operation[0] == 'discard':\n",
    "        numbers.discard(int(operation[1]))\n",
    "\n",
    "print(sum(list(numbers)))"
   ]
  },
  {
   "cell_type": "code",
   "execution_count": null,
   "id": "befa4c04",
   "metadata": {},
   "outputs": [],
   "source": []
  }
 ],
 "metadata": {
  "kernelspec": {
   "display_name": "Python 3",
   "language": "python",
   "name": "python3"
  },
  "language_info": {
   "codemirror_mode": {
    "name": "ipython",
    "version": 3
   },
   "file_extension": ".py",
   "mimetype": "text/x-python",
   "name": "python",
   "nbconvert_exporter": "python",
   "pygments_lexer": "ipython3",
   "version": "3.9.6"
  }
 },
 "nbformat": 4,
 "nbformat_minor": 5
}
