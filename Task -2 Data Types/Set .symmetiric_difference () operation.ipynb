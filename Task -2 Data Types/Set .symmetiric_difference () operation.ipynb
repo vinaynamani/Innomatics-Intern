{
 "cells": [
  {
   "cell_type": "code",
   "execution_count": 1,
   "id": "27c4a30b",
   "metadata": {},
   "outputs": [
    {
     "name": "stdout",
     "output_type": "stream",
     "text": [
      "9\n",
      "1 2 3 4 5 6 7 8 9\n",
      "9\n",
      "10 1 2 3 11 21 55 6 8\n",
      "8\n"
     ]
    }
   ],
   "source": [
    "m = int(input())\n",
    "set_a = set(map(int,input().split()))\n",
    "\n",
    "n = int(input())\n",
    "set_b = set(map(int,input().split()))\n",
    "\n",
    "sym_dif = set_a.symmetric_difference(set_b)\n",
    "\n",
    "print(len(sym_dif))"
   ]
  },
  {
   "cell_type": "code",
   "execution_count": null,
   "id": "abe16dba",
   "metadata": {},
   "outputs": [],
   "source": []
  }
 ],
 "metadata": {
  "kernelspec": {
   "display_name": "Python 3",
   "language": "python",
   "name": "python3"
  },
  "language_info": {
   "codemirror_mode": {
    "name": "ipython",
    "version": 3
   },
   "file_extension": ".py",
   "mimetype": "text/x-python",
   "name": "python",
   "nbconvert_exporter": "python",
   "pygments_lexer": "ipython3",
   "version": "3.9.6"
  }
 },
 "nbformat": 4,
 "nbformat_minor": 5
}
