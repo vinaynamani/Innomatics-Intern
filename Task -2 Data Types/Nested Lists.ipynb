{
 "cells": [
  {
   "cell_type": "code",
   "execution_count": 5,
   "id": "7810cc4b",
   "metadata": {},
   "outputs": [
    {
     "name": "stdout",
     "output_type": "stream",
     "text": [
      "4\n",
      "Vinay\n",
      "-51\n",
      "naman\n",
      "-51\n",
      "teju\n",
      "-51\n",
      "VT\n",
      "51\n",
      "VT\n"
     ]
    }
   ],
   "source": [
    "N = int(input())\n",
    "markslist = []\n",
    "\n",
    "for i in range(N):\n",
    "    markslist.append([input(),float(input())])\n",
    "\n",
    "    scores = []\n",
    "for i in markslist:\n",
    "    scores.append(i[1])\n",
    "second_lowest = sorted(set(scores))[1]\n",
    "\n",
    "lowest_scorers = []\n",
    "for i in markslist:\n",
    "    if second_lowest in i:\n",
    "        lowest_scorers.append(i[0])\n",
    "\n",
    "for i in sorted(lowest_scorers):\n",
    "    print(i)"
   ]
  },
  {
   "cell_type": "code",
   "execution_count": null,
   "id": "0c191e7c",
   "metadata": {},
   "outputs": [],
   "source": []
  }
 ],
 "metadata": {
  "kernelspec": {
   "display_name": "Python 3",
   "language": "python",
   "name": "python3"
  },
  "language_info": {
   "codemirror_mode": {
    "name": "ipython",
    "version": 3
   },
   "file_extension": ".py",
   "mimetype": "text/x-python",
   "name": "python",
   "nbconvert_exporter": "python",
   "pygments_lexer": "ipython3",
   "version": "3.9.6"
  }
 },
 "nbformat": 4,
 "nbformat_minor": 5
}
