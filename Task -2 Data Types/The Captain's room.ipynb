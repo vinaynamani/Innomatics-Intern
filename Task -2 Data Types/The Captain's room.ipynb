{
 "cells": [
  {
   "cell_type": "code",
   "execution_count": 1,
   "id": "7028fb8a",
   "metadata": {},
   "outputs": [
    {
     "name": "stdout",
     "output_type": "stream",
     "text": [
      "5\n",
      "1 2 3 6 5 4 4 2 5 3 6 1 6 5 3 2 4 1 2 5 1 4 3 6 8 4 3 1 5 6 2\n",
      "8\n"
     ]
    }
   ],
   "source": [
    "K = int(input())\n",
    "\n",
    "rms = list(map(int,input().split()))\n",
    "\n",
    "single = set()\n",
    "multiple = set()\n",
    "\n",
    "for rm in rms:\n",
    "    if rm in single:\n",
    "        multiple.add(rm)\n",
    "    else:\n",
    "        single.add(rm)\n",
    "        \n",
    "lst = single.difference(multiple)\n",
    "print(list(lst)[0])"
   ]
  },
  {
   "cell_type": "code",
   "execution_count": null,
   "id": "506d2266",
   "metadata": {},
   "outputs": [],
   "source": []
  }
 ],
 "metadata": {
  "kernelspec": {
   "display_name": "Python 3",
   "language": "python",
   "name": "python3"
  },
  "language_info": {
   "codemirror_mode": {
    "name": "ipython",
    "version": 3
   },
   "file_extension": ".py",
   "mimetype": "text/x-python",
   "name": "python",
   "nbconvert_exporter": "python",
   "pygments_lexer": "ipython3",
   "version": "3.9.6"
  }
 },
 "nbformat": 4,
 "nbformat_minor": 5
}
