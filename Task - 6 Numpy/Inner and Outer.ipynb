{
 "cells": [
  {
   "cell_type": "code",
   "execution_count": 2,
   "id": "12f2e145",
   "metadata": {},
   "outputs": [
    {
     "name": "stdout",
     "output_type": "stream",
     "text": [
      "0 1\n",
      "2 3\n"
     ]
    }
   ],
   "source": [
    "import numpy as np\n",
    "array_a = np.array(list(map(int,input().split())))\n",
    "array_b = np.array(list(map(int,input().split())))"
   ]
  },
  {
   "cell_type": "code",
   "execution_count": 7,
   "id": "8ab86fd7",
   "metadata": {},
   "outputs": [
    {
     "name": "stdout",
     "output_type": "stream",
     "text": [
      "3\n",
      "[[0 0]\n",
      " [2 3]]\n"
     ]
    }
   ],
   "source": [
    "print(np.inner(array_a,array_b))\n",
    "print(np.outer(array_a,array_b))"
   ]
  },
  {
   "cell_type": "code",
   "execution_count": null,
   "id": "b130941f",
   "metadata": {},
   "outputs": [],
   "source": []
  }
 ],
 "metadata": {
  "kernelspec": {
   "display_name": "Python 3",
   "language": "python",
   "name": "python3"
  },
  "language_info": {
   "codemirror_mode": {
    "name": "ipython",
    "version": 3
   },
   "file_extension": ".py",
   "mimetype": "text/x-python",
   "name": "python",
   "nbconvert_exporter": "python",
   "pygments_lexer": "ipython3",
   "version": "3.9.6"
  }
 },
 "nbformat": 4,
 "nbformat_minor": 5
}
