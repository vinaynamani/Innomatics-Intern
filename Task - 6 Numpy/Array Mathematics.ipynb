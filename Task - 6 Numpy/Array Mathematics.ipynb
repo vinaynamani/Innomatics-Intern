{
 "cells": [
  {
   "cell_type": "code",
   "execution_count": 17,
   "id": "e1211fe5",
   "metadata": {},
   "outputs": [
    {
     "name": "stdout",
     "output_type": "stream",
     "text": [
      "2 4\n",
      "1 2 3 4\n",
      "1 2 3 4\n",
      "5 6 7 7\n",
      "5 6 7 7\n",
      "[[ 6  8 10 11]\n",
      " [ 6  8 10 11]]\n",
      "[[-4 -4 -4 -3]\n",
      " [-4 -4 -4 -3]]\n",
      "[[ 5 12 21 28]\n",
      " [ 5 12 21 28]]\n",
      "[[0 0 0 0]\n",
      " [0 0 0 0]]\n",
      "[[1 2 3 4]\n",
      " [1 2 3 4]]\n",
      "[[    1    64  2187 16384]\n",
      " [    1    64  2187 16384]]\n"
     ]
    }
   ],
   "source": [
    "import numpy as np\n",
    "n, m = map(int, input().split())\n",
    "a, b = (np.array([input().split() for _ in range(n)], dtype=int) for _ in range(2))\n",
    "print(a+b, a-b, a*b, a//b, a%b, a**b, sep='\\n')"
   ]
  },
  {
   "cell_type": "code",
   "execution_count": null,
   "id": "c254393d",
   "metadata": {},
   "outputs": [],
   "source": []
  }
 ],
 "metadata": {
  "kernelspec": {
   "display_name": "Python 3",
   "language": "python",
   "name": "python3"
  },
  "language_info": {
   "codemirror_mode": {
    "name": "ipython",
    "version": 3
   },
   "file_extension": ".py",
   "mimetype": "text/x-python",
   "name": "python",
   "nbconvert_exporter": "python",
   "pygments_lexer": "ipython3",
   "version": "3.9.6"
  }
 },
 "nbformat": 4,
 "nbformat_minor": 5
}
