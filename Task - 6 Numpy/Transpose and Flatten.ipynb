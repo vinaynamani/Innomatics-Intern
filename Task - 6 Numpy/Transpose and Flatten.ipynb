{
 "cells": [
  {
   "cell_type": "code",
   "execution_count": 2,
   "id": "ca5cbe54",
   "metadata": {},
   "outputs": [
    {
     "name": "stdout",
     "output_type": "stream",
     "text": [
      "2 2\n",
      "1 2\n",
      "3 4\n",
      "[[1 3]\n",
      " [2 4]]\n",
      "[1 2 3 4]\n"
     ]
    }
   ],
   "source": [
    "import numpy as np\n",
    "lst = list(map(int,input().split()))\n",
    "m = lst[0]\n",
    "n = lst[1]\n",
    "arr_lst = []\n",
    "for i in range(m):\n",
    "    arr = tuple(map(int,input().split()))\n",
    "    arr_lst.append(arr)\n",
    "array = np.array(arr_lst)\n",
    "array = np.resize(array,(m,n))\n",
    "array = array.T\n",
    "print(array)\n",
    "\n",
    "array = array.T\n",
    "array = array.flatten()\n",
    "print(array)"
   ]
  },
  {
   "cell_type": "code",
   "execution_count": null,
   "id": "86efcb90",
   "metadata": {},
   "outputs": [],
   "source": []
  }
 ],
 "metadata": {
  "kernelspec": {
   "display_name": "Python 3",
   "language": "python",
   "name": "python3"
  },
  "language_info": {
   "codemirror_mode": {
    "name": "ipython",
    "version": 3
   },
   "file_extension": ".py",
   "mimetype": "text/x-python",
   "name": "python",
   "nbconvert_exporter": "python",
   "pygments_lexer": "ipython3",
   "version": "3.9.6"
  }
 },
 "nbformat": 4,
 "nbformat_minor": 5
}
