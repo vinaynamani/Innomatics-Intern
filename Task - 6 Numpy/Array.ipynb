{
 "cells": [
  {
   "cell_type": "code",
   "execution_count": 1,
   "id": "6cff9c33",
   "metadata": {},
   "outputs": [],
   "source": [
    "import numpy as np\n",
    "\n",
    "def arrays(arr):\n",
    "    arr = np.array(arr,float)\n",
    "    return arr[::-1]"
   ]
  },
  {
   "cell_type": "code",
   "execution_count": 2,
   "id": "ad830822",
   "metadata": {},
   "outputs": [
    {
     "name": "stdout",
     "output_type": "stream",
     "text": [
      "1 2 3 4 -8 -10\n"
     ]
    }
   ],
   "source": [
    "arr = input().strip().split()"
   ]
  },
  {
   "cell_type": "code",
   "execution_count": 3,
   "id": "c86cb91a",
   "metadata": {},
   "outputs": [
    {
     "name": "stdout",
     "output_type": "stream",
     "text": [
      "[-10.  -8.   4.   3.   2.   1.]\n"
     ]
    }
   ],
   "source": [
    "print(arrays(arr))"
   ]
  },
  {
   "cell_type": "code",
   "execution_count": null,
   "id": "3d48e1a1",
   "metadata": {},
   "outputs": [],
   "source": []
  }
 ],
 "metadata": {
  "kernelspec": {
   "display_name": "Python 3",
   "language": "python",
   "name": "python3"
  },
  "language_info": {
   "codemirror_mode": {
    "name": "ipython",
    "version": 3
   },
   "file_extension": ".py",
   "mimetype": "text/x-python",
   "name": "python",
   "nbconvert_exporter": "python",
   "pygments_lexer": "ipython3",
   "version": "3.9.6"
  }
 },
 "nbformat": 4,
 "nbformat_minor": 5
}
