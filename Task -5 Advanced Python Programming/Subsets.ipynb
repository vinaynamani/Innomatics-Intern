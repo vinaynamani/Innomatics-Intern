{
 "cells": [
  {
   "cell_type": "code",
   "execution_count": 1,
   "id": "1e13ac39",
   "metadata": {},
   "outputs": [],
   "source": [
    "import itertools"
   ]
  },
  {
   "cell_type": "code",
   "execution_count": 13,
   "id": "c9fd90c4",
   "metadata": {},
   "outputs": [
    {
     "name": "stdout",
     "output_type": "stream",
     "text": [
      "[[], [1], [2], [3], [1, 2], [1, 3], [2, 3], [1, 2, 3]]\n"
     ]
    }
   ],
   "source": [
    "def_set = [1,2,3]\n",
    "subsets = [[]]\n",
    "for i in range(1,len(def_set)+1):\n",
    "    sset = list(map(list,itertools.combinations(def_set,i)))\n",
    "#     print(sset)\n",
    "    if sset not in subsets:\n",
    "        subsets.extend(sset)\n",
    "print(subsets)"
   ]
  },
  {
   "cell_type": "code",
   "execution_count": 49,
   "id": "a913c0e7",
   "metadata": {},
   "outputs": [],
   "source": [
    "pattern = \"[789]\\d{9}$\""
   ]
  },
  {
   "cell_type": "code",
   "execution_count": 50,
   "id": "18e1ae8f",
   "metadata": {},
   "outputs": [],
   "source": [
    "import re"
   ]
  },
  {
   "cell_type": "code",
   "execution_count": 51,
   "id": "861cecf3",
   "metadata": {},
   "outputs": [
    {
     "name": "stdout",
     "output_type": "stream",
     "text": [
      "3\n",
      "8956324712\n",
      "YES\n",
      "FACBGEGADB\n",
      "NO\n",
      "85234789651\n",
      "NO\n"
     ]
    }
   ],
   "source": [
    "N = int(input())\n",
    "for i in range(N):\n",
    "    string = input()\n",
    "    op = re.match(pattern,string)\n",
    "    if op :\n",
    "        print(\"YES\")\n",
    "    else:\n",
    "        print(\"NO\")"
   ]
  },
  {
   "cell_type": "code",
   "execution_count": 43,
   "id": "cdac4b7e",
   "metadata": {},
   "outputs": [],
   "source": [
    "# 3\n",
    "# 8956324712\n",
    "# FACBGEGADB\n",
    "# 85234789651"
   ]
  },
  {
   "cell_type": "code",
   "execution_count": null,
   "id": "e59053d1",
   "metadata": {},
   "outputs": [],
   "source": []
  }
 ],
 "metadata": {
  "kernelspec": {
   "display_name": "Python 3",
   "language": "python",
   "name": "python3"
  },
  "language_info": {
   "codemirror_mode": {
    "name": "ipython",
    "version": 3
   },
   "file_extension": ".py",
   "mimetype": "text/x-python",
   "name": "python",
   "nbconvert_exporter": "python",
   "pygments_lexer": "ipython3",
   "version": "3.9.6"
  }
 },
 "nbformat": 4,
 "nbformat_minor": 5
}
