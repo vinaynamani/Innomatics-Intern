{
 "cells": [
  {
   "cell_type": "markdown",
   "id": "5971c45c",
   "metadata": {},
   "source": [
    "# Task\n",
    "A group of five students enrolls in Statistics immediately after taking a Math aptitude test. Each student's Math aptitude test score,x, and Statistics course grade,y , can be expressed as the (x,y )following list of points:\n",
    "\n",
    "1. (95,85)\n",
    "2. (85,95)\n",
    "3. (80,70)\n",
    "4. (70,65)\n",
    "5. (60,70)\n",
    "\n",
    "If a student scored an 80 on the Math aptitude test, what grade would we expect them to achieve in Statistics? Determine the equation of the best-fit line using the least squares method, then compute and print the value of y when x = 80."
   ]
  },
  {
   "cell_type": "code",
   "execution_count": 1,
   "id": "e80476ad",
   "metadata": {},
   "outputs": [
    {
     "name": "stdout",
     "output_type": "stream",
     "text": [
      "78.288\n"
     ]
    }
   ],
   "source": [
    "import statistics as st\n",
    "n = 5\n",
    "x = [95, 85, 80, 70, 60]\n",
    "y = [85, 95, 70, 65, 70]\n",
    "mean_x = st.mean(x)\n",
    "mean_y = st.mean(y)\n",
    "x_squared = sum([x[i] ** 2 for i in range(5)])\n",
    "xy = sum([x[i]*y[i] for i in range(5)])\n",
    "b = (n * xy - sum(x) * sum(y)) / (n * x_squared - (sum(x) ** 2))\n",
    "a = mean_y - b * mean_x\n",
    "print (round(a + 80 * b, 3))"
   ]
  },
  {
   "cell_type": "code",
   "execution_count": null,
   "id": "f57cbdfd",
   "metadata": {},
   "outputs": [],
   "source": []
  }
 ],
 "metadata": {
  "kernelspec": {
   "display_name": "Python 3",
   "language": "python",
   "name": "python3"
  },
  "language_info": {
   "codemirror_mode": {
    "name": "ipython",
    "version": 3
   },
   "file_extension": ".py",
   "mimetype": "text/x-python",
   "name": "python",
   "nbconvert_exporter": "python",
   "pygments_lexer": "ipython3",
   "version": "3.9.6"
  }
 },
 "nbformat": 4,
 "nbformat_minor": 5
}
