{
 "cells": [
  {
   "cell_type": "markdown",
   "id": "9b73a9fa",
   "metadata": {},
   "source": [
    "## Task\n",
    "A manufacturer of metal pistons finds that, on average, 12% of the pistons they manufacture are rejected because they are incorrectly sized. What is the probability that a batch of 10 pistons will contain:\n",
    "\n",
    "    No more than 2 rejects?\n",
    "    At least 2 rejects?"
   ]
  },
  {
   "cell_type": "code",
   "execution_count": 1,
   "id": "de2a3ad2",
   "metadata": {},
   "outputs": [
    {
     "name": "stdout",
     "output_type": "stream",
     "text": [
      "12 10\n",
      "0.891\n",
      "0.342\n"
     ]
    }
   ],
   "source": [
    "from math import factorial\n",
    "\n",
    "\n",
    "def bino(n, x, p):\n",
    "    return factorial(n) // factorial(n - x) // factorial(x) * (p ** x) * (1 - p) ** (n - x)\n",
    "\n",
    "p,n = map(int, input().split())\n",
    "\n",
    "\n",
    "p = p / 100     \n",
    "\n",
    "r = bino(n, 0, p) + bino(n, 1, p) + bino(n, 2, p)     \n",
    "print(\"%.3f\" % r)\n",
    "\n",
    "r = sum(bino(n, i, p) for i in range(2, n + 1))    \n",
    "print(\"%.3f\" % r)"
   ]
  },
  {
   "cell_type": "code",
   "execution_count": null,
   "id": "5fceac88",
   "metadata": {},
   "outputs": [],
   "source": []
  }
 ],
 "metadata": {
  "kernelspec": {
   "display_name": "Python 3",
   "language": "python",
   "name": "python3"
  },
  "language_info": {
   "codemirror_mode": {
    "name": "ipython",
    "version": 3
   },
   "file_extension": ".py",
   "mimetype": "text/x-python",
   "name": "python",
   "nbconvert_exporter": "python",
   "pygments_lexer": "ipython3",
   "version": "3.9.6"
  }
 },
 "nbformat": 4,
 "nbformat_minor": 5
}
