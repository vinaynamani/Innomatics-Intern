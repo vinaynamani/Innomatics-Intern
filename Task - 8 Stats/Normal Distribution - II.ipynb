{
 "cells": [
  {
   "cell_type": "markdown",
   "id": "2c73e34a",
   "metadata": {},
   "source": [
    "# Task \n",
    "The final grades for a Physics exam taken by a large group of students have a mean = 70 and a standard deviation = 10 . If we can approximate the distribution of these grades by a normal distribution, what percentage of the students:\n",
    "\n",
    "    Scored higher than 80 (i.e., have a $grade &gt; 80$ )?\n",
    "    Passed the test (i.e., have a $grade \\geq 60$)?\n",
    "    Failed the test (i.e., have a $grade &lt; 60$)?\n"
   ]
  },
  {
   "cell_type": "code",
   "execution_count": 2,
   "id": "61b109c8",
   "metadata": {},
   "outputs": [
    {
     "name": "stdout",
     "output_type": "stream",
     "text": [
      "70 10\n",
      "80\n",
      "60\n",
      "15.87\n",
      "84.13\n",
      "15.87\n"
     ]
    }
   ],
   "source": [
    "initial_values = list(map(float, input().split()))\n",
    "mean = initial_values[0]\n",
    "std = initial_values[1]\n",
    "val_first_question = float(input())\n",
    "val_sec_third_question = float(input())\n",
    "\n",
    "import math\n",
    "def cumulative(mean, std, value):\n",
    "    return 0.5 * (1 + math.erf((value - mean) / (std * (2 ** 0.5))))\n",
    "\n",
    "print(round(100 - (cumulative(mean, std, val_first_question) * 100), 2))\n",
    "print(round(100 - (cumulative(mean, std, val_sec_third_question) * 100), 2))\n",
    "print(round(cumulative(mean, std, val_sec_third_question) * 100, 2))"
   ]
  },
  {
   "cell_type": "code",
   "execution_count": null,
   "id": "4624f00f",
   "metadata": {},
   "outputs": [],
   "source": []
  }
 ],
 "metadata": {
  "kernelspec": {
   "display_name": "Python 3",
   "language": "python",
   "name": "python3"
  },
  "language_info": {
   "codemirror_mode": {
    "name": "ipython",
    "version": 3
   },
   "file_extension": ".py",
   "mimetype": "text/x-python",
   "name": "python",
   "nbconvert_exporter": "python",
   "pygments_lexer": "ipython3",
   "version": "3.9.6"
  }
 },
 "nbformat": 4,
 "nbformat_minor": 5
}
