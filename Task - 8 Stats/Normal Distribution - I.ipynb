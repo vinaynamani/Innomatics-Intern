{
 "cells": [
  {
   "cell_type": "markdown",
   "id": "f927f833",
   "metadata": {},
   "source": [
    "## Task\n",
    "In a certain plant, the time taken to assemble a car is a random variable,X, having a normal distribution with a mean 20 of hours and a standard deviation of 2hours. What is the probability that a car can be assembled at this plant in:\n",
    "\n",
    "    Less than 19.5 hours?\n",
    "    Between 20 and 22 hours?"
   ]
  },
  {
   "cell_type": "code",
   "execution_count": 1,
   "id": "28977c46",
   "metadata": {},
   "outputs": [
    {
     "name": "stdout",
     "output_type": "stream",
     "text": [
      "20 2\n",
      "19.5\n",
      "20 22\n",
      "0.401\n",
      "0.341\n"
     ]
    }
   ],
   "source": [
    "import math\n",
    "def cumulative(mean, std, value):\n",
    "    return 0.5 * (1 + math.erf((value - mean) / (std * (2 ** 0.5))))\n",
    "initial_values = list(map(float, input().split()))\n",
    "mean = initial_values[0]\n",
    "std = initial_values[1]\n",
    "less_period = float(input())\n",
    "between_period = list(map(float, input().split()))\n",
    "print(round(cumulative(mean, std, less_period),3))\n",
    "print(round(cumulative(mean, std, between_period[1]) - cumulative(mean, std,between_period[0]), 3))"
   ]
  },
  {
   "cell_type": "code",
   "execution_count": null,
   "id": "02087f22",
   "metadata": {},
   "outputs": [],
   "source": []
  }
 ],
 "metadata": {
  "kernelspec": {
   "display_name": "Python 3",
   "language": "python",
   "name": "python3"
  },
  "language_info": {
   "codemirror_mode": {
    "name": "ipython",
    "version": 3
   },
   "file_extension": ".py",
   "mimetype": "text/x-python",
   "name": "python",
   "nbconvert_exporter": "python",
   "pygments_lexer": "ipython3",
   "version": "3.9.6"
  }
 },
 "nbformat": 4,
 "nbformat_minor": 5
}
