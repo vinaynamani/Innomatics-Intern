{
 "cells": [
  {
   "cell_type": "code",
   "execution_count": null,
   "id": "25ebbdbb",
   "metadata": {},
   "outputs": [],
   "source": [
    "from sklearn import linear_model\n",
    "m, n = map(int, input().split())\n",
    "X, Y = [], []\n",
    "for i in range(n):\n",
    "    x = [0]\n",
    "    elements = list(map(float, input().split()))\n",
    "    for j in range(len(elements)):\n",
    "        if j < m:\n",
    "            x.append(elements[j])\n",
    "        else:\n",
    "            Y.append(elements[j])\n",
    "    X.append(x)\n",
    "model = linear_model.LinearRegression()\n",
    "model.fit(X, Y)\n",
    "a = model.intercept_\n",
    "b = model.coef_\n",
    "q = int(input())\n",
    "new_X = []\n",
    "for i in range(q):\n",
    "    x = [0]\n",
    "    elements = list(map(float, input().split()))\n",
    "    for j in range(len(elements)):\n",
    "        x.append(elements[j])\n",
    "    new_X.append(x)\n",
    "result = model.predict(new_X)\n",
    "for i in range(len(result)):\n",
    "    print(round(result[i],2))"
   ]
  },
  {
   "cell_type": "markdown",
   "id": "e6e61df5",
   "metadata": {},
   "source": [
    "# Task \n",
    "Train a Multiple Linear Regression model with 2 features and 7 data points and predict the results for next 4 data points ."
   ]
  },
  {
   "cell_type": "code",
   "execution_count": 1,
   "id": "b7fa5510",
   "metadata": {},
   "outputs": [],
   "source": [
    "from sklearn.linear_model import LinearRegression"
   ]
  },
  {
   "cell_type": "code",
   "execution_count": 5,
   "id": "2636adb4",
   "metadata": {},
   "outputs": [
    {
     "name": "stdout",
     "output_type": "stream",
     "text": [
      "2 7\n",
      "0.18 0.89 109.85\n",
      "1.0 0.26 155.72\n",
      "0.92 0.11 137.66\n",
      "0.07 0.37 76.17\n",
      "0.85 0.16 139.75\n",
      "0.99 0.41 162.6\n",
      "0.87 0.47 151.77\n",
      "4\n",
      "0.49 0.18\n",
      "0.57 0.83\n",
      "0.56 0.64\n",
      "0.76 0.18\n",
      "105.21\n",
      "142.67\n",
      "132.94\n",
      "129.7\n"
     ]
    }
   ],
   "source": [
    "m,n = map(int,input().split())\n",
    "X,Y = [],[]\n",
    "for i in range(n):\n",
    "    x = [0]\n",
    "    points = list(map(float,input().split()))\n",
    "    for j in range(len(points)):\n",
    "        if j < m:\n",
    "            x.append(points[j])\n",
    "        else:\n",
    "            Y.append(points[j])\n",
    "    X.append(x)\n",
    "lrmodel = LinearRegression()\n",
    "lrmodel.fit(X,Y)\n",
    "m = lrmodel.coef_\n",
    "c = lrmodel.intercept_\n",
    "test_data = []\n",
    "next_n_points = int(input())\n",
    "for i in range(next_n_points):\n",
    "    x = [0]\n",
    "    points = list(map(float,input().split()))\n",
    "    for j in range(len(points)):\n",
    "        x.append(points[j])\n",
    "    test_data.append(x)\n",
    "preds = lrmodel.predict(test_data)\n",
    "for i in preds:\n",
    "    print(round(i,2))"
   ]
  },
  {
   "cell_type": "code",
   "execution_count": null,
   "id": "42293ec7",
   "metadata": {},
   "outputs": [],
   "source": []
  }
 ],
 "metadata": {
  "kernelspec": {
   "display_name": "Python 3",
   "language": "python",
   "name": "python3"
  },
  "language_info": {
   "codemirror_mode": {
    "name": "ipython",
    "version": 3
   },
   "file_extension": ".py",
   "mimetype": "text/x-python",
   "name": "python",
   "nbconvert_exporter": "python",
   "pygments_lexer": "ipython3",
   "version": "3.9.6"
  }
 },
 "nbformat": 4,
 "nbformat_minor": 5
}
