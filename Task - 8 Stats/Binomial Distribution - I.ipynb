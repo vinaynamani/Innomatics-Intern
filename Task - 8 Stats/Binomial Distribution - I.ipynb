{
 "cells": [
  {
   "cell_type": "markdown",
   "id": "80f4fb63",
   "metadata": {},
   "source": [
    "## Task\n",
    "The ratio of boys to girls for babies born in Russia is 1.09:1. If there is 1 child born per birth, what proportion of Russian families with exactly 6 children will have at least 3 boys?\n",
    "\n",
    "Write a program to compute the answer using the above parameters. Then print your result, rounded to a scale of 3 decimal places (i.e.,1.234 format)."
   ]
  },
  {
   "cell_type": "code",
   "execution_count": 3,
   "id": "f51ee6b6",
   "metadata": {},
   "outputs": [
    {
     "name": "stdout",
     "output_type": "stream",
     "text": [
      "1.09 1\n",
      "0.696\n"
     ]
    }
   ],
   "source": [
    "from math import factorial\n",
    "def bino(n, x, p):\n",
    "    return factorial(n) // factorial(n - x) // factorial(x) * (p ** x) * (1 - p) ** (n - x)\n",
    "\n",
    "\n",
    "b,g  = map(float, input().split())\n",
    "\n",
    "p = b / (b + g)\n",
    "\n",
    "r = bino(6, 3, p) + bino(6, 4, p) + bino(6, 5, p) + bino(6, 6, p)\n",
    "\n",
    "print(\"%.3f\" % r)"
   ]
  },
  {
   "cell_type": "code",
   "execution_count": null,
   "id": "a310019c",
   "metadata": {},
   "outputs": [],
   "source": []
  }
 ],
 "metadata": {
  "kernelspec": {
   "display_name": "Python 3",
   "language": "python",
   "name": "python3"
  },
  "language_info": {
   "codemirror_mode": {
    "name": "ipython",
    "version": 3
   },
   "file_extension": ".py",
   "mimetype": "text/x-python",
   "name": "python",
   "nbconvert_exporter": "python",
   "pygments_lexer": "ipython3",
   "version": "3.9.6"
  }
 },
 "nbformat": 4,
 "nbformat_minor": 5
}
