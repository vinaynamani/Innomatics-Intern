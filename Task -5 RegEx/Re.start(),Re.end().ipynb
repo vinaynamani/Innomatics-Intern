{
 "cells": [
  {
   "cell_type": "code",
   "execution_count": 1,
   "id": "d2769e42",
   "metadata": {},
   "outputs": [],
   "source": [
    "import re"
   ]
  },
  {
   "cell_type": "code",
   "execution_count": 2,
   "id": "c50604a1",
   "metadata": {},
   "outputs": [],
   "source": [
    "m = re.search(r\"\\d+\",\"1234\")"
   ]
  },
  {
   "cell_type": "code",
   "execution_count": 3,
   "id": "bcf2541e",
   "metadata": {},
   "outputs": [
    {
     "data": {
      "text/plain": [
       "4"
      ]
     },
     "execution_count": 3,
     "metadata": {},
     "output_type": "execute_result"
    }
   ],
   "source": [
    "m.end()"
   ]
  },
  {
   "cell_type": "code",
   "execution_count": 4,
   "id": "9238f1bb",
   "metadata": {},
   "outputs": [
    {
     "data": {
      "text/plain": [
       "0"
      ]
     },
     "execution_count": 4,
     "metadata": {},
     "output_type": "execute_result"
    }
   ],
   "source": [
    "m.start()"
   ]
  },
  {
   "cell_type": "code",
   "execution_count": 31,
   "id": "3c7d2267",
   "metadata": {},
   "outputs": [
    {
     "name": "stdout",
     "output_type": "stream",
     "text": [
      "(0,1)\n",
      "(1,2)\n",
      "(4,5)\n"
     ]
    }
   ],
   "source": [
    "s = \"aaabaa\"\n",
    "k = \"aa\"\n",
    "pattern = re.compile(k)\n",
    "r = pattern.search(s)\n",
    "if not r:\n",
    "    print(\"(-1,-1)\")\n",
    "while r:\n",
    "    print(f\"({r.start()}, {r.end()-1})\")\n",
    "    r = pattern.search(s,r.start()+1)"
   ]
  },
  {
   "cell_type": "code",
   "execution_count": null,
   "id": "d7fa04f6",
   "metadata": {},
   "outputs": [],
   "source": []
  }
 ],
 "metadata": {
  "kernelspec": {
   "display_name": "Python 3",
   "language": "python",
   "name": "python3"
  },
  "language_info": {
   "codemirror_mode": {
    "name": "ipython",
    "version": 3
   },
   "file_extension": ".py",
   "mimetype": "text/x-python",
   "name": "python",
   "nbconvert_exporter": "python",
   "pygments_lexer": "ipython3",
   "version": "3.9.6"
  }
 },
 "nbformat": 4,
 "nbformat_minor": 5
}
