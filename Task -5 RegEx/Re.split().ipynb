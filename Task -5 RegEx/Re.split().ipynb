{
 "cells": [
  {
   "cell_type": "code",
   "execution_count": 2,
   "id": "289ef64b",
   "metadata": {},
   "outputs": [],
   "source": [
    "import re"
   ]
  },
  {
   "cell_type": "code",
   "execution_count": 3,
   "id": "afdef57b",
   "metadata": {},
   "outputs": [],
   "source": [
    "regex_pattern = r\"[,.]\""
   ]
  },
  {
   "cell_type": "code",
   "execution_count": 8,
   "id": "fe111cf9",
   "metadata": {},
   "outputs": [
    {
     "name": "stdout",
     "output_type": "stream",
     "text": [
      "********************OUTPUT********************\n",
      "100,000,000.000\n",
      "100\n",
      "000\n",
      "000\n",
      "000\n",
      "********************OUTPUT********************\n"
     ]
    }
   ],
   "source": [
    "print(20*\"*\" + \"OUTPUT\" + 20*\"*\")\n",
    "print(\"\\n\".join(re.split(regex_pattern,input())))\n",
    "print(20*\"*\" + \"OUTPUT\" + 20*\"*\")"
   ]
  },
  {
   "cell_type": "code",
   "execution_count": null,
   "id": "6d37412c",
   "metadata": {},
   "outputs": [],
   "source": []
  }
 ],
 "metadata": {
  "kernelspec": {
   "display_name": "Python 3",
   "language": "python",
   "name": "python3"
  },
  "language_info": {
   "codemirror_mode": {
    "name": "ipython",
    "version": 3
   },
   "file_extension": ".py",
   "mimetype": "text/x-python",
   "name": "python",
   "nbconvert_exporter": "python",
   "pygments_lexer": "ipython3",
   "version": "3.9.6"
  }
 },
 "nbformat": 4,
 "nbformat_minor": 5
}
