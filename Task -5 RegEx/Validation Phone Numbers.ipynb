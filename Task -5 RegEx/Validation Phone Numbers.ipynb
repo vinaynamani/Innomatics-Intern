{
 "cells": [
  {
   "cell_type": "code",
   "execution_count": 1,
   "id": "7cf83949",
   "metadata": {},
   "outputs": [
    {
     "name": "stdout",
     "output_type": "stream",
     "text": [
      "3\n",
      "8956324712\n",
      "YES\n",
      "FACBGEGADB\n",
      "NO\n",
      "85234789651\n",
      "NO\n"
     ]
    }
   ],
   "source": [
    "import re\n",
    "pattern = \"[789]\\d{9}$\"\n",
    "N = int(input())\n",
    "for i in range(N):\n",
    "    string = input()\n",
    "    op = re.match(pattern,string)\n",
    "    if op :\n",
    "        print(\"YES\")\n",
    "    else:\n",
    "        print(\"NO\")"
   ]
  },
  {
   "cell_type": "code",
   "execution_count": null,
   "id": "8d83de2b",
   "metadata": {},
   "outputs": [],
   "source": []
  }
 ],
 "metadata": {
  "kernelspec": {
   "display_name": "Python 3",
   "language": "python",
   "name": "python3"
  },
  "language_info": {
   "codemirror_mode": {
    "name": "ipython",
    "version": 3
   },
   "file_extension": ".py",
   "mimetype": "text/x-python",
   "name": "python",
   "nbconvert_exporter": "python",
   "pygments_lexer": "ipython3",
   "version": "3.9.6"
  }
 },
 "nbformat": 4,
 "nbformat_minor": 5
}
