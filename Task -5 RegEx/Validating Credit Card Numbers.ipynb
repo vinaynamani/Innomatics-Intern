{
 "cells": [
  {
   "cell_type": "code",
   "execution_count": 3,
   "id": "6ae1f4bd",
   "metadata": {},
   "outputs": [
    {
     "name": "stdout",
     "output_type": "stream",
     "text": [
      "6\n",
      "4123456789123456\n",
      "Valid\n",
      "5123-4567-8912-3456\n",
      "Valid\n",
      "61234-567-8912-3456\n",
      "Invalid\n",
      "4123356789123456\n",
      "Valid\n",
      "5133-3367-8912-3456\n",
      "Valid\n",
      "5123 - 3567 - 8912 - 3456\n",
      "Invalid\n"
     ]
    }
   ],
   "source": [
    "import re\n",
    "N = int(input())\n",
    "for i in range(N):\n",
    "    pattern = \"^[456]{4}-?[\\d]{4}-?[\\d]{4}-?[\\d]{4}$\"\n",
    "    op = re.match(pattern,input())\n",
    "    if op :\n",
    "        print(\"Valid\")\n",
    "    else:\n",
    "        print(\"Invalid\")"
   ]
  },
  {
   "cell_type": "code",
   "execution_count": 2,
   "id": "eadfe0bf",
   "metadata": {},
   "outputs": [],
   "source": [
    "# 4123456789123456\n",
    "# 5123-4567-8912-3456\n",
    "# 61234-567-8912-3456\n",
    "# 4123356789123456\n",
    "# 5133-3367-8912-3456\n",
    "# 5123 - 3567 - 8912 - 3456"
   ]
  },
  {
   "cell_type": "code",
   "execution_count": null,
   "id": "8ad169cd",
   "metadata": {},
   "outputs": [],
   "source": []
  }
 ],
 "metadata": {
  "kernelspec": {
   "display_name": "Python 3",
   "language": "python",
   "name": "python3"
  },
  "language_info": {
   "codemirror_mode": {
    "name": "ipython",
    "version": 3
   },
   "file_extension": ".py",
   "mimetype": "text/x-python",
   "name": "python",
   "nbconvert_exporter": "python",
   "pygments_lexer": "ipython3",
   "version": "3.9.6"
  }
 },
 "nbformat": 4,
 "nbformat_minor": 5
}
