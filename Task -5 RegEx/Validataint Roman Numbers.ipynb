{
 "cells": [
  {
   "cell_type": "code",
   "execution_count": 3,
   "id": "d82cb586",
   "metadata": {},
   "outputs": [],
   "source": [
    "import re\n",
    "\n",
    "thousand = \"M{0,3}\"\n",
    "hundred = \"(C[MD]|D?C{0,3})\"\n",
    "ten = \"(X[CL]|L?X{0,3})\"\n",
    "ones = \"(I[VX]|V?I{0,3})\"\n",
    "\n",
    "pattern = r\"%s%s%s%s\" % (thousand,hundred,ten,ones)"
   ]
  },
  {
   "cell_type": "code",
   "execution_count": 5,
   "id": "279851cd",
   "metadata": {},
   "outputs": [
    {
     "name": "stdout",
     "output_type": "stream",
     "text": [
      "CDXXI\n"
     ]
    },
    {
     "data": {
      "text/plain": [
       "True"
      ]
     },
     "execution_count": 5,
     "metadata": {},
     "output_type": "execute_result"
    }
   ],
   "source": [
    "bool(re.match(pattern,input()))"
   ]
  },
  {
   "cell_type": "code",
   "execution_count": null,
   "id": "306580d5",
   "metadata": {},
   "outputs": [],
   "source": []
  }
 ],
 "metadata": {
  "kernelspec": {
   "display_name": "Python 3",
   "language": "python",
   "name": "python3"
  },
  "language_info": {
   "codemirror_mode": {
    "name": "ipython",
    "version": 3
   },
   "file_extension": ".py",
   "mimetype": "text/x-python",
   "name": "python",
   "nbconvert_exporter": "python",
   "pygments_lexer": "ipython3",
   "version": "3.9.6"
  }
 },
 "nbformat": 4,
 "nbformat_minor": 5
}
