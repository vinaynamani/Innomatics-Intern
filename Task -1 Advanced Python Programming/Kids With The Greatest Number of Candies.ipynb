{
 "cells": [
  {
   "cell_type": "code",
   "execution_count": 4,
   "id": "60bc75b7",
   "metadata": {},
   "outputs": [],
   "source": [
    "def kidWithCandies(candies,extraCandies):\n",
    "    Greatest_candies = max(candies)\n",
    "    Output = []\n",
    "    for i in candies:\n",
    "        total_candies = i + extraCandies\n",
    "        Output.append(total_candies >= Greatest_candies)\n",
    "    return Output"
   ]
  },
  {
   "cell_type": "code",
   "execution_count": 5,
   "id": "c23c3cd0",
   "metadata": {},
   "outputs": [],
   "source": [
    "candies = [2,3,5,1,3]\n",
    "extraCandies = 3"
   ]
  },
  {
   "cell_type": "code",
   "execution_count": 6,
   "id": "6a096064",
   "metadata": {},
   "outputs": [
    {
     "data": {
      "text/plain": [
       "[True, True, True, False, True]"
      ]
     },
     "execution_count": 6,
     "metadata": {},
     "output_type": "execute_result"
    }
   ],
   "source": [
    "kidWithCandies(candies,extraCandies)"
   ]
  },
  {
   "cell_type": "code",
   "execution_count": 8,
   "id": "fdce6b17",
   "metadata": {},
   "outputs": [],
   "source": [
    "candies = [4,2,1,1,2]\n",
    "extraCandies = 1"
   ]
  },
  {
   "cell_type": "code",
   "execution_count": 9,
   "id": "e689ac53",
   "metadata": {},
   "outputs": [
    {
     "data": {
      "text/plain": [
       "[True, False, False, False, False]"
      ]
     },
     "execution_count": 9,
     "metadata": {},
     "output_type": "execute_result"
    }
   ],
   "source": [
    "kidWithCandies(candies,extraCandies)"
   ]
  },
  {
   "cell_type": "code",
   "execution_count": null,
   "id": "edd55329",
   "metadata": {},
   "outputs": [],
   "source": []
  }
 ],
 "metadata": {
  "kernelspec": {
   "display_name": "Python 3",
   "language": "python",
   "name": "python3"
  },
  "language_info": {
   "codemirror_mode": {
    "name": "ipython",
    "version": 3
   },
   "file_extension": ".py",
   "mimetype": "text/x-python",
   "name": "python",
   "nbconvert_exporter": "python",
   "pygments_lexer": "ipython3",
   "version": "3.9.6"
  }
 },
 "nbformat": 4,
 "nbformat_minor": 5
}
