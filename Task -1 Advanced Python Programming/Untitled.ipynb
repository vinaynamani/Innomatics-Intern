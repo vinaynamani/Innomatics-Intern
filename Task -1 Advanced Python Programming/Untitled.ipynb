{
 "cells": [
  {
   "cell_type": "code",
   "execution_count": 9,
   "id": "6f5c7b53",
   "metadata": {},
   "outputs": [
    {
     "name": "stdout",
     "output_type": "stream",
     "text": [
      "1[.]1[.]1[.]1\n"
     ]
    }
   ],
   "source": [
    "address = \"1.1.1.1\"\n",
    "if \".\" in address:\n",
    "    address = address.replace(\".\",\"[.]\")\n",
    "    print(address)"
   ]
  },
  {
   "cell_type": "code",
   "execution_count": null,
   "id": "b4f73d0e",
   "metadata": {},
   "outputs": [],
   "source": []
  },
  {
   "cell_type": "code",
   "execution_count": 13,
   "id": "0d908c88",
   "metadata": {},
   "outputs": [
    {
     "name": "stdout",
     "output_type": "stream",
     "text": [
      "2\n"
     ]
    }
   ],
   "source": [
    "nums = [12,345,2,6,7896]\n",
    "evens = []\n",
    "for num in nums:\n",
    "    length = len(str(num))\n",
    "    if length % 2 == 0:\n",
    "        evens.append(num)\n",
    "print(len(evens))"
   ]
  },
  {
   "cell_type": "code",
   "execution_count": 37,
   "id": "8ed5128b",
   "metadata": {},
   "outputs": [],
   "source": [
    "nums = [1,2,3,1,1,3]\n",
    "pairs = []\n",
    "for i in range(0,len(nums)):\n",
    "    for j in range(0,len(nums)):\n",
    "        if nums[i] == nums[j]:\n",
    "            lst = list([nums.index(nums[i]),nums.index(nums[j])])\n",
    "            if lst not in pairs:\n",
    "                pairs.append(lst)"
   ]
  },
  {
   "cell_type": "code",
   "execution_count": 38,
   "id": "e9c204e5",
   "metadata": {},
   "outputs": [
    {
     "data": {
      "text/plain": [
       "[[0, 0], [1, 1], [2, 2]]"
      ]
     },
     "execution_count": 38,
     "metadata": {},
     "output_type": "execute_result"
    }
   ],
   "source": [
    "pairs"
   ]
  },
  {
   "cell_type": "code",
   "execution_count": null,
   "id": "ed4ee4ed",
   "metadata": {},
   "outputs": [],
   "source": []
  }
 ],
 "metadata": {
  "kernelspec": {
   "display_name": "Python 3",
   "language": "python",
   "name": "python3"
  },
  "language_info": {
   "codemirror_mode": {
    "name": "ipython",
    "version": 3
   },
   "file_extension": ".py",
   "mimetype": "text/x-python",
   "name": "python",
   "nbconvert_exporter": "python",
   "pygments_lexer": "ipython3",
   "version": "3.9.6"
  }
 },
 "nbformat": 4,
 "nbformat_minor": 5
}
