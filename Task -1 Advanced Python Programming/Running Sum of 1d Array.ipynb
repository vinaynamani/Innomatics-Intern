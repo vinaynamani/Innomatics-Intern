{
 "cells": [
  {
   "cell_type": "code",
   "execution_count": 35,
   "id": "ab3e9ce7",
   "metadata": {},
   "outputs": [],
   "source": [
    "def running_sum(nums):\n",
    "    running_sum = []\n",
    "    for i in range(0,len(nums)):\n",
    "        sum_i = sum(nums[0:i+1])\n",
    "        running_sum.append(sum_i)\n",
    "    return running_sum"
   ]
  },
  {
   "cell_type": "code",
   "execution_count": 40,
   "id": "d3bc6723",
   "metadata": {},
   "outputs": [],
   "source": [
    "lst = [3,1,2,10,1]"
   ]
  },
  {
   "cell_type": "code",
   "execution_count": 41,
   "id": "6d1aef75",
   "metadata": {},
   "outputs": [
    {
     "data": {
      "text/plain": [
       "[3, 4, 6, 16, 17]"
      ]
     },
     "execution_count": 41,
     "metadata": {},
     "output_type": "execute_result"
    }
   ],
   "source": [
    "running_sum(lst)"
   ]
  },
  {
   "cell_type": "code",
   "execution_count": null,
   "id": "fc7a4e03",
   "metadata": {},
   "outputs": [],
   "source": []
  }
 ],
 "metadata": {
  "kernelspec": {
   "display_name": "Python 3",
   "language": "python",
   "name": "python3"
  },
  "language_info": {
   "codemirror_mode": {
    "name": "ipython",
    "version": 3
   },
   "file_extension": ".py",
   "mimetype": "text/x-python",
   "name": "python",
   "nbconvert_exporter": "python",
   "pygments_lexer": "ipython3",
   "version": "3.9.6"
  }
 },
 "nbformat": 4,
 "nbformat_minor": 5
}
