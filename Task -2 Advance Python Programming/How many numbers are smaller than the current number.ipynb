{
 "cells": [
  {
   "cell_type": "code",
   "execution_count": 1,
   "id": "34d709e2",
   "metadata": {},
   "outputs": [
    {
     "name": "stdout",
     "output_type": "stream",
     "text": [
      "[4, 0, 1, 1, 3]\n"
     ]
    }
   ],
   "source": [
    "nums = [8,1,2,2,3]\n",
    "total = []\n",
    "for i in range(len(nums)):\n",
    "    count = 0\n",
    "    for j in range(0 , len(nums)):\n",
    "        if nums[i] > nums[j]:\n",
    "            count = count + 1\n",
    "    total.append(count)\n",
    "    \n",
    "print(total)"
   ]
  },
  {
   "cell_type": "code",
   "execution_count": null,
   "id": "8f95d865",
   "metadata": {},
   "outputs": [],
   "source": []
  }
 ],
 "metadata": {
  "kernelspec": {
   "display_name": "Python 3",
   "language": "python",
   "name": "python3"
  },
  "language_info": {
   "codemirror_mode": {
    "name": "ipython",
    "version": 3
   },
   "file_extension": ".py",
   "mimetype": "text/x-python",
   "name": "python",
   "nbconvert_exporter": "python",
   "pygments_lexer": "ipython3",
   "version": "3.9.6"
  }
 },
 "nbformat": 4,
 "nbformat_minor": 5
}
