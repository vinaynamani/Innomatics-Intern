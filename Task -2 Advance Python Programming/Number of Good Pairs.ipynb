{
 "cells": [
  {
   "cell_type": "code",
   "execution_count": 1,
   "id": "69667fda",
   "metadata": {},
   "outputs": [
    {
     "name": "stdout",
     "output_type": "stream",
     "text": [
      "4\n"
     ]
    }
   ],
   "source": [
    "nums = [1,2,3,1,1,3]\n",
    "pairs = []\n",
    "for i in range(len(nums)):\n",
    "    for j in range(i+1 , len(nums)):\n",
    "        if nums[i] == nums[j]:\n",
    "            pairs.append([i,j])\n",
    "            \n",
    "print(len(pairs))\n",
    "# print(pairs)"
   ]
  },
  {
   "cell_type": "code",
   "execution_count": null,
   "id": "ec25026a",
   "metadata": {},
   "outputs": [],
   "source": []
  }
 ],
 "metadata": {
  "kernelspec": {
   "display_name": "Python 3",
   "language": "python",
   "name": "python3"
  },
  "language_info": {
   "codemirror_mode": {
    "name": "ipython",
    "version": 3
   },
   "file_extension": ".py",
   "mimetype": "text/x-python",
   "name": "python",
   "nbconvert_exporter": "python",
   "pygments_lexer": "ipython3",
   "version": "3.9.6"
  }
 },
 "nbformat": 4,
 "nbformat_minor": 5
}
