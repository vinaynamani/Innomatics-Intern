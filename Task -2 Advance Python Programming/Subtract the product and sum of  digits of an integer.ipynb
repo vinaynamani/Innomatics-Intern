{
 "cells": [
  {
   "cell_type": "code",
   "execution_count": 3,
   "id": "452ee4e7",
   "metadata": {},
   "outputs": [
    {
     "name": "stdout",
     "output_type": "stream",
     "text": [
      "15\n"
     ]
    }
   ],
   "source": [
    "n = 234\n",
    "n = str(n)\n",
    "sum_n = 0\n",
    "prod_n = 1\n",
    "for i in n:\n",
    "    i = int(i)\n",
    "    sum_n = sum_n + i\n",
    "    prod_n = prod_n * i\n",
    "print(prod_n - sum_n)"
   ]
  },
  {
   "cell_type": "code",
   "execution_count": null,
   "id": "96e8e500",
   "metadata": {},
   "outputs": [],
   "source": []
  }
 ],
 "metadata": {
  "kernelspec": {
   "display_name": "Python 3",
   "language": "python",
   "name": "python3"
  },
  "language_info": {
   "codemirror_mode": {
    "name": "ipython",
    "version": 3
   },
   "file_extension": ".py",
   "mimetype": "text/x-python",
   "name": "python",
   "nbconvert_exporter": "python",
   "pygments_lexer": "ipython3",
   "version": "3.9.6"
  }
 },
 "nbformat": 4,
 "nbformat_minor": 5
}
