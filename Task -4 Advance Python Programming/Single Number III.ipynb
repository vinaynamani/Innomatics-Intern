{
 "cells": [
  {
   "cell_type": "code",
   "execution_count": 2,
   "id": "292de87d",
   "metadata": {},
   "outputs": [
    {
     "name": "stdout",
     "output_type": "stream",
     "text": [
      "[3, 5]\n"
     ]
    }
   ],
   "source": [
    "nums = [1,2,1,3,2,5]\n",
    "singles = []\n",
    "for i in nums:\n",
    "    if nums.count(i) == 1:\n",
    "        singles.append(i)\n",
    "print(singles)"
   ]
  },
  {
   "cell_type": "code",
   "execution_count": null,
   "id": "5ff1931a",
   "metadata": {},
   "outputs": [],
   "source": []
  }
 ],
 "metadata": {
  "kernelspec": {
   "display_name": "Python 3",
   "language": "python",
   "name": "python3"
  },
  "language_info": {
   "codemirror_mode": {
    "name": "ipython",
    "version": 3
   },
   "file_extension": ".py",
   "mimetype": "text/x-python",
   "name": "python",
   "nbconvert_exporter": "python",
   "pygments_lexer": "ipython3",
   "version": "3.9.6"
  }
 },
 "nbformat": 4,
 "nbformat_minor": 5
}
