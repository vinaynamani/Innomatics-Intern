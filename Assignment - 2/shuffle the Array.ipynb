{
 "cells": [
  {
   "cell_type": "code",
   "execution_count": 7,
   "id": "40e479bf",
   "metadata": {},
   "outputs": [],
   "source": [
    "def shuffle(nums,n):\n",
    "    shuffled_list = []\n",
    "    for i in range(0,len(nums)-n):\n",
    "        shuffled_list.extend([nums[i],nums[i+n]])\n",
    "    return shuffled_list"
   ]
  },
  {
   "cell_type": "code",
   "execution_count": 10,
   "id": "bf96b769",
   "metadata": {},
   "outputs": [],
   "source": [
    "nums = [1,2,3,4,4,3,2,1] \n",
    "n = 4"
   ]
  },
  {
   "cell_type": "code",
   "execution_count": 11,
   "id": "14b9be13",
   "metadata": {},
   "outputs": [
    {
     "data": {
      "text/plain": [
       "[1, 4, 2, 3, 3, 2, 4, 1]"
      ]
     },
     "execution_count": 11,
     "metadata": {},
     "output_type": "execute_result"
    }
   ],
   "source": [
    "shuffle(nums,n)"
   ]
  },
  {
   "cell_type": "code",
   "execution_count": null,
   "id": "02bf598a",
   "metadata": {},
   "outputs": [],
   "source": []
  }
 ],
 "metadata": {
  "kernelspec": {
   "display_name": "Python 3",
   "language": "python",
   "name": "python3"
  },
  "language_info": {
   "codemirror_mode": {
    "name": "ipython",
    "version": 3
   },
   "file_extension": ".py",
   "mimetype": "text/x-python",
   "name": "python",
   "nbconvert_exporter": "python",
   "pygments_lexer": "ipython3",
   "version": "3.9.6"
  }
 },
 "nbformat": 4,
 "nbformat_minor": 5
}
