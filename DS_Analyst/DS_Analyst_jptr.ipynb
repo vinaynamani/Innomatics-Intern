{
 "cells": [
  {
   "cell_type": "code",
   "execution_count": 153,
   "id": "71928967",
   "metadata": {},
   "outputs": [],
   "source": [
    "# Import all the Neccessary Libraries\n",
    "import numpy as np\n",
    "import pandas as pd\n",
    "import matplotlib.pyplot as plt\n",
    "import seaborn as sns\n",
    "\n",
    "import missingno as mno\n",
    "\n",
    "import warnings\n",
    "warnings.filterwarnings(\"ignore\")\n",
    "\n",
    "%matplotlib inline\n",
    "\n",
    "from sklearn.model_selection import train_test_split,cross_val_score,StratifiedKFold\n",
    "from sklearn.linear_model import LogisticRegression\n",
    "from sklearn.tree import DecisionTreeClassifier\n",
    "from sklearn.ensemble import RandomForestClassifier\n",
    "from sklearn.svm import SVC\n",
    "from sklearn.neighbors import KNeighborsClassifier\n",
    "\n",
    "import tensorflow.keras as tf\n",
    "from tensorflow.keras.layers import Dense,Flatten,Dropout\n",
    "from tensorflow.keras.models import Sequential\n",
    "\n",
    "from sklearn.preprocessing import StandardScaler\n",
    "from sklearn.impute import KNNImputer\n",
    "from sklearn.model_selection import RandomizedSearchCV\n",
    "\n",
    "from imblearn.over_sampling import RandomOverSampler\n",
    "from imblearn.over_sampling import SMOTE\n",
    "\n",
    "from collections import Counter\n",
    "\n",
    "from sklearn.metrics import accuracy_score,confusion_matrix,classification_report\n",
    "\n",
    "plt.style.use(\"fivethirtyeight\")\n",
    "sns.set(style = \"ticks\")"
   ]
  },
  {
   "cell_type": "code",
   "execution_count": 3,
   "id": "ede36a97",
   "metadata": {},
   "outputs": [],
   "source": [
    "# Reading the DataFrame using Pandas Read_csv option\n",
    "df = pd.read_csv(\"Data Set.csv\")"
   ]
  },
  {
   "cell_type": "code",
   "execution_count": 4,
   "id": "92f4543e",
   "metadata": {},
   "outputs": [
    {
     "data": {
      "text/html": [
       "<div>\n",
       "<style scoped>\n",
       "    .dataframe tbody tr th:only-of-type {\n",
       "        vertical-align: middle;\n",
       "    }\n",
       "\n",
       "    .dataframe tbody tr th {\n",
       "        vertical-align: top;\n",
       "    }\n",
       "\n",
       "    .dataframe thead th {\n",
       "        text-align: right;\n",
       "    }\n",
       "</style>\n",
       "<table border=\"1\" class=\"dataframe\">\n",
       "  <thead>\n",
       "    <tr style=\"text-align: right;\">\n",
       "      <th></th>\n",
       "      <th>year</th>\n",
       "      <th>customer_id</th>\n",
       "      <th>phone_no</th>\n",
       "      <th>gender</th>\n",
       "      <th>age</th>\n",
       "      <th>no_of_days_subscribed</th>\n",
       "      <th>multi_screen</th>\n",
       "      <th>mail_subscribed</th>\n",
       "      <th>weekly_mins_watched</th>\n",
       "      <th>minimum_daily_mins</th>\n",
       "      <th>maximum_daily_mins</th>\n",
       "      <th>weekly_max_night_mins</th>\n",
       "      <th>videos_watched</th>\n",
       "      <th>maximum_days_inactive</th>\n",
       "      <th>customer_support_calls</th>\n",
       "      <th>churn</th>\n",
       "    </tr>\n",
       "  </thead>\n",
       "  <tbody>\n",
       "    <tr>\n",
       "      <th>0</th>\n",
       "      <td>2015</td>\n",
       "      <td>100198</td>\n",
       "      <td>409-8743</td>\n",
       "      <td>Female</td>\n",
       "      <td>36</td>\n",
       "      <td>62.0</td>\n",
       "      <td>no</td>\n",
       "      <td>no</td>\n",
       "      <td>148.35</td>\n",
       "      <td>12.2</td>\n",
       "      <td>16.81</td>\n",
       "      <td>82</td>\n",
       "      <td>1.0</td>\n",
       "      <td>4</td>\n",
       "      <td>1</td>\n",
       "      <td>0.0</td>\n",
       "    </tr>\n",
       "    <tr>\n",
       "      <th>1</th>\n",
       "      <td>2015</td>\n",
       "      <td>100643</td>\n",
       "      <td>340-5930</td>\n",
       "      <td>Female</td>\n",
       "      <td>39</td>\n",
       "      <td>149.0</td>\n",
       "      <td>no</td>\n",
       "      <td>no</td>\n",
       "      <td>294.45</td>\n",
       "      <td>7.7</td>\n",
       "      <td>33.37</td>\n",
       "      <td>87</td>\n",
       "      <td>3.0</td>\n",
       "      <td>3</td>\n",
       "      <td>2</td>\n",
       "      <td>0.0</td>\n",
       "    </tr>\n",
       "    <tr>\n",
       "      <th>2</th>\n",
       "      <td>2015</td>\n",
       "      <td>100756</td>\n",
       "      <td>372-3750</td>\n",
       "      <td>Female</td>\n",
       "      <td>65</td>\n",
       "      <td>126.0</td>\n",
       "      <td>no</td>\n",
       "      <td>no</td>\n",
       "      <td>87.30</td>\n",
       "      <td>11.9</td>\n",
       "      <td>9.89</td>\n",
       "      <td>91</td>\n",
       "      <td>1.0</td>\n",
       "      <td>4</td>\n",
       "      <td>5</td>\n",
       "      <td>1.0</td>\n",
       "    </tr>\n",
       "    <tr>\n",
       "      <th>3</th>\n",
       "      <td>2015</td>\n",
       "      <td>101595</td>\n",
       "      <td>331-4902</td>\n",
       "      <td>Female</td>\n",
       "      <td>24</td>\n",
       "      <td>131.0</td>\n",
       "      <td>no</td>\n",
       "      <td>yes</td>\n",
       "      <td>321.30</td>\n",
       "      <td>9.5</td>\n",
       "      <td>36.41</td>\n",
       "      <td>102</td>\n",
       "      <td>4.0</td>\n",
       "      <td>3</td>\n",
       "      <td>3</td>\n",
       "      <td>0.0</td>\n",
       "    </tr>\n",
       "    <tr>\n",
       "      <th>4</th>\n",
       "      <td>2015</td>\n",
       "      <td>101653</td>\n",
       "      <td>351-8398</td>\n",
       "      <td>Female</td>\n",
       "      <td>40</td>\n",
       "      <td>191.0</td>\n",
       "      <td>no</td>\n",
       "      <td>no</td>\n",
       "      <td>243.00</td>\n",
       "      <td>10.9</td>\n",
       "      <td>27.54</td>\n",
       "      <td>83</td>\n",
       "      <td>7.0</td>\n",
       "      <td>3</td>\n",
       "      <td>1</td>\n",
       "      <td>0.0</td>\n",
       "    </tr>\n",
       "  </tbody>\n",
       "</table>\n",
       "</div>"
      ],
      "text/plain": [
       "   year  customer_id  phone_no  gender  age  no_of_days_subscribed  \\\n",
       "0  2015       100198  409-8743  Female   36                   62.0   \n",
       "1  2015       100643  340-5930  Female   39                  149.0   \n",
       "2  2015       100756  372-3750  Female   65                  126.0   \n",
       "3  2015       101595  331-4902  Female   24                  131.0   \n",
       "4  2015       101653  351-8398  Female   40                  191.0   \n",
       "\n",
       "  multi_screen mail_subscribed  weekly_mins_watched  minimum_daily_mins  \\\n",
       "0           no              no               148.35                12.2   \n",
       "1           no              no               294.45                 7.7   \n",
       "2           no              no                87.30                11.9   \n",
       "3           no             yes               321.30                 9.5   \n",
       "4           no              no               243.00                10.9   \n",
       "\n",
       "   maximum_daily_mins  weekly_max_night_mins  videos_watched  \\\n",
       "0               16.81                     82             1.0   \n",
       "1               33.37                     87             3.0   \n",
       "2                9.89                     91             1.0   \n",
       "3               36.41                    102             4.0   \n",
       "4               27.54                     83             7.0   \n",
       "\n",
       "  maximum_days_inactive  customer_support_calls  churn  \n",
       "0                     4                       1    0.0  \n",
       "1                     3                       2    0.0  \n",
       "2                     4                       5    1.0  \n",
       "3                     3                       3    0.0  \n",
       "4                     3                       1    0.0  "
      ]
     },
     "execution_count": 4,
     "metadata": {},
     "output_type": "execute_result"
    }
   ],
   "source": [
    "# Looking at the top 5 records\n",
    "df.head()"
   ]
  },
  {
   "cell_type": "code",
   "execution_count": 5,
   "id": "39d05aab",
   "metadata": {},
   "outputs": [],
   "source": [
    "# By observing the above DataFrame we can clearly see that customer_id and phone_no \n",
    "# Dosen't provide any information for the Analysis so we can remove them\n",
    "df.drop(['customer_id','phone_no'],axis=1,inplace=True)"
   ]
  },
  {
   "cell_type": "code",
   "execution_count": 6,
   "id": "3f8519f9",
   "metadata": {},
   "outputs": [
    {
     "name": "stdout",
     "output_type": "stream",
     "text": [
      "<class 'pandas.core.frame.DataFrame'>\n",
      "RangeIndex: 2000 entries, 0 to 1999\n",
      "Data columns (total 14 columns):\n",
      " #   Column                  Non-Null Count  Dtype  \n",
      "---  ------                  --------------  -----  \n",
      " 0   year                    2000 non-null   int64  \n",
      " 1   gender                  1976 non-null   object \n",
      " 2   age                     2000 non-null   int64  \n",
      " 3   no_of_days_subscribed   1980 non-null   float64\n",
      " 4   multi_screen            2000 non-null   object \n",
      " 5   mail_subscribed         2000 non-null   object \n",
      " 6   weekly_mins_watched     1990 non-null   float64\n",
      " 7   minimum_daily_mins      2000 non-null   float64\n",
      " 8   maximum_daily_mins      2000 non-null   float64\n",
      " 9   weekly_max_night_mins   2000 non-null   int64  \n",
      " 10  videos_watched          1975 non-null   float64\n",
      " 11  maximum_days_inactive   1972 non-null   object \n",
      " 12  customer_support_calls  2000 non-null   int64  \n",
      " 13  churn                   1965 non-null   float64\n",
      "dtypes: float64(6), int64(4), object(4)\n",
      "memory usage: 218.9+ KB\n"
     ]
    }
   ],
   "source": [
    "# Basic info of the DataFrame\n",
    "df.info()"
   ]
  },
  {
   "cell_type": "code",
   "execution_count": 7,
   "id": "335bc237",
   "metadata": {},
   "outputs": [
    {
     "data": {
      "text/html": [
       "<div>\n",
       "<style scoped>\n",
       "    .dataframe tbody tr th:only-of-type {\n",
       "        vertical-align: middle;\n",
       "    }\n",
       "\n",
       "    .dataframe tbody tr th {\n",
       "        vertical-align: top;\n",
       "    }\n",
       "\n",
       "    .dataframe thead th {\n",
       "        text-align: right;\n",
       "    }\n",
       "</style>\n",
       "<table border=\"1\" class=\"dataframe\">\n",
       "  <thead>\n",
       "    <tr style=\"text-align: right;\">\n",
       "      <th></th>\n",
       "      <th>year</th>\n",
       "      <th>age</th>\n",
       "      <th>no_of_days_subscribed</th>\n",
       "      <th>weekly_mins_watched</th>\n",
       "      <th>minimum_daily_mins</th>\n",
       "      <th>maximum_daily_mins</th>\n",
       "      <th>weekly_max_night_mins</th>\n",
       "      <th>videos_watched</th>\n",
       "      <th>customer_support_calls</th>\n",
       "      <th>churn</th>\n",
       "    </tr>\n",
       "  </thead>\n",
       "  <tbody>\n",
       "    <tr>\n",
       "      <th>count</th>\n",
       "      <td>2000.000000</td>\n",
       "      <td>2000.00000</td>\n",
       "      <td>1980.000000</td>\n",
       "      <td>1990.000000</td>\n",
       "      <td>2000.000000</td>\n",
       "      <td>2000.000000</td>\n",
       "      <td>2000.000000</td>\n",
       "      <td>1975.000000</td>\n",
       "      <td>2000.000000</td>\n",
       "      <td>1965.000000</td>\n",
       "    </tr>\n",
       "    <tr>\n",
       "      <th>mean</th>\n",
       "      <td>2015.322000</td>\n",
       "      <td>38.69050</td>\n",
       "      <td>99.888384</td>\n",
       "      <td>454.721809</td>\n",
       "      <td>10.198700</td>\n",
       "      <td>30.620780</td>\n",
       "      <td>100.415500</td>\n",
       "      <td>4.488608</td>\n",
       "      <td>1.547000</td>\n",
       "      <td>0.133333</td>\n",
       "    </tr>\n",
       "    <tr>\n",
       "      <th>std</th>\n",
       "      <td>1.466762</td>\n",
       "      <td>10.20641</td>\n",
       "      <td>39.727167</td>\n",
       "      <td>2235.190834</td>\n",
       "      <td>2.785519</td>\n",
       "      <td>9.129165</td>\n",
       "      <td>19.529454</td>\n",
       "      <td>2.491067</td>\n",
       "      <td>1.315164</td>\n",
       "      <td>0.340021</td>\n",
       "    </tr>\n",
       "    <tr>\n",
       "      <th>min</th>\n",
       "      <td>2015.000000</td>\n",
       "      <td>18.00000</td>\n",
       "      <td>1.000000</td>\n",
       "      <td>0.000000</td>\n",
       "      <td>0.000000</td>\n",
       "      <td>0.000000</td>\n",
       "      <td>42.000000</td>\n",
       "      <td>0.000000</td>\n",
       "      <td>0.000000</td>\n",
       "      <td>0.000000</td>\n",
       "    </tr>\n",
       "    <tr>\n",
       "      <th>25%</th>\n",
       "      <td>2015.000000</td>\n",
       "      <td>32.00000</td>\n",
       "      <td>73.000000</td>\n",
       "      <td>219.450000</td>\n",
       "      <td>8.400000</td>\n",
       "      <td>24.735000</td>\n",
       "      <td>87.000000</td>\n",
       "      <td>3.000000</td>\n",
       "      <td>1.000000</td>\n",
       "      <td>0.000000</td>\n",
       "    </tr>\n",
       "    <tr>\n",
       "      <th>50%</th>\n",
       "      <td>2015.000000</td>\n",
       "      <td>37.00000</td>\n",
       "      <td>99.000000</td>\n",
       "      <td>271.875000</td>\n",
       "      <td>10.200000</td>\n",
       "      <td>30.590000</td>\n",
       "      <td>101.000000</td>\n",
       "      <td>4.000000</td>\n",
       "      <td>1.000000</td>\n",
       "      <td>0.000000</td>\n",
       "    </tr>\n",
       "    <tr>\n",
       "      <th>75%</th>\n",
       "      <td>2015.000000</td>\n",
       "      <td>44.00000</td>\n",
       "      <td>127.000000</td>\n",
       "      <td>326.212500</td>\n",
       "      <td>12.000000</td>\n",
       "      <td>36.797500</td>\n",
       "      <td>114.000000</td>\n",
       "      <td>6.000000</td>\n",
       "      <td>2.000000</td>\n",
       "      <td>0.000000</td>\n",
       "    </tr>\n",
       "    <tr>\n",
       "      <th>max</th>\n",
       "      <td>2022.000000</td>\n",
       "      <td>82.00000</td>\n",
       "      <td>243.000000</td>\n",
       "      <td>27990.000000</td>\n",
       "      <td>20.000000</td>\n",
       "      <td>59.640000</td>\n",
       "      <td>175.000000</td>\n",
       "      <td>19.000000</td>\n",
       "      <td>9.000000</td>\n",
       "      <td>1.000000</td>\n",
       "    </tr>\n",
       "  </tbody>\n",
       "</table>\n",
       "</div>"
      ],
      "text/plain": [
       "              year         age  no_of_days_subscribed  weekly_mins_watched  \\\n",
       "count  2000.000000  2000.00000            1980.000000          1990.000000   \n",
       "mean   2015.322000    38.69050              99.888384           454.721809   \n",
       "std       1.466762    10.20641              39.727167          2235.190834   \n",
       "min    2015.000000    18.00000               1.000000             0.000000   \n",
       "25%    2015.000000    32.00000              73.000000           219.450000   \n",
       "50%    2015.000000    37.00000              99.000000           271.875000   \n",
       "75%    2015.000000    44.00000             127.000000           326.212500   \n",
       "max    2022.000000    82.00000             243.000000         27990.000000   \n",
       "\n",
       "       minimum_daily_mins  maximum_daily_mins  weekly_max_night_mins  \\\n",
       "count         2000.000000         2000.000000            2000.000000   \n",
       "mean            10.198700           30.620780             100.415500   \n",
       "std              2.785519            9.129165              19.529454   \n",
       "min              0.000000            0.000000              42.000000   \n",
       "25%              8.400000           24.735000              87.000000   \n",
       "50%             10.200000           30.590000             101.000000   \n",
       "75%             12.000000           36.797500             114.000000   \n",
       "max             20.000000           59.640000             175.000000   \n",
       "\n",
       "       videos_watched  customer_support_calls        churn  \n",
       "count     1975.000000             2000.000000  1965.000000  \n",
       "mean         4.488608                1.547000     0.133333  \n",
       "std          2.491067                1.315164     0.340021  \n",
       "min          0.000000                0.000000     0.000000  \n",
       "25%          3.000000                1.000000     0.000000  \n",
       "50%          4.000000                1.000000     0.000000  \n",
       "75%          6.000000                2.000000     0.000000  \n",
       "max         19.000000                9.000000     1.000000  "
      ]
     },
     "execution_count": 7,
     "metadata": {},
     "output_type": "execute_result"
    }
   ],
   "source": [
    "# Statistical Description of the DataFrame\n",
    "df.describe()"
   ]
  },
  {
   "cell_type": "code",
   "execution_count": 8,
   "id": "8182babf",
   "metadata": {},
   "outputs": [
    {
     "data": {
      "text/plain": [
       "(2000, 14)"
      ]
     },
     "execution_count": 8,
     "metadata": {},
     "output_type": "execute_result"
    }
   ],
   "source": [
    "# Shape of the DataFrame\n",
    "df.shape"
   ]
  },
  {
   "cell_type": "code",
   "execution_count": 9,
   "id": "6ecdde85",
   "metadata": {},
   "outputs": [],
   "source": [
    "# Writing a function to Filter out the Missing Columns along with the DataType and Percentage of Missing values\n",
    "def missing_values(data):\n",
    "    cols_list = []\n",
    "    count_list = []\n",
    "    perc_list = []\n",
    "    d_type_list = []\n",
    "    unique_list = []\n",
    "    for col in data.columns:\n",
    "        count = data[col].isnull().sum()\n",
    "        if count > 0:\n",
    "            perc = count / data.shape[0]\n",
    "            cols_list.append(col)\n",
    "            count_list.append(count)\n",
    "            perc_list.append(perc)\n",
    "            unique_list.append(data[col].nunique())\n",
    "            d_type_list.append(data[col].dtypes)\n",
    "    missing_df = pd.DataFrame({\"Columns\":cols_list,\"NO.of.Missing_values\":count_list,\"Percentage\":perc_list,\"Unique\":unique_list,\"DataType\":d_type_list})\n",
    "    return missing_df"
   ]
  },
  {
   "cell_type": "code",
   "execution_count": 10,
   "id": "cc0e1871",
   "metadata": {},
   "outputs": [
    {
     "data": {
      "text/html": [
       "<div>\n",
       "<style scoped>\n",
       "    .dataframe tbody tr th:only-of-type {\n",
       "        vertical-align: middle;\n",
       "    }\n",
       "\n",
       "    .dataframe tbody tr th {\n",
       "        vertical-align: top;\n",
       "    }\n",
       "\n",
       "    .dataframe thead th {\n",
       "        text-align: right;\n",
       "    }\n",
       "</style>\n",
       "<table border=\"1\" class=\"dataframe\">\n",
       "  <thead>\n",
       "    <tr style=\"text-align: right;\">\n",
       "      <th></th>\n",
       "      <th>year</th>\n",
       "      <th>gender</th>\n",
       "      <th>age</th>\n",
       "      <th>no_of_days_subscribed</th>\n",
       "      <th>multi_screen</th>\n",
       "      <th>mail_subscribed</th>\n",
       "      <th>weekly_mins_watched</th>\n",
       "      <th>minimum_daily_mins</th>\n",
       "      <th>maximum_daily_mins</th>\n",
       "      <th>weekly_max_night_mins</th>\n",
       "      <th>videos_watched</th>\n",
       "      <th>maximum_days_inactive</th>\n",
       "      <th>customer_support_calls</th>\n",
       "      <th>churn</th>\n",
       "    </tr>\n",
       "  </thead>\n",
       "  <tbody>\n",
       "    <tr>\n",
       "      <th>0</th>\n",
       "      <td>2015</td>\n",
       "      <td>Female</td>\n",
       "      <td>36</td>\n",
       "      <td>62.0</td>\n",
       "      <td>no</td>\n",
       "      <td>no</td>\n",
       "      <td>148.35</td>\n",
       "      <td>12.2</td>\n",
       "      <td>16.81</td>\n",
       "      <td>82</td>\n",
       "      <td>1.0</td>\n",
       "      <td>4</td>\n",
       "      <td>1</td>\n",
       "      <td>0.0</td>\n",
       "    </tr>\n",
       "    <tr>\n",
       "      <th>1</th>\n",
       "      <td>2015</td>\n",
       "      <td>Female</td>\n",
       "      <td>39</td>\n",
       "      <td>149.0</td>\n",
       "      <td>no</td>\n",
       "      <td>no</td>\n",
       "      <td>294.45</td>\n",
       "      <td>7.7</td>\n",
       "      <td>33.37</td>\n",
       "      <td>87</td>\n",
       "      <td>3.0</td>\n",
       "      <td>3</td>\n",
       "      <td>2</td>\n",
       "      <td>0.0</td>\n",
       "    </tr>\n",
       "    <tr>\n",
       "      <th>2</th>\n",
       "      <td>2015</td>\n",
       "      <td>Female</td>\n",
       "      <td>65</td>\n",
       "      <td>126.0</td>\n",
       "      <td>no</td>\n",
       "      <td>no</td>\n",
       "      <td>87.30</td>\n",
       "      <td>11.9</td>\n",
       "      <td>9.89</td>\n",
       "      <td>91</td>\n",
       "      <td>1.0</td>\n",
       "      <td>4</td>\n",
       "      <td>5</td>\n",
       "      <td>1.0</td>\n",
       "    </tr>\n",
       "    <tr>\n",
       "      <th>3</th>\n",
       "      <td>2015</td>\n",
       "      <td>Female</td>\n",
       "      <td>24</td>\n",
       "      <td>131.0</td>\n",
       "      <td>no</td>\n",
       "      <td>yes</td>\n",
       "      <td>321.30</td>\n",
       "      <td>9.5</td>\n",
       "      <td>36.41</td>\n",
       "      <td>102</td>\n",
       "      <td>4.0</td>\n",
       "      <td>3</td>\n",
       "      <td>3</td>\n",
       "      <td>0.0</td>\n",
       "    </tr>\n",
       "    <tr>\n",
       "      <th>4</th>\n",
       "      <td>2015</td>\n",
       "      <td>Female</td>\n",
       "      <td>40</td>\n",
       "      <td>191.0</td>\n",
       "      <td>no</td>\n",
       "      <td>no</td>\n",
       "      <td>243.00</td>\n",
       "      <td>10.9</td>\n",
       "      <td>27.54</td>\n",
       "      <td>83</td>\n",
       "      <td>7.0</td>\n",
       "      <td>3</td>\n",
       "      <td>1</td>\n",
       "      <td>0.0</td>\n",
       "    </tr>\n",
       "  </tbody>\n",
       "</table>\n",
       "</div>"
      ],
      "text/plain": [
       "   year  gender  age  no_of_days_subscribed multi_screen mail_subscribed  \\\n",
       "0  2015  Female   36                   62.0           no              no   \n",
       "1  2015  Female   39                  149.0           no              no   \n",
       "2  2015  Female   65                  126.0           no              no   \n",
       "3  2015  Female   24                  131.0           no             yes   \n",
       "4  2015  Female   40                  191.0           no              no   \n",
       "\n",
       "   weekly_mins_watched  minimum_daily_mins  maximum_daily_mins  \\\n",
       "0               148.35                12.2               16.81   \n",
       "1               294.45                 7.7               33.37   \n",
       "2                87.30                11.9                9.89   \n",
       "3               321.30                 9.5               36.41   \n",
       "4               243.00                10.9               27.54   \n",
       "\n",
       "   weekly_max_night_mins  videos_watched maximum_days_inactive  \\\n",
       "0                     82             1.0                     4   \n",
       "1                     87             3.0                     3   \n",
       "2                     91             1.0                     4   \n",
       "3                    102             4.0                     3   \n",
       "4                     83             7.0                     3   \n",
       "\n",
       "   customer_support_calls  churn  \n",
       "0                       1    0.0  \n",
       "1                       2    0.0  \n",
       "2                       5    1.0  \n",
       "3                       3    0.0  \n",
       "4                       1    0.0  "
      ]
     },
     "execution_count": 10,
     "metadata": {},
     "output_type": "execute_result"
    }
   ],
   "source": [
    "df.head()"
   ]
  },
  {
   "cell_type": "code",
   "execution_count": 11,
   "id": "2797886f",
   "metadata": {},
   "outputs": [],
   "source": [
    "# from the above sample we can see that only gender, multi_screen and mail_subscribed \n",
    "# columns contains Object columns\n",
    "cat_cols = ['gender','multi_screen','mail_subscribed']"
   ]
  },
  {
   "cell_type": "code",
   "execution_count": 12,
   "id": "fa168cbe",
   "metadata": {},
   "outputs": [
    {
     "data": {
      "text/html": [
       "<div>\n",
       "<style scoped>\n",
       "    .dataframe tbody tr th:only-of-type {\n",
       "        vertical-align: middle;\n",
       "    }\n",
       "\n",
       "    .dataframe tbody tr th {\n",
       "        vertical-align: top;\n",
       "    }\n",
       "\n",
       "    .dataframe thead th {\n",
       "        text-align: right;\n",
       "    }\n",
       "</style>\n",
       "<table border=\"1\" class=\"dataframe\">\n",
       "  <thead>\n",
       "    <tr style=\"text-align: right;\">\n",
       "      <th></th>\n",
       "      <th>gender</th>\n",
       "      <th>multi_screen</th>\n",
       "      <th>mail_subscribed</th>\n",
       "    </tr>\n",
       "  </thead>\n",
       "  <tbody>\n",
       "    <tr>\n",
       "      <th>0</th>\n",
       "      <td>Female</td>\n",
       "      <td>no</td>\n",
       "      <td>no</td>\n",
       "    </tr>\n",
       "    <tr>\n",
       "      <th>1</th>\n",
       "      <td>Female</td>\n",
       "      <td>no</td>\n",
       "      <td>no</td>\n",
       "    </tr>\n",
       "    <tr>\n",
       "      <th>2</th>\n",
       "      <td>Female</td>\n",
       "      <td>no</td>\n",
       "      <td>no</td>\n",
       "    </tr>\n",
       "    <tr>\n",
       "      <th>3</th>\n",
       "      <td>Female</td>\n",
       "      <td>no</td>\n",
       "      <td>yes</td>\n",
       "    </tr>\n",
       "    <tr>\n",
       "      <th>4</th>\n",
       "      <td>Female</td>\n",
       "      <td>no</td>\n",
       "      <td>no</td>\n",
       "    </tr>\n",
       "    <tr>\n",
       "      <th>...</th>\n",
       "      <td>...</td>\n",
       "      <td>...</td>\n",
       "      <td>...</td>\n",
       "    </tr>\n",
       "    <tr>\n",
       "      <th>1995</th>\n",
       "      <td>Female</td>\n",
       "      <td>no</td>\n",
       "      <td>yes</td>\n",
       "    </tr>\n",
       "    <tr>\n",
       "      <th>1996</th>\n",
       "      <td>Male</td>\n",
       "      <td>no</td>\n",
       "      <td>no</td>\n",
       "    </tr>\n",
       "    <tr>\n",
       "      <th>1997</th>\n",
       "      <td>NaN</td>\n",
       "      <td>no</td>\n",
       "      <td>no</td>\n",
       "    </tr>\n",
       "    <tr>\n",
       "      <th>1998</th>\n",
       "      <td>Male</td>\n",
       "      <td>no</td>\n",
       "      <td>no</td>\n",
       "    </tr>\n",
       "    <tr>\n",
       "      <th>1999</th>\n",
       "      <td>Male</td>\n",
       "      <td>no</td>\n",
       "      <td>no</td>\n",
       "    </tr>\n",
       "  </tbody>\n",
       "</table>\n",
       "<p>2000 rows × 3 columns</p>\n",
       "</div>"
      ],
      "text/plain": [
       "      gender multi_screen mail_subscribed\n",
       "0     Female           no              no\n",
       "1     Female           no              no\n",
       "2     Female           no              no\n",
       "3     Female           no             yes\n",
       "4     Female           no              no\n",
       "...      ...          ...             ...\n",
       "1995  Female           no             yes\n",
       "1996    Male           no              no\n",
       "1997     NaN           no              no\n",
       "1998    Male           no              no\n",
       "1999    Male           no              no\n",
       "\n",
       "[2000 rows x 3 columns]"
      ]
     },
     "execution_count": 12,
     "metadata": {},
     "output_type": "execute_result"
    }
   ],
   "source": [
    "df[cat_cols]"
   ]
  },
  {
   "cell_type": "code",
   "execution_count": 13,
   "id": "8b6aa61f",
   "metadata": {},
   "outputs": [],
   "source": [
    "# Separating numerical columns from all the columns\n",
    "num_cols = [col for col in df.columns if col not in cat_cols]"
   ]
  },
  {
   "cell_type": "code",
   "execution_count": 14,
   "id": "7fd9e409",
   "metadata": {},
   "outputs": [
    {
     "data": {
      "text/html": [
       "<div>\n",
       "<style scoped>\n",
       "    .dataframe tbody tr th:only-of-type {\n",
       "        vertical-align: middle;\n",
       "    }\n",
       "\n",
       "    .dataframe tbody tr th {\n",
       "        vertical-align: top;\n",
       "    }\n",
       "\n",
       "    .dataframe thead th {\n",
       "        text-align: right;\n",
       "    }\n",
       "</style>\n",
       "<table border=\"1\" class=\"dataframe\">\n",
       "  <thead>\n",
       "    <tr style=\"text-align: right;\">\n",
       "      <th></th>\n",
       "      <th>Columns</th>\n",
       "      <th>NO.of.Missing_values</th>\n",
       "      <th>Percentage</th>\n",
       "      <th>Unique</th>\n",
       "      <th>DataType</th>\n",
       "    </tr>\n",
       "  </thead>\n",
       "  <tbody>\n",
       "    <tr>\n",
       "      <th>0</th>\n",
       "      <td>gender</td>\n",
       "      <td>24</td>\n",
       "      <td>0.0120</td>\n",
       "      <td>6</td>\n",
       "      <td>object</td>\n",
       "    </tr>\n",
       "    <tr>\n",
       "      <th>1</th>\n",
       "      <td>no_of_days_subscribed</td>\n",
       "      <td>20</td>\n",
       "      <td>0.0100</td>\n",
       "      <td>204</td>\n",
       "      <td>float64</td>\n",
       "    </tr>\n",
       "    <tr>\n",
       "      <th>2</th>\n",
       "      <td>weekly_mins_watched</td>\n",
       "      <td>10</td>\n",
       "      <td>0.0050</td>\n",
       "      <td>1248</td>\n",
       "      <td>float64</td>\n",
       "    </tr>\n",
       "    <tr>\n",
       "      <th>3</th>\n",
       "      <td>videos_watched</td>\n",
       "      <td>25</td>\n",
       "      <td>0.0125</td>\n",
       "      <td>19</td>\n",
       "      <td>float64</td>\n",
       "    </tr>\n",
       "    <tr>\n",
       "      <th>4</th>\n",
       "      <td>maximum_days_inactive</td>\n",
       "      <td>28</td>\n",
       "      <td>0.0140</td>\n",
       "      <td>8</td>\n",
       "      <td>object</td>\n",
       "    </tr>\n",
       "    <tr>\n",
       "      <th>5</th>\n",
       "      <td>churn</td>\n",
       "      <td>35</td>\n",
       "      <td>0.0175</td>\n",
       "      <td>2</td>\n",
       "      <td>float64</td>\n",
       "    </tr>\n",
       "  </tbody>\n",
       "</table>\n",
       "</div>"
      ],
      "text/plain": [
       "                 Columns  NO.of.Missing_values  Percentage  Unique DataType\n",
       "0                 gender                    24      0.0120       6   object\n",
       "1  no_of_days_subscribed                    20      0.0100     204  float64\n",
       "2    weekly_mins_watched                    10      0.0050    1248  float64\n",
       "3         videos_watched                    25      0.0125      19  float64\n",
       "4  maximum_days_inactive                    28      0.0140       8   object\n",
       "5                  churn                    35      0.0175       2  float64"
      ]
     },
     "execution_count": 14,
     "metadata": {},
     "output_type": "execute_result"
    }
   ],
   "source": [
    "missing_values(df)"
   ]
  },
  {
   "cell_type": "code",
   "execution_count": 15,
   "id": "46813bbb",
   "metadata": {},
   "outputs": [
    {
     "data": {
      "text/plain": [
       "Male      1048\n",
       "Female     918\n",
       "0            4\n",
       "1            4\n",
       "9            1\n",
       "4            1\n",
       "Name: gender, dtype: int64"
      ]
     },
     "execution_count": 15,
     "metadata": {},
     "output_type": "execute_result"
    }
   ],
   "source": [
    "# Let's impute the values for Gender column\n",
    "df['gender'].value_counts()"
   ]
  },
  {
   "cell_type": "code",
   "execution_count": 16,
   "id": "b2ad08d3",
   "metadata": {},
   "outputs": [],
   "source": [
    "# From the Above Output we can see that Gender column has some noise , Let's clean it out."
   ]
  },
  {
   "cell_type": "code",
   "execution_count": 17,
   "id": "751b5a39",
   "metadata": {},
   "outputs": [],
   "source": [
    "# Droping the Rows whcih contains Gender column with (\"1\",\"0\",\"9\",\"4\")\n",
    "for gender in [\"1\",\"0\",\"9\",\"4\"]:\n",
    "    gender_df = df[df['gender'] == gender].index\n",
    "    df = df.drop(index=gender_df)"
   ]
  },
  {
   "cell_type": "code",
   "execution_count": 18,
   "id": "c36cac22",
   "metadata": {},
   "outputs": [
    {
     "data": {
      "text/plain": [
       "Male      1048\n",
       "Female     918\n",
       "Name: gender, dtype: int64"
      ]
     },
     "execution_count": 18,
     "metadata": {},
     "output_type": "execute_result"
    }
   ],
   "source": [
    "# Let's check whether the changed applied or Not.\n",
    "df['gender'].value_counts()"
   ]
  },
  {
   "cell_type": "code",
   "execution_count": 20,
   "id": "2fdeca63",
   "metadata": {},
   "outputs": [
    {
     "data": {
      "text/plain": [
       "<AxesSubplot:xlabel='gender', ylabel='count'>"
      ]
     },
     "execution_count": 20,
     "metadata": {},
     "output_type": "execute_result"
    },
    {
     "data": {
      "image/png": "[encoded data removed]",
      "text/plain": [
       "<Figure size 864x432 with 1 Axes>"
      ]
     },
     "metadata": {},
     "output_type": "display_data"
    }
   ],
   "source": [
    "# Let's check the Frequency of the Gender column wrt to the Churn Rate.\n",
    "plt.figure(figsize=(12,6))\n",
    "sns.countplot(df['gender'],palette='dark',hue=df['churn'])"
   ]
  },
  {
   "cell_type": "code",
   "execution_count": 21,
   "id": "1bdd18f1",
   "metadata": {},
   "outputs": [],
   "source": [
    "# Filling the missing records in Gender column with Most Frequent Label , in this case MODE.\n",
    "df['gender'].fillna(df['gender'].mode()[0],inplace=True)"
   ]
  },
  {
   "cell_type": "code",
   "execution_count": 22,
   "id": "7b04c94d",
   "metadata": {},
   "outputs": [],
   "source": [
    "# Let's map the gender column with Numerical values \n",
    "df['gender'] = df['gender'].map({\"Male\":0,\"Female\":1})"
   ]
  },
  {
   "cell_type": "code",
   "execution_count": 23,
   "id": "ae1bdf39",
   "metadata": {},
   "outputs": [],
   "source": [
    "# Done with gender column"
   ]
  },
  {
   "cell_type": "code",
   "execution_count": 24,
   "id": "ecc2a710",
   "metadata": {},
   "outputs": [
    {
     "data": {
      "text/plain": [
       "['gender', 'multi_screen', 'mail_subscribed']"
      ]
     },
     "execution_count": 24,
     "metadata": {},
     "output_type": "execute_result"
    }
   ],
   "source": [
    "cat_cols"
   ]
  },
  {
   "cell_type": "code",
   "execution_count": 25,
   "id": "6d47fc2c",
   "metadata": {},
   "outputs": [
    {
     "data": {
      "text/plain": [
       "0"
      ]
     },
     "execution_count": 25,
     "metadata": {},
     "output_type": "execute_result"
    }
   ],
   "source": [
    "# Let's focus on multi_screen column\n",
    "df['multi_screen'].isnull().sum()"
   ]
  },
  {
   "cell_type": "code",
   "execution_count": 26,
   "id": "cab8247e",
   "metadata": {},
   "outputs": [],
   "source": [
    "# There no missing values in \"multi_screen\" column"
   ]
  },
  {
   "cell_type": "code",
   "execution_count": 28,
   "id": "ac735261",
   "metadata": {},
   "outputs": [
    {
     "data": {
      "image/png": "[encoded data removed]",
      "text/plain": [
       "<Figure size 864x432 with 1 Axes>"
      ]
     },
     "metadata": {},
     "output_type": "display_data"
    }
   ],
   "source": [
    "# Let's Visualize the frequency of multi_screen column wrt to Churn rate.\n",
    "plt.figure(figsize=(12,6))\n",
    "sns.countplot(df['multi_screen'],hue=df['churn'],palette=\"bone\")\n",
    "plt.title(\"Frequency of Churn rate wrt to Multi_screen \",fontsize=15)\n",
    "plt.show()"
   ]
  },
  {
   "cell_type": "code",
   "execution_count": 29,
   "id": "aec2e56e",
   "metadata": {},
   "outputs": [
    {
     "data": {
      "text/plain": [
       "array(['no', 'yes'], dtype=object)"
      ]
     },
     "execution_count": 29,
     "metadata": {},
     "output_type": "execute_result"
    }
   ],
   "source": [
    "# There is no Missing value in multi_screen column , so we can map it with numerical values\n",
    "# Now, Let's check the number of Unique values in the Column \n",
    "df['multi_screen'].unique()"
   ]
  },
  {
   "cell_type": "code",
   "execution_count": 30,
   "id": "2acca614",
   "metadata": {},
   "outputs": [],
   "source": [
    "# Since there is only 2 missing values we can use 1 and 0 for Yes and no respectivley\n",
    "df['multi_screen'] = df['multi_screen'].map({\"no\":0,\"yes\":1})"
   ]
  },
  {
   "cell_type": "code",
   "execution_count": 31,
   "id": "516b41be",
   "metadata": {},
   "outputs": [
    {
     "data": {
      "text/plain": [
       "array([0, 1], dtype=int64)"
      ]
     },
     "execution_count": 31,
     "metadata": {},
     "output_type": "execute_result"
    }
   ],
   "source": [
    "# Look at the Transformed Unique Values.\n",
    "df['multi_screen'].unique()"
   ]
  },
  {
   "cell_type": "code",
   "execution_count": 32,
   "id": "f0fb0bca",
   "metadata": {},
   "outputs": [
    {
     "data": {
      "text/plain": [
       "0"
      ]
     },
     "execution_count": 32,
     "metadata": {},
     "output_type": "execute_result"
    }
   ],
   "source": [
    "# Now preprocess the mail_subscribed column\n",
    "df['mail_subscribed'].isnull().sum()"
   ]
  },
  {
   "cell_type": "code",
   "execution_count": 33,
   "id": "3b6ced2e",
   "metadata": {},
   "outputs": [
    {
     "data": {
      "text/plain": [
       "Text(0.5, 1.0, 'Frequency of Churn rate wrt Mail Subscribed ')"
      ]
     },
     "execution_count": 33,
     "metadata": {},
     "output_type": "execute_result"
    },
    {
     "data": {
      "image/png": "[encoded data removed]",
      "text/plain": [
       "<Figure size 864x432 with 1 Axes>"
      ]
     },
     "metadata": {},
     "output_type": "display_data"
    }
   ],
   "source": [
    "# Let's Visualize the frequency of mail_subscribed column wrt to Churn rate.\n",
    "plt.figure(figsize=(12,6))\n",
    "sns.countplot(df['mail_subscribed'],hue=df['churn'],palette=\"Wistia\")\n",
    "plt.title(\"Frequency of Churn rate wrt Mail Subscribed \",fontsize=15)"
   ]
  },
  {
   "cell_type": "code",
   "execution_count": 35,
   "id": "14b2724b",
   "metadata": {},
   "outputs": [
    {
     "data": {
      "text/plain": [
       "array(['no', 'yes', '21.88', '53.48', '32.78', '36.64'], dtype=object)"
      ]
     },
     "execution_count": 35,
     "metadata": {},
     "output_type": "execute_result"
    }
   ],
   "source": [
    "# No missing values in mail_subscribed column also so let's check the number of unique values and map them\n",
    "mail_unique = df['mail_subscribed'].unique()\n",
    "mail_unique"
   ]
  },
  {
   "cell_type": "code",
   "execution_count": 36,
   "id": "5ba6abfe",
   "metadata": {},
   "outputs": [],
   "source": [
    "# There is some noise in mail_subscribed column except \"no\" and \"yes\" labels , let's remove it \n",
    "for label in mail_unique:\n",
    "    if label not in (\"no\",\"yes\"):\n",
    "        label_df = df[df['mail_subscribed'] == label].index\n",
    "        df = df.drop(index=label_df)"
   ]
  },
  {
   "cell_type": "code",
   "execution_count": 37,
   "id": "a1ecab6b",
   "metadata": {},
   "outputs": [
    {
     "data": {
      "text/plain": [
       "array(['no', 'yes'], dtype=object)"
      ]
     },
     "execution_count": 37,
     "metadata": {},
     "output_type": "execute_result"
    }
   ],
   "source": [
    "# Let's check whether the noise was removed or not\n",
    "df['mail_subscribed'].unique()"
   ]
  },
  {
   "cell_type": "code",
   "execution_count": 38,
   "id": "93f2c492",
   "metadata": {},
   "outputs": [],
   "source": [
    "# Now we can map them with Numerical Values\n",
    "df['mail_subscribed'] = df['mail_subscribed'].map({\"no\":0,\"yes\":1})"
   ]
  },
  {
   "cell_type": "code",
   "execution_count": 39,
   "id": "59b42c71",
   "metadata": {},
   "outputs": [
    {
     "data": {
      "text/html": [
       "<div>\n",
       "<style scoped>\n",
       "    .dataframe tbody tr th:only-of-type {\n",
       "        vertical-align: middle;\n",
       "    }\n",
       "\n",
       "    .dataframe tbody tr th {\n",
       "        vertical-align: top;\n",
       "    }\n",
       "\n",
       "    .dataframe thead th {\n",
       "        text-align: right;\n",
       "    }\n",
       "</style>\n",
       "<table border=\"1\" class=\"dataframe\">\n",
       "  <thead>\n",
       "    <tr style=\"text-align: right;\">\n",
       "      <th></th>\n",
       "      <th>gender</th>\n",
       "      <th>multi_screen</th>\n",
       "      <th>mail_subscribed</th>\n",
       "    </tr>\n",
       "  </thead>\n",
       "  <tbody>\n",
       "    <tr>\n",
       "      <th>0</th>\n",
       "      <td>1</td>\n",
       "      <td>0</td>\n",
       "      <td>0</td>\n",
       "    </tr>\n",
       "    <tr>\n",
       "      <th>1</th>\n",
       "      <td>1</td>\n",
       "      <td>0</td>\n",
       "      <td>0</td>\n",
       "    </tr>\n",
       "    <tr>\n",
       "      <th>2</th>\n",
       "      <td>1</td>\n",
       "      <td>0</td>\n",
       "      <td>0</td>\n",
       "    </tr>\n",
       "    <tr>\n",
       "      <th>3</th>\n",
       "      <td>1</td>\n",
       "      <td>0</td>\n",
       "      <td>1</td>\n",
       "    </tr>\n",
       "    <tr>\n",
       "      <th>4</th>\n",
       "      <td>1</td>\n",
       "      <td>0</td>\n",
       "      <td>0</td>\n",
       "    </tr>\n",
       "    <tr>\n",
       "      <th>...</th>\n",
       "      <td>...</td>\n",
       "      <td>...</td>\n",
       "      <td>...</td>\n",
       "    </tr>\n",
       "    <tr>\n",
       "      <th>1995</th>\n",
       "      <td>1</td>\n",
       "      <td>0</td>\n",
       "      <td>1</td>\n",
       "    </tr>\n",
       "    <tr>\n",
       "      <th>1996</th>\n",
       "      <td>0</td>\n",
       "      <td>0</td>\n",
       "      <td>0</td>\n",
       "    </tr>\n",
       "    <tr>\n",
       "      <th>1997</th>\n",
       "      <td>0</td>\n",
       "      <td>0</td>\n",
       "      <td>0</td>\n",
       "    </tr>\n",
       "    <tr>\n",
       "      <th>1998</th>\n",
       "      <td>0</td>\n",
       "      <td>0</td>\n",
       "      <td>0</td>\n",
       "    </tr>\n",
       "    <tr>\n",
       "      <th>1999</th>\n",
       "      <td>0</td>\n",
       "      <td>0</td>\n",
       "      <td>0</td>\n",
       "    </tr>\n",
       "  </tbody>\n",
       "</table>\n",
       "<p>1986 rows × 3 columns</p>\n",
       "</div>"
      ],
      "text/plain": [
       "      gender  multi_screen  mail_subscribed\n",
       "0          1             0                0\n",
       "1          1             0                0\n",
       "2          1             0                0\n",
       "3          1             0                1\n",
       "4          1             0                0\n",
       "...      ...           ...              ...\n",
       "1995       1             0                1\n",
       "1996       0             0                0\n",
       "1997       0             0                0\n",
       "1998       0             0                0\n",
       "1999       0             0                0\n",
       "\n",
       "[1986 rows x 3 columns]"
      ]
     },
     "execution_count": 39,
     "metadata": {},
     "output_type": "execute_result"
    }
   ],
   "source": [
    "# we have successfully preprocessed and labeled categorical columns\n",
    "# let's check how they look after the preprocessing\n",
    "df[cat_cols]"
   ]
  },
  {
   "cell_type": "code",
   "execution_count": 40,
   "id": "93afd70e",
   "metadata": {},
   "outputs": [
    {
     "data": {
      "text/html": [
       "<div>\n",
       "<style scoped>\n",
       "    .dataframe tbody tr th:only-of-type {\n",
       "        vertical-align: middle;\n",
       "    }\n",
       "\n",
       "    .dataframe tbody tr th {\n",
       "        vertical-align: top;\n",
       "    }\n",
       "\n",
       "    .dataframe thead th {\n",
       "        text-align: right;\n",
       "    }\n",
       "</style>\n",
       "<table border=\"1\" class=\"dataframe\">\n",
       "  <thead>\n",
       "    <tr style=\"text-align: right;\">\n",
       "      <th></th>\n",
       "      <th>year</th>\n",
       "      <th>age</th>\n",
       "      <th>no_of_days_subscribed</th>\n",
       "      <th>weekly_mins_watched</th>\n",
       "      <th>minimum_daily_mins</th>\n",
       "      <th>maximum_daily_mins</th>\n",
       "      <th>weekly_max_night_mins</th>\n",
       "      <th>videos_watched</th>\n",
       "      <th>maximum_days_inactive</th>\n",
       "      <th>customer_support_calls</th>\n",
       "      <th>churn</th>\n",
       "    </tr>\n",
       "  </thead>\n",
       "  <tbody>\n",
       "    <tr>\n",
       "      <th>0</th>\n",
       "      <td>2015</td>\n",
       "      <td>36</td>\n",
       "      <td>62.0</td>\n",
       "      <td>148.35</td>\n",
       "      <td>12.2</td>\n",
       "      <td>16.81</td>\n",
       "      <td>82</td>\n",
       "      <td>1.0</td>\n",
       "      <td>4</td>\n",
       "      <td>1</td>\n",
       "      <td>0.0</td>\n",
       "    </tr>\n",
       "    <tr>\n",
       "      <th>1</th>\n",
       "      <td>2015</td>\n",
       "      <td>39</td>\n",
       "      <td>149.0</td>\n",
       "      <td>294.45</td>\n",
       "      <td>7.7</td>\n",
       "      <td>33.37</td>\n",
       "      <td>87</td>\n",
       "      <td>3.0</td>\n",
       "      <td>3</td>\n",
       "      <td>2</td>\n",
       "      <td>0.0</td>\n",
       "    </tr>\n",
       "    <tr>\n",
       "      <th>2</th>\n",
       "      <td>2015</td>\n",
       "      <td>65</td>\n",
       "      <td>126.0</td>\n",
       "      <td>87.30</td>\n",
       "      <td>11.9</td>\n",
       "      <td>9.89</td>\n",
       "      <td>91</td>\n",
       "      <td>1.0</td>\n",
       "      <td>4</td>\n",
       "      <td>5</td>\n",
       "      <td>1.0</td>\n",
       "    </tr>\n",
       "    <tr>\n",
       "      <th>3</th>\n",
       "      <td>2015</td>\n",
       "      <td>24</td>\n",
       "      <td>131.0</td>\n",
       "      <td>321.30</td>\n",
       "      <td>9.5</td>\n",
       "      <td>36.41</td>\n",
       "      <td>102</td>\n",
       "      <td>4.0</td>\n",
       "      <td>3</td>\n",
       "      <td>3</td>\n",
       "      <td>0.0</td>\n",
       "    </tr>\n",
       "    <tr>\n",
       "      <th>4</th>\n",
       "      <td>2015</td>\n",
       "      <td>40</td>\n",
       "      <td>191.0</td>\n",
       "      <td>243.00</td>\n",
       "      <td>10.9</td>\n",
       "      <td>27.54</td>\n",
       "      <td>83</td>\n",
       "      <td>7.0</td>\n",
       "      <td>3</td>\n",
       "      <td>1</td>\n",
       "      <td>0.0</td>\n",
       "    </tr>\n",
       "    <tr>\n",
       "      <th>...</th>\n",
       "      <td>...</td>\n",
       "      <td>...</td>\n",
       "      <td>...</td>\n",
       "      <td>...</td>\n",
       "      <td>...</td>\n",
       "      <td>...</td>\n",
       "      <td>...</td>\n",
       "      <td>...</td>\n",
       "      <td>...</td>\n",
       "      <td>...</td>\n",
       "      <td>...</td>\n",
       "    </tr>\n",
       "    <tr>\n",
       "      <th>1995</th>\n",
       "      <td>2015</td>\n",
       "      <td>54</td>\n",
       "      <td>75.0</td>\n",
       "      <td>182.25</td>\n",
       "      <td>11.3</td>\n",
       "      <td>20.66</td>\n",
       "      <td>97</td>\n",
       "      <td>5.0</td>\n",
       "      <td>4</td>\n",
       "      <td>2</td>\n",
       "      <td>NaN</td>\n",
       "    </tr>\n",
       "    <tr>\n",
       "      <th>1996</th>\n",
       "      <td>2015</td>\n",
       "      <td>45</td>\n",
       "      <td>127.0</td>\n",
       "      <td>273.45</td>\n",
       "      <td>9.3</td>\n",
       "      <td>30.99</td>\n",
       "      <td>116</td>\n",
       "      <td>3.0</td>\n",
       "      <td>3</td>\n",
       "      <td>1</td>\n",
       "      <td>0.0</td>\n",
       "    </tr>\n",
       "    <tr>\n",
       "      <th>1997</th>\n",
       "      <td>2015</td>\n",
       "      <td>53</td>\n",
       "      <td>94.0</td>\n",
       "      <td>128.85</td>\n",
       "      <td>15.6</td>\n",
       "      <td>14.60</td>\n",
       "      <td>110</td>\n",
       "      <td>16.0</td>\n",
       "      <td>5</td>\n",
       "      <td>0</td>\n",
       "      <td>0.0</td>\n",
       "    </tr>\n",
       "    <tr>\n",
       "      <th>1998</th>\n",
       "      <td>2015</td>\n",
       "      <td>40</td>\n",
       "      <td>94.0</td>\n",
       "      <td>178.05</td>\n",
       "      <td>10.4</td>\n",
       "      <td>20.18</td>\n",
       "      <td>100</td>\n",
       "      <td>6.0</td>\n",
       "      <td>NaN</td>\n",
       "      <td>3</td>\n",
       "      <td>0.0</td>\n",
       "    </tr>\n",
       "    <tr>\n",
       "      <th>1999</th>\n",
       "      <td>2015</td>\n",
       "      <td>37</td>\n",
       "      <td>73.0</td>\n",
       "      <td>326.70</td>\n",
       "      <td>10.3</td>\n",
       "      <td>37.03</td>\n",
       "      <td>89</td>\n",
       "      <td>6.0</td>\n",
       "      <td>3</td>\n",
       "      <td>1</td>\n",
       "      <td>1.0</td>\n",
       "    </tr>\n",
       "  </tbody>\n",
       "</table>\n",
       "<p>1986 rows × 11 columns</p>\n",
       "</div>"
      ],
      "text/plain": [
       "      year  age  no_of_days_subscribed  weekly_mins_watched  \\\n",
       "0     2015   36                   62.0               148.35   \n",
       "1     2015   39                  149.0               294.45   \n",
       "2     2015   65                  126.0                87.30   \n",
       "3     2015   24                  131.0               321.30   \n",
       "4     2015   40                  191.0               243.00   \n",
       "...    ...  ...                    ...                  ...   \n",
       "1995  2015   54                   75.0               182.25   \n",
       "1996  2015   45                  127.0               273.45   \n",
       "1997  2015   53                   94.0               128.85   \n",
       "1998  2015   40                   94.0               178.05   \n",
       "1999  2015   37                   73.0               326.70   \n",
       "\n",
       "      minimum_daily_mins  maximum_daily_mins  weekly_max_night_mins  \\\n",
       "0                   12.2               16.81                     82   \n",
       "1                    7.7               33.37                     87   \n",
       "2                   11.9                9.89                     91   \n",
       "3                    9.5               36.41                    102   \n",
       "4                   10.9               27.54                     83   \n",
       "...                  ...                 ...                    ...   \n",
       "1995                11.3               20.66                     97   \n",
       "1996                 9.3               30.99                    116   \n",
       "1997                15.6               14.60                    110   \n",
       "1998                10.4               20.18                    100   \n",
       "1999                10.3               37.03                     89   \n",
       "\n",
       "      videos_watched maximum_days_inactive  customer_support_calls  churn  \n",
       "0                1.0                     4                       1    0.0  \n",
       "1                3.0                     3                       2    0.0  \n",
       "2                1.0                     4                       5    1.0  \n",
       "3                4.0                     3                       3    0.0  \n",
       "4                7.0                     3                       1    0.0  \n",
       "...              ...                   ...                     ...    ...  \n",
       "1995             5.0                     4                       2    NaN  \n",
       "1996             3.0                     3                       1    0.0  \n",
       "1997            16.0                     5                       0    0.0  \n",
       "1998             6.0                   NaN                       3    0.0  \n",
       "1999             6.0                     3                       1    1.0  \n",
       "\n",
       "[1986 rows x 11 columns]"
      ]
     },
     "execution_count": 40,
     "metadata": {},
     "output_type": "execute_result"
    }
   ],
   "source": [
    "# Now let's focus on the Numerical Columns\n",
    "df[num_cols]"
   ]
  },
  {
   "cell_type": "code",
   "execution_count": 42,
   "id": "23c40274",
   "metadata": {},
   "outputs": [
    {
     "data": {
      "text/html": [
       "<div>\n",
       "<style scoped>\n",
       "    .dataframe tbody tr th:only-of-type {\n",
       "        vertical-align: middle;\n",
       "    }\n",
       "\n",
       "    .dataframe tbody tr th {\n",
       "        vertical-align: top;\n",
       "    }\n",
       "\n",
       "    .dataframe thead th {\n",
       "        text-align: right;\n",
       "    }\n",
       "</style>\n",
       "<table border=\"1\" class=\"dataframe\">\n",
       "  <thead>\n",
       "    <tr style=\"text-align: right;\">\n",
       "      <th></th>\n",
       "      <th>Columns</th>\n",
       "      <th>NO.of.Missing_values</th>\n",
       "      <th>Percentage</th>\n",
       "      <th>Unique</th>\n",
       "      <th>DataType</th>\n",
       "    </tr>\n",
       "  </thead>\n",
       "  <tbody>\n",
       "    <tr>\n",
       "      <th>0</th>\n",
       "      <td>no_of_days_subscribed</td>\n",
       "      <td>20</td>\n",
       "      <td>0.010070</td>\n",
       "      <td>204</td>\n",
       "      <td>float64</td>\n",
       "    </tr>\n",
       "    <tr>\n",
       "      <th>1</th>\n",
       "      <td>weekly_mins_watched</td>\n",
       "      <td>10</td>\n",
       "      <td>0.005035</td>\n",
       "      <td>1246</td>\n",
       "      <td>float64</td>\n",
       "    </tr>\n",
       "    <tr>\n",
       "      <th>2</th>\n",
       "      <td>videos_watched</td>\n",
       "      <td>25</td>\n",
       "      <td>0.012588</td>\n",
       "      <td>19</td>\n",
       "      <td>float64</td>\n",
       "    </tr>\n",
       "    <tr>\n",
       "      <th>3</th>\n",
       "      <td>maximum_days_inactive</td>\n",
       "      <td>27</td>\n",
       "      <td>0.013595</td>\n",
       "      <td>8</td>\n",
       "      <td>object</td>\n",
       "    </tr>\n",
       "    <tr>\n",
       "      <th>4</th>\n",
       "      <td>churn</td>\n",
       "      <td>35</td>\n",
       "      <td>0.017623</td>\n",
       "      <td>2</td>\n",
       "      <td>float64</td>\n",
       "    </tr>\n",
       "  </tbody>\n",
       "</table>\n",
       "</div>"
      ],
      "text/plain": [
       "                 Columns  NO.of.Missing_values  Percentage  Unique DataType\n",
       "0  no_of_days_subscribed                    20    0.010070     204  float64\n",
       "1    weekly_mins_watched                    10    0.005035    1246  float64\n",
       "2         videos_watched                    25    0.012588      19  float64\n",
       "3  maximum_days_inactive                    27    0.013595       8   object\n",
       "4                  churn                    35    0.017623       2  float64"
      ]
     },
     "execution_count": 42,
     "metadata": {},
     "output_type": "execute_result"
    }
   ],
   "source": [
    "# Finding out the Missing columns from the Numerical Columns.\n",
    "missing_values(df[num_cols])"
   ]
  },
  {
   "cell_type": "code",
   "execution_count": 43,
   "id": "0c940646",
   "metadata": {},
   "outputs": [
    {
     "data": {
      "text/plain": [
       "2015    1894\n",
       "2022      92\n",
       "Name: year, dtype: int64"
      ]
     },
     "execution_count": 43,
     "metadata": {},
     "output_type": "execute_result"
    }
   ],
   "source": [
    "# Looking at the Year column\n",
    "df['year'].value_counts()"
   ]
  },
  {
   "cell_type": "code",
   "execution_count": 45,
   "id": "bf8dd2ac",
   "metadata": {},
   "outputs": [
    {
     "data": {
      "text/plain": [
       "36    103\n",
       "38    102\n",
       "35     97\n",
       "37     93\n",
       "34     86\n",
       "     ... \n",
       "80      1\n",
       "76      1\n",
       "77      1\n",
       "79      1\n",
       "82      1\n",
       "Name: age, Length: 63, dtype: int64"
      ]
     },
     "execution_count": 45,
     "metadata": {},
     "output_type": "execute_result"
    }
   ],
   "source": [
    "# Checking the Age column\n",
    "df['age'].value_counts()"
   ]
  },
  {
   "cell_type": "code",
   "execution_count": 48,
   "id": "b87b1e3e",
   "metadata": {},
   "outputs": [
    {
     "data": {
      "text/plain": [
       "<AxesSubplot:xlabel='age', ylabel='Count'>"
      ]
     },
     "execution_count": 48,
     "metadata": {},
     "output_type": "execute_result"
    },
    {
     "data": {
      "image/png": "[encoded data removed]",
      "text/plain": [
       "<Figure size 864x432 with 1 Axes>"
      ]
     },
     "metadata": {},
     "output_type": "display_data"
    }
   ],
   "source": [
    "# Looking at the Distribution of the Age column.\n",
    "plt.figure(figsize = (12,6))\n",
    "sns.histplot(df['age'],color='red',kde=True)"
   ]
  },
  {
   "cell_type": "code",
   "execution_count": 49,
   "id": "31fc4026",
   "metadata": {},
   "outputs": [],
   "source": [
    "# Except Right Skewed Distribution  there is no noise or anything in age column"
   ]
  },
  {
   "cell_type": "code",
   "execution_count": 50,
   "id": "b0da26f3",
   "metadata": {},
   "outputs": [
    {
     "data": {
      "text/plain": [
       "86.0     27\n",
       "99.0     26\n",
       "87.0     26\n",
       "93.0     25\n",
       "92.0     24\n",
       "         ..\n",
       "212.0     1\n",
       "26.0      1\n",
       "232.0     1\n",
       "184.0     1\n",
       "208.0     1\n",
       "Name: no_of_days_subscribed, Length: 204, dtype: int64"
      ]
     },
     "execution_count": 50,
     "metadata": {},
     "output_type": "execute_result"
    }
   ],
   "source": [
    "# Checking the no_of_days_subscribed column\n",
    "df['no_of_days_subscribed'].value_counts()"
   ]
  },
  {
   "cell_type": "code",
   "execution_count": 51,
   "id": "8dcc9a73",
   "metadata": {},
   "outputs": [
    {
     "data": {
      "text/plain": [
       "20"
      ]
     },
     "execution_count": 51,
     "metadata": {},
     "output_type": "execute_result"
    }
   ],
   "source": [
    "# Checking for the missing values in the column\n",
    "df['no_of_days_subscribed'].isnull().sum()"
   ]
  },
  {
   "cell_type": "code",
   "execution_count": 52,
   "id": "2c9a29b7",
   "metadata": {},
   "outputs": [
    {
     "data": {
      "image/png": "[encoded data removed]",
      "text/plain": [
       "<Figure size 864x432 with 1 Axes>"
      ]
     },
     "metadata": {},
     "output_type": "display_data"
    }
   ],
   "source": [
    "# Plotting the Distribution of the column\n",
    "plt.figure(figsize=(12,6))\n",
    "sns.histplot(df['no_of_days_subscribed'],kde=True)\n",
    "plt.show()"
   ]
  },
  {
   "cell_type": "code",
   "execution_count": 53,
   "id": "947d47ee",
   "metadata": {},
   "outputs": [],
   "source": [
    "# The distribution is approximately Normal so we can impute it with mean or median\n",
    "df['no_of_days_subscribed'].fillna(int(df['no_of_days_subscribed'].median()),inplace=True)"
   ]
  },
  {
   "cell_type": "code",
   "execution_count": 54,
   "id": "9694c90d",
   "metadata": {},
   "outputs": [
    {
     "data": {
      "text/plain": [
       "10"
      ]
     },
     "execution_count": 54,
     "metadata": {},
     "output_type": "execute_result"
    }
   ],
   "source": [
    "# Finding out number of missing values in weekly_mins_watched column\n",
    "df['weekly_mins_watched'].isnull().sum()"
   ]
  },
  {
   "cell_type": "code",
   "execution_count": 55,
   "id": "bba17a94",
   "metadata": {},
   "outputs": [
    {
     "data": {
      "text/plain": [
       "1000.00     10\n",
       "231.00       7\n",
       "235.65       6\n",
       "213.45       6\n",
       "27986.00     6\n",
       "            ..\n",
       "151.20       1\n",
       "216.75       1\n",
       "473.40       1\n",
       "229.20       1\n",
       "342.90       1\n",
       "Name: weekly_mins_watched, Length: 1246, dtype: int64"
      ]
     },
     "execution_count": 55,
     "metadata": {},
     "output_type": "execute_result"
    }
   ],
   "source": [
    "# Looking for the Value_counts\n",
    "df['weekly_mins_watched'].value_counts()"
   ]
  },
  {
   "cell_type": "code",
   "execution_count": 56,
   "id": "a28c9378",
   "metadata": {},
   "outputs": [
    {
     "data": {
      "text/plain": [
       "<AxesSubplot:xlabel='weekly_mins_watched', ylabel='Count'>"
      ]
     },
     "execution_count": 56,
     "metadata": {},
     "output_type": "execute_result"
    },
    {
     "data": {
      "image/png": "[encoded data removed]",
      "text/plain": [
       "<Figure size 864x432 with 1 Axes>"
      ]
     },
     "metadata": {},
     "output_type": "display_data"
    }
   ],
   "source": [
    "# Plotting the Distribution\n",
    "plt.figure(figsize=(12,6))\n",
    "sns.histplot(df['weekly_mins_watched'])"
   ]
  },
  {
   "cell_type": "code",
   "execution_count": 57,
   "id": "2e8d807a",
   "metadata": {},
   "outputs": [],
   "source": [
    "# From the Above Plot we can easily see that there is an Outliers present at 28000+ values. \n",
    "# Keep this in mind that there are some outliers in the feature columns"
   ]
  },
  {
   "cell_type": "code",
   "execution_count": 59,
   "id": "64689241",
   "metadata": {},
   "outputs": [
    {
     "data": {
      "text/plain": [
       "1446    27990.0\n",
       "1445    27989.0\n",
       "1453    27988.0\n",
       "1448    27988.0\n",
       "1451    27988.0\n",
       "1444    27988.0\n",
       "1443    27987.0\n",
       "1442    27986.0\n",
       "1449    27986.0\n",
       "1454    27986.0\n",
       "1450    27986.0\n",
       "1452    27986.0\n",
       "1447    27986.0\n",
       "1278     1000.0\n",
       "1286     1000.0\n",
       "1285     1000.0\n",
       "1284     1000.0\n",
       "1283     1000.0\n",
       "1282     1000.0\n",
       "1281     1000.0\n",
       "Name: weekly_mins_watched, dtype: float64"
      ]
     },
     "execution_count": 59,
     "metadata": {},
     "output_type": "execute_result"
    }
   ],
   "source": [
    "# Let's see can we remove that point \n",
    "df['weekly_mins_watched'].sort_values(ascending=False).head(20)"
   ]
  },
  {
   "cell_type": "markdown",
   "id": "6c87c7b1",
   "metadata": {},
   "source": [
    "#### As we knew that there will be 10,080 minutes will be there in a week , so if a person mentioned that he was watching more than 10,080 minutes per week , he was lying . So we cannot take those values into Consideration\n",
    "\n",
    "#### Let's remove those records which are having a value more that 10,080 "
   ]
  },
  {
   "cell_type": "code",
   "execution_count": 63,
   "id": "d274ec83",
   "metadata": {},
   "outputs": [],
   "source": [
    "# Filtering out the DataFrame with the Weekly_mins_watched which are less than 10080 mins\n",
    "df = df[df['weekly_mins_watched'] <= 10080]"
   ]
  },
  {
   "cell_type": "code",
   "execution_count": 64,
   "id": "c79709a7",
   "metadata": {},
   "outputs": [
    {
     "data": {
      "text/plain": [
       "1283    1000.00\n",
       "1280    1000.00\n",
       "1286    1000.00\n",
       "1277    1000.00\n",
       "1278    1000.00\n",
       "1279    1000.00\n",
       "1284    1000.00\n",
       "1285    1000.00\n",
       "1282    1000.00\n",
       "1281    1000.00\n",
       "1523     520.20\n",
       "1261     506.10\n",
       "1838     503.25\n",
       "1126     501.45\n",
       "31       499.35\n",
       "283      494.70\n",
       "1936     489.75\n",
       "348      483.75\n",
       "43       483.45\n",
       "994      481.95\n",
       "Name: weekly_mins_watched, dtype: float64"
      ]
     },
     "execution_count": 64,
     "metadata": {},
     "output_type": "execute_result"
    }
   ],
   "source": [
    "# Let's see whether those values removed or not.\n",
    "df['weekly_mins_watched'].sort_values(ascending=False).head(20)"
   ]
  },
  {
   "cell_type": "code",
   "execution_count": 66,
   "id": "902ede30",
   "metadata": {},
   "outputs": [
    {
     "data": {
      "text/plain": [
       "<AxesSubplot:xlabel='weekly_mins_watched', ylabel='Count'>"
      ]
     },
     "execution_count": 66,
     "metadata": {},
     "output_type": "execute_result"
    },
    {
     "data": {
      "image/png": "[encoded data removed]",
      "text/plain": [
       "<Figure size 864x432 with 1 Axes>"
      ]
     },
     "metadata": {},
     "output_type": "display_data"
    }
   ],
   "source": [
    "# Let's see the distribution after removing the Outliers\n",
    "# Plotting the Distribution\n",
    "plt.figure(figsize=(12,6))\n",
    "sns.histplot(df['weekly_mins_watched'],kde=True)"
   ]
  },
  {
   "cell_type": "markdown",
   "id": "fe3a2638",
   "metadata": {},
   "source": [
    "#### Even though 1000 is also seeming like an Outlier , let's keep it for now and remove it later using Inter-Quartile ranges"
   ]
  },
  {
   "cell_type": "code",
   "execution_count": 67,
   "id": "6e98979b",
   "metadata": {},
   "outputs": [],
   "source": [
    "# As see before there are 10 missing values in weekly_mins_watched so let's fill them with median\n",
    "df['weekly_mins_watched'].fillna(int(df['weekly_mins_watched'].median()),inplace=True)"
   ]
  },
  {
   "cell_type": "code",
   "execution_count": 70,
   "id": "b618c936",
   "metadata": {},
   "outputs": [
    {
     "data": {
      "text/plain": [
       "0"
      ]
     },
     "execution_count": 70,
     "metadata": {},
     "output_type": "execute_result"
    }
   ],
   "source": [
    "# Finding the number of missing values in minimum_daily_mins\n",
    "df['minimum_daily_mins'].isnull().sum()"
   ]
  },
  {
   "cell_type": "code",
   "execution_count": 71,
   "id": "ff6dad57",
   "metadata": {},
   "outputs": [
    {
     "data": {
      "text/plain": [
       "9.5     37\n",
       "11.3    37\n",
       "11.4    36\n",
       "11.1    33\n",
       "10.6    33\n",
       "        ..\n",
       "16.7     1\n",
       "17.0     1\n",
       "18.2     1\n",
       "20.0     1\n",
       "1.3      1\n",
       "Name: minimum_daily_mins, Length: 148, dtype: int64"
      ]
     },
     "execution_count": 71,
     "metadata": {},
     "output_type": "execute_result"
    }
   ],
   "source": [
    "# Looking at the Value_counts.\n",
    "df['minimum_daily_mins'].value_counts()"
   ]
  },
  {
   "cell_type": "code",
   "execution_count": 72,
   "id": "fa8ee4c4",
   "metadata": {},
   "outputs": [
    {
     "data": {
      "text/plain": [
       "<AxesSubplot:xlabel='minimum_daily_mins', ylabel='Count'>"
      ]
     },
     "execution_count": 72,
     "metadata": {},
     "output_type": "execute_result"
    },
    {
     "data": {
      "image/png": "[encoded data removed]",
      "text/plain": [
       "<Figure size 864x432 with 1 Axes>"
      ]
     },
     "metadata": {},
     "output_type": "display_data"
    }
   ],
   "source": [
    "# plotting the Distribuion\n",
    "plt.figure(figsize=(12,6))\n",
    "sns.histplot(df['minimum_daily_mins'],kde=True)"
   ]
  },
  {
   "cell_type": "code",
   "execution_count": 73,
   "id": "d2b7803c",
   "metadata": {},
   "outputs": [
    {
     "data": {
      "text/plain": [
       "0"
      ]
     },
     "execution_count": 73,
     "metadata": {},
     "output_type": "execute_result"
    }
   ],
   "source": [
    "# Finding the number of missing values in maximum_daily_mins\n",
    "df['maximum_daily_mins'].isnull().sum()"
   ]
  },
  {
   "cell_type": "code",
   "execution_count": 74,
   "id": "3198b279",
   "metadata": {},
   "outputs": [
    {
     "data": {
      "text/plain": [
       "<AxesSubplot:xlabel='maximum_daily_mins', ylabel='Count'>"
      ]
     },
     "execution_count": 74,
     "metadata": {},
     "output_type": "execute_result"
    },
    {
     "data": {
      "image/png": "[encoded data removed]",
      "text/plain": [
       "<Figure size 864x432 with 1 Axes>"
      ]
     },
     "metadata": {},
     "output_type": "display_data"
    }
   ],
   "source": [
    "plt.figure(figsize=(12,6))\n",
    "sns.histplot(df['maximum_daily_mins'],kde=True)"
   ]
  },
  {
   "cell_type": "code",
   "execution_count": 75,
   "id": "a6dcc145",
   "metadata": {},
   "outputs": [
    {
     "data": {
      "text/plain": [
       "0"
      ]
     },
     "execution_count": 75,
     "metadata": {},
     "output_type": "execute_result"
    }
   ],
   "source": [
    "# Finding the missing values in weekly_max_night_mins\n",
    "df['weekly_max_night_mins'].isnull().sum()"
   ]
  },
  {
   "cell_type": "code",
   "execution_count": 76,
   "id": "bd3d0732",
   "metadata": {},
   "outputs": [
    {
     "data": {
      "text/plain": [
       "<AxesSubplot:xlabel='weekly_max_night_mins', ylabel='Count'>"
      ]
     },
     "execution_count": 76,
     "metadata": {},
     "output_type": "execute_result"
    },
    {
     "data": {
      "image/png": "[encoded data removed]",
      "text/plain": [
       "<Figure size 864x432 with 1 Axes>"
      ]
     },
     "metadata": {},
     "output_type": "display_data"
    }
   ],
   "source": [
    "# plotting the Distribution\n",
    "plt.figure(figsize=(12,6))\n",
    "sns.histplot(df['weekly_max_night_mins'],kde=True)"
   ]
  },
  {
   "cell_type": "code",
   "execution_count": 78,
   "id": "0c31674b",
   "metadata": {},
   "outputs": [
    {
     "data": {
      "text/plain": [
       "25"
      ]
     },
     "execution_count": 78,
     "metadata": {},
     "output_type": "execute_result"
    }
   ],
   "source": [
    "# Finding the Missing values in videos_watched column\n",
    "df['videos_watched'].isnull().sum()"
   ]
  },
  {
   "cell_type": "code",
   "execution_count": 79,
   "id": "8f63dcd5",
   "metadata": {},
   "outputs": [
    {
     "data": {
      "text/plain": [
       "<AxesSubplot:xlabel='videos_watched', ylabel='Count'>"
      ]
     },
     "execution_count": 79,
     "metadata": {},
     "output_type": "execute_result"
    },
    {
     "data": {
      "image/png": "[encoded data removed]",
      "text/plain": [
       "<Figure size 864x432 with 1 Axes>"
      ]
     },
     "metadata": {},
     "output_type": "display_data"
    }
   ],
   "source": [
    "# Plotting the Distribution \n",
    "plt.figure(figsize=(12,6))\n",
    "sns.histplot(df['videos_watched'],kde=True)"
   ]
  },
  {
   "cell_type": "code",
   "execution_count": 80,
   "id": "53806f93",
   "metadata": {},
   "outputs": [
    {
     "data": {
      "text/plain": [
       "19"
      ]
     },
     "execution_count": 80,
     "metadata": {},
     "output_type": "execute_result"
    }
   ],
   "source": [
    "# From the above figure we can see that videos_watched column seems like an Categorical Columns\n",
    "# Let's find out using no of unique values in it.\n",
    "df['videos_watched'].nunique()"
   ]
  },
  {
   "cell_type": "code",
   "execution_count": 81,
   "id": "fc56d6e3",
   "metadata": {},
   "outputs": [],
   "source": [
    "# as we can see that there are only 19 unique values in it so we can consider it as Categorical Column"
   ]
  },
  {
   "cell_type": "code",
   "execution_count": 82,
   "id": "ea3e5820",
   "metadata": {},
   "outputs": [],
   "source": [
    "# So let's fill the missing values with mode.\n",
    "df['videos_watched'].fillna(df['videos_watched'].mode()[0],inplace=True)"
   ]
  },
  {
   "cell_type": "code",
   "execution_count": 84,
   "id": "79f195bb",
   "metadata": {},
   "outputs": [
    {
     "data": {
      "image/png": "[encoded data removed]",
      "text/plain": [
       "<Figure size 864x432 with 1 Axes>"
      ]
     },
     "metadata": {},
     "output_type": "display_data"
    }
   ],
   "source": [
    "plt.figure(figsize=(12,6))\n",
    "sns.countplot(df['videos_watched'],palette='dark',hue=df['churn'])\n",
    "plt.show()"
   ]
  },
  {
   "cell_type": "code",
   "execution_count": 85,
   "id": "28a7e50e",
   "metadata": {},
   "outputs": [
    {
     "data": {
      "text/plain": [
       "27"
      ]
     },
     "execution_count": 85,
     "metadata": {},
     "output_type": "execute_result"
    }
   ],
   "source": [
    "# finding out the number of missing values in maximum_days_inactive\n",
    "df['maximum_days_inactive'].isnull().sum()"
   ]
  },
  {
   "cell_type": "code",
   "execution_count": 86,
   "id": "4a3c7a7e",
   "metadata": {},
   "outputs": [
    {
     "data": {
      "text/plain": [
       "array(['4', '3', nan, '2', '5', '1', '0', '6', 'NO'], dtype=object)"
      ]
     },
     "execution_count": 86,
     "metadata": {},
     "output_type": "execute_result"
    }
   ],
   "source": [
    "# Looking at the unique values in it \n",
    "df['maximum_days_inactive'].unique()"
   ]
  },
  {
   "cell_type": "code",
   "execution_count": null,
   "id": "dab16464",
   "metadata": {},
   "outputs": [],
   "source": [
    "# As we can see that the data is contaminated with a label called \"NO\", so let's replace it with \"0\"."
   ]
  },
  {
   "cell_type": "code",
   "execution_count": 87,
   "id": "42f0be10",
   "metadata": {},
   "outputs": [],
   "source": [
    "# Replacing \"NO\" with \"0\"\n",
    "df['maximum_days_inactive'].replace(\"NO\",\"0\",inplace=True)"
   ]
  },
  {
   "cell_type": "code",
   "execution_count": 88,
   "id": "bb332926",
   "metadata": {},
   "outputs": [],
   "source": [
    "# Since it was also an Categorical column because it got only 8-9 unique values we can impute it with mode.\n",
    "df['maximum_days_inactive'].fillna(df['maximum_days_inactive'].mode()[0],inplace=True)"
   ]
  },
  {
   "cell_type": "code",
   "execution_count": 89,
   "id": "9fb4d785",
   "metadata": {},
   "outputs": [
    {
     "data": {
      "text/plain": [
       "3    954\n",
       "4    634\n",
       "2    267\n",
       "5     83\n",
       "1     12\n",
       "0     11\n",
       "6      2\n",
       "Name: maximum_days_inactive, dtype: int64"
      ]
     },
     "execution_count": 89,
     "metadata": {},
     "output_type": "execute_result"
    }
   ],
   "source": [
    "# Looking at the Changes\n",
    "df['maximum_days_inactive'].value_counts()"
   ]
  },
  {
   "cell_type": "code",
   "execution_count": 90,
   "id": "ec2866e7",
   "metadata": {},
   "outputs": [],
   "source": [
    "# Let's change the DataType to int\n",
    "df['maximum_days_inactive'] = df['maximum_days_inactive'].astype(\"int32\")"
   ]
  },
  {
   "cell_type": "code",
   "execution_count": 91,
   "id": "7c2de04e",
   "metadata": {},
   "outputs": [
    {
     "data": {
      "text/plain": [
       "<AxesSubplot:xlabel='maximum_days_inactive', ylabel='count'>"
      ]
     },
     "execution_count": 91,
     "metadata": {},
     "output_type": "execute_result"
    },
    {
     "data": {
      "image/png": "[encoded data removed]",
      "text/plain": [
       "<Figure size 864x432 with 1 Axes>"
      ]
     },
     "metadata": {},
     "output_type": "display_data"
    }
   ],
   "source": [
    "# Plotting the Frequencies\n",
    "plt.figure(figsize=(12,6))\n",
    "sns.countplot(df['maximum_days_inactive'],palette='hls',hue=df['churn'])"
   ]
  },
  {
   "cell_type": "code",
   "execution_count": 92,
   "id": "628b1088",
   "metadata": {},
   "outputs": [
    {
     "data": {
      "text/plain": [
       "10"
      ]
     },
     "execution_count": 92,
     "metadata": {},
     "output_type": "execute_result"
    }
   ],
   "source": [
    "# Customer_support_calls\n",
    "df['customer_support_calls'].nunique()"
   ]
  },
  {
   "cell_type": "code",
   "execution_count": 94,
   "id": "4d2bd4d2",
   "metadata": {},
   "outputs": [
    {
     "data": {
      "text/plain": [
       "array([1, 2, 5, 3, 4, 0, 7, 8, 6, 9], dtype=int64)"
      ]
     },
     "execution_count": 94,
     "metadata": {},
     "output_type": "execute_result"
    }
   ],
   "source": [
    "# Unique values\n",
    "df['customer_support_calls'].unique()"
   ]
  },
  {
   "cell_type": "code",
   "execution_count": 95,
   "id": "31ddc025",
   "metadata": {},
   "outputs": [],
   "source": [
    "# It contains only 10 unique values."
   ]
  },
  {
   "cell_type": "code",
   "execution_count": 96,
   "id": "f52f8cf3",
   "metadata": {},
   "outputs": [
    {
     "data": {
      "image/png": "[encoded data removed]",
      "text/plain": [
       "<Figure size 864x432 with 1 Axes>"
      ]
     },
     "metadata": {},
     "output_type": "display_data"
    }
   ],
   "source": [
    "plt.figure(figsize=(12,6))\n",
    "sns.countplot(df['customer_support_calls'],hue=df[\"churn\"],palette='dark')\n",
    "plt.show()"
   ]
  },
  {
   "cell_type": "code",
   "execution_count": 97,
   "id": "6db198c4",
   "metadata": {},
   "outputs": [
    {
     "data": {
      "text/plain": [
       "year                       0\n",
       "gender                     0\n",
       "age                        0\n",
       "no_of_days_subscribed      0\n",
       "multi_screen               0\n",
       "mail_subscribed            0\n",
       "weekly_mins_watched        0\n",
       "minimum_daily_mins         0\n",
       "maximum_daily_mins         0\n",
       "weekly_max_night_mins      0\n",
       "videos_watched             0\n",
       "maximum_days_inactive      0\n",
       "customer_support_calls     0\n",
       "churn                     35\n",
       "dtype: int64"
      ]
     },
     "execution_count": 97,
     "metadata": {},
     "output_type": "execute_result"
    }
   ],
   "source": [
    "# Finally let's check is there any missing values left or not.\n",
    "df.isnull().sum()"
   ]
  },
  {
   "cell_type": "code",
   "execution_count": 102,
   "id": "e35a8545",
   "metadata": {},
   "outputs": [],
   "source": [
    "marker = dict(markerfacecolor='violet',markeredgecolor='red',markersize=5,marker='o')"
   ]
  },
  {
   "cell_type": "code",
   "execution_count": 103,
   "id": "85dd42c4",
   "metadata": {
    "scrolled": false
   },
   "outputs": [
    {
     "data": {
      "image/png": "[encoded data removed]",
      "text/plain": [
       "<Figure size 864x432 with 1 Axes>"
      ]
     },
     "metadata": {},
     "output_type": "display_data"
    },
    {
     "data": {
      "image/png": "[encoded data removed]",
      "text/plain": [
       "<Figure size 864x432 with 1 Axes>"
      ]
     },
     "metadata": {},
     "output_type": "display_data"
    },
    {
     "data": {
      "image/png": "[encoded data removed]",
      "text/plain": [
       "<Figure size 864x432 with 1 Axes>"
      ]
     },
     "metadata": {},
     "output_type": "display_data"
    },
    {
     "data": {
      "image/png": "[encoded data removed]",
      "text/plain": [
       "<Figure size 864x432 with 1 Axes>"
      ]
     },
     "metadata": {},
     "output_type": "display_data"
    },
    {
     "data": {
      "image/png": "[encoded data removed]",
      "text/plain": [
       "<Figure size 864x432 with 1 Axes>"
      ]
     },
     "metadata": {},
     "output_type": "display_data"
    },
    {
     "data": {
      "image/png": "[encoded data removed]",
      "text/plain": [
       "<Figure size 864x432 with 1 Axes>"
      ]
     },
     "metadata": {},
     "output_type": "display_data"
    },
    {
     "data": {
      "image/png": "[encoded data removed]",
      "text/plain": [
       "<Figure size 864x432 with 1 Axes>"
      ]
     },
     "metadata": {},
     "output_type": "display_data"
    },
    {
     "data": {
      "image/png": "[encoded data removed]",
      "text/plain": [
       "<Figure size 864x432 with 1 Axes>"
      ]
     },
     "metadata": {},
     "output_type": "display_data"
    },
    {
     "data": {
      "image/png": "[encoded data removed]",
      "text/plain": [
       "<Figure size 864x432 with 1 Axes>"
      ]
     },
     "metadata": {},
     "output_type": "display_data"
    },
    {
     "data": {
      "image/png": "[encoded data removed]",
      "text/plain": [
       "<Figure size 864x432 with 1 Axes>"
      ]
     },
     "metadata": {},
     "output_type": "display_data"
    },
    {
     "data": {
      "image/png": "[encoded data removed]",
      "text/plain": [
       "<Figure size 864x432 with 1 Axes>"
      ]
     },
     "metadata": {},
     "output_type": "display_data"
    }
   ],
   "source": [
    "# Detecting Outliers\n",
    "for col in num_cols:\n",
    "    plt.figure(figsize=(12,6))\n",
    "    sns.boxplot(df[col],palette='dark',flierprops = marker)\n",
    "    plt.title(col)\n",
    "    plt.show()"
   ]
  },
  {
   "cell_type": "code",
   "execution_count": 104,
   "id": "ad042d72",
   "metadata": {},
   "outputs": [
    {
     "data": {
      "text/plain": [
       "Index(['year', 'gender', 'age', 'no_of_days_subscribed', 'multi_screen',\n",
       "       'mail_subscribed', 'weekly_mins_watched', 'minimum_daily_mins',\n",
       "       'maximum_daily_mins', 'weekly_max_night_mins', 'videos_watched',\n",
       "       'maximum_days_inactive', 'customer_support_calls', 'churn'],\n",
       "      dtype='object')"
      ]
     },
     "execution_count": 104,
     "metadata": {},
     "output_type": "execute_result"
    }
   ],
   "source": [
    "df.columns"
   ]
  },
  {
   "cell_type": "code",
   "execution_count": 105,
   "id": "1f192f3b",
   "metadata": {},
   "outputs": [],
   "source": [
    "cols_with_outliers = [\"age\",\"no_of_days_subscribed\",\"minimum_daily_mins\",\"maximum_daily_mins\",\"videos_watched\"]"
   ]
  },
  {
   "cell_type": "code",
   "execution_count": 106,
   "id": "11b4ca6b",
   "metadata": {},
   "outputs": [],
   "source": [
    "# Let's try to remove the Outliers in the numerical columns\n",
    "def remove_outliers(data,columns):\n",
    "    for column in columns:\n",
    "        iqr = np.percentile(data[column],75) - np.percentile(data[column],25)\n",
    "        lower_boundary = np.percentile(data[column],25) - (1.5 * iqr)\n",
    "        upper_boundary = np.percentile(data[column],75) + (1.5 * iqr)\n",
    "#         print(iqr,lower_boundary,upper_boundary)\n",
    "        data = data[(data[column] >= lower_boundary) & (data[column] <= upper_boundary)]\n",
    "    return data"
   ]
  },
  {
   "cell_type": "code",
   "execution_count": 107,
   "id": "20eb1c26",
   "metadata": {},
   "outputs": [],
   "source": [
    "data = df.copy()\n",
    "new_df = remove_outliers(df,cols_with_outliers)"
   ]
  },
  {
   "cell_type": "code",
   "execution_count": 108,
   "id": "4e8be8d8",
   "metadata": {},
   "outputs": [],
   "source": [
    "df = new_df.copy()"
   ]
  },
  {
   "cell_type": "code",
   "execution_count": 110,
   "id": "e5b35f3a",
   "metadata": {
    "scrolled": false
   },
   "outputs": [
    {
     "data": {
      "image/png": "[encoded data removed]",
      "text/plain": [
       "<Figure size 864x432 with 1 Axes>"
      ]
     },
     "metadata": {},
     "output_type": "display_data"
    },
    {
     "data": {
      "image/png": "[encoded data removed]",
      "text/plain": [
       "<Figure size 864x432 with 1 Axes>"
      ]
     },
     "metadata": {},
     "output_type": "display_data"
    },
    {
     "data": {
      "image/png": "[encoded data removed]",
      "text/plain": [
       "<Figure size 864x432 with 1 Axes>"
      ]
     },
     "metadata": {},
     "output_type": "display_data"
    },
    {
     "data": {
      "image/png": "[encoded data removed]",
      "text/plain": [
       "<Figure size 864x432 with 1 Axes>"
      ]
     },
     "metadata": {},
     "output_type": "display_data"
    },
    {
     "data": {
      "image/png": "[encoded data removed]",
      "text/plain": [
       "<Figure size 864x432 with 1 Axes>"
      ]
     },
     "metadata": {},
     "output_type": "display_data"
    }
   ],
   "source": [
    "# Checking whether the Outliers are removed or Not.\n",
    "for column in cols_with_outliers:\n",
    "    plt.figure(figsize=(12,6))\n",
    "    sns.boxplot(df[column],color='lightblue',flierprops=marker)\n",
    "    plt.show()"
   ]
  },
  {
   "cell_type": "code",
   "execution_count": 111,
   "id": "3a3fb66d",
   "metadata": {},
   "outputs": [],
   "source": [
    "# as we can see only the target column has the missing values \n",
    "# we create a model to fill them \n",
    "# before that let's reset the index of the DataFrame\n",
    "churn_test = df[df['churn'].isnull()]"
   ]
  },
  {
   "cell_type": "code",
   "execution_count": 112,
   "id": "189be11c",
   "metadata": {},
   "outputs": [],
   "source": [
    "churn_test.drop(\"churn\",axis=1,inplace=True)"
   ]
  },
  {
   "cell_type": "code",
   "execution_count": 113,
   "id": "32e92afa",
   "metadata": {},
   "outputs": [
    {
     "data": {
      "text/html": [
       "<div>\n",
       "<style scoped>\n",
       "    .dataframe tbody tr th:only-of-type {\n",
       "        vertical-align: middle;\n",
       "    }\n",
       "\n",
       "    .dataframe tbody tr th {\n",
       "        vertical-align: top;\n",
       "    }\n",
       "\n",
       "    .dataframe thead th {\n",
       "        text-align: right;\n",
       "    }\n",
       "</style>\n",
       "<table border=\"1\" class=\"dataframe\">\n",
       "  <thead>\n",
       "    <tr style=\"text-align: right;\">\n",
       "      <th></th>\n",
       "      <th>year</th>\n",
       "      <th>gender</th>\n",
       "      <th>age</th>\n",
       "      <th>no_of_days_subscribed</th>\n",
       "      <th>multi_screen</th>\n",
       "      <th>mail_subscribed</th>\n",
       "      <th>weekly_mins_watched</th>\n",
       "      <th>minimum_daily_mins</th>\n",
       "      <th>maximum_daily_mins</th>\n",
       "      <th>weekly_max_night_mins</th>\n",
       "      <th>videos_watched</th>\n",
       "      <th>maximum_days_inactive</th>\n",
       "      <th>customer_support_calls</th>\n",
       "    </tr>\n",
       "  </thead>\n",
       "  <tbody>\n",
       "    <tr>\n",
       "      <th>81</th>\n",
       "      <td>2015</td>\n",
       "      <td>1</td>\n",
       "      <td>36</td>\n",
       "      <td>92.0</td>\n",
       "      <td>0</td>\n",
       "      <td>1</td>\n",
       "      <td>276.00</td>\n",
       "      <td>12.7</td>\n",
       "      <td>31.28</td>\n",
       "      <td>96</td>\n",
       "      <td>3.0</td>\n",
       "      <td>3</td>\n",
       "      <td>2</td>\n",
       "    </tr>\n",
       "    <tr>\n",
       "      <th>82</th>\n",
       "      <td>2015</td>\n",
       "      <td>1</td>\n",
       "      <td>39</td>\n",
       "      <td>103.0</td>\n",
       "      <td>0</td>\n",
       "      <td>0</td>\n",
       "      <td>240.30</td>\n",
       "      <td>9.7</td>\n",
       "      <td>27.23</td>\n",
       "      <td>97</td>\n",
       "      <td>2.0</td>\n",
       "      <td>3</td>\n",
       "      <td>0</td>\n",
       "    </tr>\n",
       "    <tr>\n",
       "      <th>120</th>\n",
       "      <td>2015</td>\n",
       "      <td>0</td>\n",
       "      <td>32</td>\n",
       "      <td>66.0</td>\n",
       "      <td>0</td>\n",
       "      <td>1</td>\n",
       "      <td>262.05</td>\n",
       "      <td>8.9</td>\n",
       "      <td>29.70</td>\n",
       "      <td>98</td>\n",
       "      <td>2.0</td>\n",
       "      <td>3</td>\n",
       "      <td>1</td>\n",
       "    </tr>\n",
       "    <tr>\n",
       "      <th>121</th>\n",
       "      <td>2015</td>\n",
       "      <td>0</td>\n",
       "      <td>37</td>\n",
       "      <td>87.0</td>\n",
       "      <td>0</td>\n",
       "      <td>0</td>\n",
       "      <td>235.20</td>\n",
       "      <td>7.6</td>\n",
       "      <td>26.66</td>\n",
       "      <td>77</td>\n",
       "      <td>6.0</td>\n",
       "      <td>3</td>\n",
       "      <td>1</td>\n",
       "    </tr>\n",
       "    <tr>\n",
       "      <th>156</th>\n",
       "      <td>2015</td>\n",
       "      <td>1</td>\n",
       "      <td>37</td>\n",
       "      <td>99.0</td>\n",
       "      <td>0</td>\n",
       "      <td>0</td>\n",
       "      <td>173.25</td>\n",
       "      <td>11.5</td>\n",
       "      <td>19.64</td>\n",
       "      <td>98</td>\n",
       "      <td>7.0</td>\n",
       "      <td>4</td>\n",
       "      <td>7</td>\n",
       "    </tr>\n",
       "    <tr>\n",
       "      <th>157</th>\n",
       "      <td>2015</td>\n",
       "      <td>1</td>\n",
       "      <td>28</td>\n",
       "      <td>128.0</td>\n",
       "      <td>0</td>\n",
       "      <td>0</td>\n",
       "      <td>356.85</td>\n",
       "      <td>13.9</td>\n",
       "      <td>40.44</td>\n",
       "      <td>68</td>\n",
       "      <td>4.0</td>\n",
       "      <td>4</td>\n",
       "      <td>1</td>\n",
       "    </tr>\n",
       "    <tr>\n",
       "      <th>194</th>\n",
       "      <td>2015</td>\n",
       "      <td>0</td>\n",
       "      <td>31</td>\n",
       "      <td>151.0</td>\n",
       "      <td>1</td>\n",
       "      <td>0</td>\n",
       "      <td>327.00</td>\n",
       "      <td>12.4</td>\n",
       "      <td>37.06</td>\n",
       "      <td>95</td>\n",
       "      <td>1.0</td>\n",
       "      <td>4</td>\n",
       "      <td>0</td>\n",
       "    </tr>\n",
       "    <tr>\n",
       "      <th>195</th>\n",
       "      <td>2015</td>\n",
       "      <td>0</td>\n",
       "      <td>40</td>\n",
       "      <td>105.0</td>\n",
       "      <td>0</td>\n",
       "      <td>1</td>\n",
       "      <td>211.80</td>\n",
       "      <td>11.4</td>\n",
       "      <td>24.00</td>\n",
       "      <td>101</td>\n",
       "      <td>2.0</td>\n",
       "      <td>4</td>\n",
       "      <td>1</td>\n",
       "    </tr>\n",
       "    <tr>\n",
       "      <th>228</th>\n",
       "      <td>2015</td>\n",
       "      <td>0</td>\n",
       "      <td>38</td>\n",
       "      <td>80.0</td>\n",
       "      <td>0</td>\n",
       "      <td>0</td>\n",
       "      <td>177.15</td>\n",
       "      <td>8.2</td>\n",
       "      <td>20.08</td>\n",
       "      <td>86</td>\n",
       "      <td>6.0</td>\n",
       "      <td>3</td>\n",
       "      <td>1</td>\n",
       "    </tr>\n",
       "    <tr>\n",
       "      <th>290</th>\n",
       "      <td>2015</td>\n",
       "      <td>0</td>\n",
       "      <td>60</td>\n",
       "      <td>93.0</td>\n",
       "      <td>1</td>\n",
       "      <td>0</td>\n",
       "      <td>325.35</td>\n",
       "      <td>17.5</td>\n",
       "      <td>36.87</td>\n",
       "      <td>110</td>\n",
       "      <td>5.0</td>\n",
       "      <td>5</td>\n",
       "      <td>1</td>\n",
       "    </tr>\n",
       "    <tr>\n",
       "      <th>291</th>\n",
       "      <td>2015</td>\n",
       "      <td>1</td>\n",
       "      <td>35</td>\n",
       "      <td>92.0</td>\n",
       "      <td>0</td>\n",
       "      <td>0</td>\n",
       "      <td>318.60</td>\n",
       "      <td>9.0</td>\n",
       "      <td>36.11</td>\n",
       "      <td>105</td>\n",
       "      <td>4.0</td>\n",
       "      <td>3</td>\n",
       "      <td>1</td>\n",
       "    </tr>\n",
       "    <tr>\n",
       "      <th>364</th>\n",
       "      <td>2015</td>\n",
       "      <td>0</td>\n",
       "      <td>34</td>\n",
       "      <td>90.0</td>\n",
       "      <td>0</td>\n",
       "      <td>0</td>\n",
       "      <td>218.25</td>\n",
       "      <td>10.9</td>\n",
       "      <td>24.74</td>\n",
       "      <td>123</td>\n",
       "      <td>2.0</td>\n",
       "      <td>3</td>\n",
       "      <td>3</td>\n",
       "    </tr>\n",
       "    <tr>\n",
       "      <th>365</th>\n",
       "      <td>2015</td>\n",
       "      <td>1</td>\n",
       "      <td>33</td>\n",
       "      <td>92.0</td>\n",
       "      <td>0</td>\n",
       "      <td>0</td>\n",
       "      <td>398.40</td>\n",
       "      <td>8.6</td>\n",
       "      <td>45.15</td>\n",
       "      <td>113</td>\n",
       "      <td>2.0</td>\n",
       "      <td>3</td>\n",
       "      <td>1</td>\n",
       "    </tr>\n",
       "    <tr>\n",
       "      <th>410</th>\n",
       "      <td>2015</td>\n",
       "      <td>0</td>\n",
       "      <td>32</td>\n",
       "      <td>143.0</td>\n",
       "      <td>0</td>\n",
       "      <td>0</td>\n",
       "      <td>334.95</td>\n",
       "      <td>4.5</td>\n",
       "      <td>37.96</td>\n",
       "      <td>84</td>\n",
       "      <td>4.0</td>\n",
       "      <td>2</td>\n",
       "      <td>0</td>\n",
       "    </tr>\n",
       "    <tr>\n",
       "      <th>451</th>\n",
       "      <td>2015</td>\n",
       "      <td>0</td>\n",
       "      <td>58</td>\n",
       "      <td>138.0</td>\n",
       "      <td>0</td>\n",
       "      <td>0</td>\n",
       "      <td>362.70</td>\n",
       "      <td>11.8</td>\n",
       "      <td>41.11</td>\n",
       "      <td>104</td>\n",
       "      <td>7.0</td>\n",
       "      <td>4</td>\n",
       "      <td>3</td>\n",
       "    </tr>\n",
       "    <tr>\n",
       "      <th>495</th>\n",
       "      <td>2015</td>\n",
       "      <td>0</td>\n",
       "      <td>48</td>\n",
       "      <td>117.0</td>\n",
       "      <td>0</td>\n",
       "      <td>0</td>\n",
       "      <td>154.20</td>\n",
       "      <td>10.1</td>\n",
       "      <td>17.48</td>\n",
       "      <td>105</td>\n",
       "      <td>7.0</td>\n",
       "      <td>3</td>\n",
       "      <td>1</td>\n",
       "    </tr>\n",
       "    <tr>\n",
       "      <th>535</th>\n",
       "      <td>2015</td>\n",
       "      <td>0</td>\n",
       "      <td>26</td>\n",
       "      <td>108.0</td>\n",
       "      <td>0</td>\n",
       "      <td>0</td>\n",
       "      <td>298.95</td>\n",
       "      <td>15.2</td>\n",
       "      <td>33.88</td>\n",
       "      <td>57</td>\n",
       "      <td>2.0</td>\n",
       "      <td>5</td>\n",
       "      <td>0</td>\n",
       "    </tr>\n",
       "    <tr>\n",
       "      <th>536</th>\n",
       "      <td>2015</td>\n",
       "      <td>0</td>\n",
       "      <td>36</td>\n",
       "      <td>69.0</td>\n",
       "      <td>0</td>\n",
       "      <td>0</td>\n",
       "      <td>277.95</td>\n",
       "      <td>5.5</td>\n",
       "      <td>31.50</td>\n",
       "      <td>107</td>\n",
       "      <td>5.0</td>\n",
       "      <td>2</td>\n",
       "      <td>0</td>\n",
       "    </tr>\n",
       "    <tr>\n",
       "      <th>537</th>\n",
       "      <td>2015</td>\n",
       "      <td>0</td>\n",
       "      <td>24</td>\n",
       "      <td>73.0</td>\n",
       "      <td>0</td>\n",
       "      <td>0</td>\n",
       "      <td>336.60</td>\n",
       "      <td>13.0</td>\n",
       "      <td>38.15</td>\n",
       "      <td>74</td>\n",
       "      <td>2.0</td>\n",
       "      <td>4</td>\n",
       "      <td>1</td>\n",
       "    </tr>\n",
       "    <tr>\n",
       "      <th>538</th>\n",
       "      <td>2015</td>\n",
       "      <td>1</td>\n",
       "      <td>46</td>\n",
       "      <td>24.0</td>\n",
       "      <td>0</td>\n",
       "      <td>0</td>\n",
       "      <td>364.50</td>\n",
       "      <td>15.3</td>\n",
       "      <td>41.31</td>\n",
       "      <td>109</td>\n",
       "      <td>6.0</td>\n",
       "      <td>5</td>\n",
       "      <td>0</td>\n",
       "    </tr>\n",
       "    <tr>\n",
       "      <th>677</th>\n",
       "      <td>2015</td>\n",
       "      <td>0</td>\n",
       "      <td>29</td>\n",
       "      <td>110.0</td>\n",
       "      <td>0</td>\n",
       "      <td>1</td>\n",
       "      <td>303.90</td>\n",
       "      <td>9.0</td>\n",
       "      <td>34.44</td>\n",
       "      <td>98</td>\n",
       "      <td>9.0</td>\n",
       "      <td>3</td>\n",
       "      <td>2</td>\n",
       "    </tr>\n",
       "    <tr>\n",
       "      <th>678</th>\n",
       "      <td>2015</td>\n",
       "      <td>1</td>\n",
       "      <td>25</td>\n",
       "      <td>44.0</td>\n",
       "      <td>0</td>\n",
       "      <td>0</td>\n",
       "      <td>432.15</td>\n",
       "      <td>10.2</td>\n",
       "      <td>48.98</td>\n",
       "      <td>90</td>\n",
       "      <td>4.0</td>\n",
       "      <td>3</td>\n",
       "      <td>3</td>\n",
       "    </tr>\n",
       "    <tr>\n",
       "      <th>767</th>\n",
       "      <td>2015</td>\n",
       "      <td>0</td>\n",
       "      <td>37</td>\n",
       "      <td>86.0</td>\n",
       "      <td>0</td>\n",
       "      <td>1</td>\n",
       "      <td>178.50</td>\n",
       "      <td>9.5</td>\n",
       "      <td>20.23</td>\n",
       "      <td>58</td>\n",
       "      <td>3.0</td>\n",
       "      <td>3</td>\n",
       "      <td>0</td>\n",
       "    </tr>\n",
       "    <tr>\n",
       "      <th>768</th>\n",
       "      <td>2015</td>\n",
       "      <td>0</td>\n",
       "      <td>28</td>\n",
       "      <td>112.0</td>\n",
       "      <td>0</td>\n",
       "      <td>0</td>\n",
       "      <td>173.70</td>\n",
       "      <td>13.1</td>\n",
       "      <td>19.69</td>\n",
       "      <td>78</td>\n",
       "      <td>5.0</td>\n",
       "      <td>4</td>\n",
       "      <td>1</td>\n",
       "    </tr>\n",
       "    <tr>\n",
       "      <th>813</th>\n",
       "      <td>2015</td>\n",
       "      <td>0</td>\n",
       "      <td>23</td>\n",
       "      <td>80.0</td>\n",
       "      <td>0</td>\n",
       "      <td>0</td>\n",
       "      <td>403.05</td>\n",
       "      <td>5.8</td>\n",
       "      <td>45.68</td>\n",
       "      <td>140</td>\n",
       "      <td>1.0</td>\n",
       "      <td>2</td>\n",
       "      <td>2</td>\n",
       "    </tr>\n",
       "    <tr>\n",
       "      <th>875</th>\n",
       "      <td>2015</td>\n",
       "      <td>1</td>\n",
       "      <td>46</td>\n",
       "      <td>110.0</td>\n",
       "      <td>0</td>\n",
       "      <td>0</td>\n",
       "      <td>363.75</td>\n",
       "      <td>7.8</td>\n",
       "      <td>41.23</td>\n",
       "      <td>86</td>\n",
       "      <td>3.0</td>\n",
       "      <td>3</td>\n",
       "      <td>4</td>\n",
       "    </tr>\n",
       "    <tr>\n",
       "      <th>876</th>\n",
       "      <td>2015</td>\n",
       "      <td>1</td>\n",
       "      <td>28</td>\n",
       "      <td>31.0</td>\n",
       "      <td>0</td>\n",
       "      <td>0</td>\n",
       "      <td>265.95</td>\n",
       "      <td>5.1</td>\n",
       "      <td>30.14</td>\n",
       "      <td>92</td>\n",
       "      <td>2.0</td>\n",
       "      <td>2</td>\n",
       "      <td>0</td>\n",
       "    </tr>\n",
       "    <tr>\n",
       "      <th>910</th>\n",
       "      <td>2015</td>\n",
       "      <td>0</td>\n",
       "      <td>44</td>\n",
       "      <td>125.0</td>\n",
       "      <td>0</td>\n",
       "      <td>0</td>\n",
       "      <td>214.80</td>\n",
       "      <td>8.8</td>\n",
       "      <td>24.34</td>\n",
       "      <td>135</td>\n",
       "      <td>7.0</td>\n",
       "      <td>3</td>\n",
       "      <td>4</td>\n",
       "    </tr>\n",
       "    <tr>\n",
       "      <th>911</th>\n",
       "      <td>2015</td>\n",
       "      <td>1</td>\n",
       "      <td>47</td>\n",
       "      <td>103.0</td>\n",
       "      <td>0</td>\n",
       "      <td>1</td>\n",
       "      <td>278.10</td>\n",
       "      <td>14.5</td>\n",
       "      <td>31.52</td>\n",
       "      <td>110</td>\n",
       "      <td>4.0</td>\n",
       "      <td>4</td>\n",
       "      <td>2</td>\n",
       "    </tr>\n",
       "    <tr>\n",
       "      <th>915</th>\n",
       "      <td>2015</td>\n",
       "      <td>0</td>\n",
       "      <td>43</td>\n",
       "      <td>172.0</td>\n",
       "      <td>0</td>\n",
       "      <td>0</td>\n",
       "      <td>430.65</td>\n",
       "      <td>14.4</td>\n",
       "      <td>48.81</td>\n",
       "      <td>98</td>\n",
       "      <td>2.0</td>\n",
       "      <td>4</td>\n",
       "      <td>3</td>\n",
       "    </tr>\n",
       "    <tr>\n",
       "      <th>1993</th>\n",
       "      <td>2015</td>\n",
       "      <td>0</td>\n",
       "      <td>36</td>\n",
       "      <td>127.0</td>\n",
       "      <td>0</td>\n",
       "      <td>0</td>\n",
       "      <td>303.15</td>\n",
       "      <td>11.5</td>\n",
       "      <td>34.36</td>\n",
       "      <td>113</td>\n",
       "      <td>3.0</td>\n",
       "      <td>4</td>\n",
       "      <td>2</td>\n",
       "    </tr>\n",
       "    <tr>\n",
       "      <th>1995</th>\n",
       "      <td>2015</td>\n",
       "      <td>1</td>\n",
       "      <td>54</td>\n",
       "      <td>75.0</td>\n",
       "      <td>0</td>\n",
       "      <td>1</td>\n",
       "      <td>182.25</td>\n",
       "      <td>11.3</td>\n",
       "      <td>20.66</td>\n",
       "      <td>97</td>\n",
       "      <td>5.0</td>\n",
       "      <td>4</td>\n",
       "      <td>2</td>\n",
       "    </tr>\n",
       "  </tbody>\n",
       "</table>\n",
       "</div>"
      ],
      "text/plain": [
       "      year  gender  age  no_of_days_subscribed  multi_screen  mail_subscribed  \\\n",
       "81    2015       1   36                   92.0             0                1   \n",
       "82    2015       1   39                  103.0             0                0   \n",
       "120   2015       0   32                   66.0             0                1   \n",
       "121   2015       0   37                   87.0             0                0   \n",
       "156   2015       1   37                   99.0             0                0   \n",
       "157   2015       1   28                  128.0             0                0   \n",
       "194   2015       0   31                  151.0             1                0   \n",
       "195   2015       0   40                  105.0             0                1   \n",
       "228   2015       0   38                   80.0             0                0   \n",
       "290   2015       0   60                   93.0             1                0   \n",
       "291   2015       1   35                   92.0             0                0   \n",
       "364   2015       0   34                   90.0             0                0   \n",
       "365   2015       1   33                   92.0             0                0   \n",
       "410   2015       0   32                  143.0             0                0   \n",
       "451   2015       0   58                  138.0             0                0   \n",
       "495   2015       0   48                  117.0             0                0   \n",
       "535   2015       0   26                  108.0             0                0   \n",
       "536   2015       0   36                   69.0             0                0   \n",
       "537   2015       0   24                   73.0             0                0   \n",
       "538   2015       1   46                   24.0             0                0   \n",
       "677   2015       0   29                  110.0             0                1   \n",
       "678   2015       1   25                   44.0             0                0   \n",
       "767   2015       0   37                   86.0             0                1   \n",
       "768   2015       0   28                  112.0             0                0   \n",
       "813   2015       0   23                   80.0             0                0   \n",
       "875   2015       1   46                  110.0             0                0   \n",
       "876   2015       1   28                   31.0             0                0   \n",
       "910   2015       0   44                  125.0             0                0   \n",
       "911   2015       1   47                  103.0             0                1   \n",
       "915   2015       0   43                  172.0             0                0   \n",
       "1993  2015       0   36                  127.0             0                0   \n",
       "1995  2015       1   54                   75.0             0                1   \n",
       "\n",
       "      weekly_mins_watched  minimum_daily_mins  maximum_daily_mins  \\\n",
       "81                 276.00                12.7               31.28   \n",
       "82                 240.30                 9.7               27.23   \n",
       "120                262.05                 8.9               29.70   \n",
       "121                235.20                 7.6               26.66   \n",
       "156                173.25                11.5               19.64   \n",
       "157                356.85                13.9               40.44   \n",
       "194                327.00                12.4               37.06   \n",
       "195                211.80                11.4               24.00   \n",
       "228                177.15                 8.2               20.08   \n",
       "290                325.35                17.5               36.87   \n",
       "291                318.60                 9.0               36.11   \n",
       "364                218.25                10.9               24.74   \n",
       "365                398.40                 8.6               45.15   \n",
       "410                334.95                 4.5               37.96   \n",
       "451                362.70                11.8               41.11   \n",
       "495                154.20                10.1               17.48   \n",
       "535                298.95                15.2               33.88   \n",
       "536                277.95                 5.5               31.50   \n",
       "537                336.60                13.0               38.15   \n",
       "538                364.50                15.3               41.31   \n",
       "677                303.90                 9.0               34.44   \n",
       "678                432.15                10.2               48.98   \n",
       "767                178.50                 9.5               20.23   \n",
       "768                173.70                13.1               19.69   \n",
       "813                403.05                 5.8               45.68   \n",
       "875                363.75                 7.8               41.23   \n",
       "876                265.95                 5.1               30.14   \n",
       "910                214.80                 8.8               24.34   \n",
       "911                278.10                14.5               31.52   \n",
       "915                430.65                14.4               48.81   \n",
       "1993               303.15                11.5               34.36   \n",
       "1995               182.25                11.3               20.66   \n",
       "\n",
       "      weekly_max_night_mins  videos_watched  maximum_days_inactive  \\\n",
       "81                       96             3.0                      3   \n",
       "82                       97             2.0                      3   \n",
       "120                      98             2.0                      3   \n",
       "121                      77             6.0                      3   \n",
       "156                      98             7.0                      4   \n",
       "157                      68             4.0                      4   \n",
       "194                      95             1.0                      4   \n",
       "195                     101             2.0                      4   \n",
       "228                      86             6.0                      3   \n",
       "290                     110             5.0                      5   \n",
       "291                     105             4.0                      3   \n",
       "364                     123             2.0                      3   \n",
       "365                     113             2.0                      3   \n",
       "410                      84             4.0                      2   \n",
       "451                     104             7.0                      4   \n",
       "495                     105             7.0                      3   \n",
       "535                      57             2.0                      5   \n",
       "536                     107             5.0                      2   \n",
       "537                      74             2.0                      4   \n",
       "538                     109             6.0                      5   \n",
       "677                      98             9.0                      3   \n",
       "678                      90             4.0                      3   \n",
       "767                      58             3.0                      3   \n",
       "768                      78             5.0                      4   \n",
       "813                     140             1.0                      2   \n",
       "875                      86             3.0                      3   \n",
       "876                      92             2.0                      2   \n",
       "910                     135             7.0                      3   \n",
       "911                     110             4.0                      4   \n",
       "915                      98             2.0                      4   \n",
       "1993                    113             3.0                      4   \n",
       "1995                     97             5.0                      4   \n",
       "\n",
       "      customer_support_calls  \n",
       "81                         2  \n",
       "82                         0  \n",
       "120                        1  \n",
       "121                        1  \n",
       "156                        7  \n",
       "157                        1  \n",
       "194                        0  \n",
       "195                        1  \n",
       "228                        1  \n",
       "290                        1  \n",
       "291                        1  \n",
       "364                        3  \n",
       "365                        1  \n",
       "410                        0  \n",
       "451                        3  \n",
       "495                        1  \n",
       "535                        0  \n",
       "536                        0  \n",
       "537                        1  \n",
       "538                        0  \n",
       "677                        2  \n",
       "678                        3  \n",
       "767                        0  \n",
       "768                        1  \n",
       "813                        2  \n",
       "875                        4  \n",
       "876                        0  \n",
       "910                        4  \n",
       "911                        2  \n",
       "915                        3  \n",
       "1993                       2  \n",
       "1995                       2  "
      ]
     },
     "execution_count": 113,
     "metadata": {},
     "output_type": "execute_result"
    }
   ],
   "source": [
    "churn_test"
   ]
  },
  {
   "cell_type": "code",
   "execution_count": 114,
   "id": "e783b6a7",
   "metadata": {},
   "outputs": [],
   "source": [
    "train_df = df.drop(index=churn_test.index,axis=0)"
   ]
  },
  {
   "cell_type": "code",
   "execution_count": 115,
   "id": "74dd2cbe",
   "metadata": {},
   "outputs": [],
   "source": [
    "X = train_df.drop('churn',axis=1)\n",
    "y = train_df['churn']"
   ]
  },
  {
   "cell_type": "code",
   "execution_count": 116,
   "id": "57975522",
   "metadata": {},
   "outputs": [],
   "source": [
    "from sklearn.tree import DecisionTreeClassifier\n",
    "dtc = DecisionTreeClassifier()\n",
    "dtc.fit(X,y)\n",
    "preds = dtc.predict(churn_test)"
   ]
  },
  {
   "cell_type": "code",
   "execution_count": 117,
   "id": "4784ae64",
   "metadata": {},
   "outputs": [
    {
     "data": {
      "text/plain": [
       "array([0., 0., 0., 0., 1., 0., 1., 0., 0., 1., 0., 0., 1., 0., 0., 0., 0.,\n",
       "       0., 0., 0., 0., 0., 0., 0., 1., 0., 0., 0., 0., 1., 0., 0.])"
      ]
     },
     "execution_count": 117,
     "metadata": {},
     "output_type": "execute_result"
    }
   ],
   "source": [
    "preds"
   ]
  },
  {
   "cell_type": "code",
   "execution_count": 118,
   "id": "58aab7f3",
   "metadata": {},
   "outputs": [],
   "source": [
    "churn_test['churn'] = preds"
   ]
  },
  {
   "cell_type": "code",
   "execution_count": 119,
   "id": "fdab2e8d",
   "metadata": {},
   "outputs": [],
   "source": [
    "df = pd.concat([train_df,churn_test])"
   ]
  },
  {
   "cell_type": "code",
   "execution_count": 120,
   "id": "7803bef1",
   "metadata": {},
   "outputs": [
    {
     "data": {
      "text/plain": [
       "year                      0\n",
       "gender                    0\n",
       "age                       0\n",
       "no_of_days_subscribed     0\n",
       "multi_screen              0\n",
       "mail_subscribed           0\n",
       "weekly_mins_watched       0\n",
       "minimum_daily_mins        0\n",
       "maximum_daily_mins        0\n",
       "weekly_max_night_mins     0\n",
       "videos_watched            0\n",
       "maximum_days_inactive     0\n",
       "customer_support_calls    0\n",
       "churn                     0\n",
       "dtype: int64"
      ]
     },
     "execution_count": 120,
     "metadata": {},
     "output_type": "execute_result"
    }
   ],
   "source": [
    "df.isnull().sum()"
   ]
  },
  {
   "cell_type": "code",
   "execution_count": 121,
   "id": "2578e94e",
   "metadata": {},
   "outputs": [
    {
     "data": {
      "text/plain": [
       "(1805, 14)"
      ]
     },
     "execution_count": 121,
     "metadata": {},
     "output_type": "execute_result"
    }
   ],
   "source": [
    "df.shape"
   ]
  },
  {
   "cell_type": "code",
   "execution_count": 122,
   "id": "13d9fbe6",
   "metadata": {},
   "outputs": [
    {
     "data": {
      "text/plain": [
       "0.0    0.874238\n",
       "1.0    0.125762\n",
       "Name: churn, dtype: float64"
      ]
     },
     "execution_count": 122,
     "metadata": {},
     "output_type": "execute_result"
    }
   ],
   "source": [
    "# Finally let's check the class imbalance\n",
    "df['churn'].value_counts() / df.shape[0]"
   ]
  },
  {
   "cell_type": "code",
   "execution_count": 123,
   "id": "b0258d32",
   "metadata": {},
   "outputs": [
    {
     "data": {
      "text/plain": [
       "<AxesSubplot:xlabel='churn', ylabel='count'>"
      ]
     },
     "execution_count": 123,
     "metadata": {},
     "output_type": "execute_result"
    },
    {
     "data": {
      "image/png": "[encoded data removed]",
      "text/plain": [
       "<Figure size 864x432 with 1 Axes>"
      ]
     },
     "metadata": {},
     "output_type": "display_data"
    }
   ],
   "source": [
    "plt.figure(figsize=(12,6))\n",
    "sns.countplot(df['churn'],palette='hls')"
   ]
  },
  {
   "cell_type": "code",
   "execution_count": 124,
   "id": "c0c5d7e0",
   "metadata": {},
   "outputs": [],
   "source": [
    "# As we can see now, all the columns are labeled and cleaned."
   ]
  },
  {
   "cell_type": "code",
   "execution_count": 219,
   "id": "939d7814",
   "metadata": {},
   "outputs": [],
   "source": [
    "# Now we can split the data into dependent and independent variables\n",
    "X = df.drop('churn',axis=1)\n",
    "y = df['churn']"
   ]
  },
  {
   "cell_type": "code",
   "execution_count": 220,
   "id": "11e3bbcd",
   "metadata": {},
   "outputs": [],
   "source": [
    "# Splitting the DAta into train and test.\n",
    "X_train,X_test,y_train,y_test = train_test_split(X,y,test_size=0.25,random_state=42)"
   ]
  },
  {
   "cell_type": "code",
   "execution_count": 221,
   "id": "7b8cdbbb",
   "metadata": {},
   "outputs": [
    {
     "name": "stdout",
     "output_type": "stream",
     "text": [
      "0.8672566371681416\n",
      "[[390   2]\n",
      " [ 58   2]]\n",
      "              precision    recall  f1-score   support\n",
      "\n",
      "         0.0       0.87      0.99      0.93       392\n",
      "         1.0       0.50      0.03      0.06        60\n",
      "\n",
      "    accuracy                           0.87       452\n",
      "   macro avg       0.69      0.51      0.50       452\n",
      "weighted avg       0.82      0.87      0.81       452\n",
      "\n"
     ]
    }
   ],
   "source": [
    "# Logistic Regression \n",
    "logmod = LogisticRegression()\n",
    "logmod.fit(X_train,y_train)\n",
    "preds = logmod.predict(X_test)\n",
    "\n",
    "print(accuracy_score(y_test,preds))\n",
    "\n",
    "print(confusion_matrix(y_test,preds))\n",
    "\n",
    "print(classification_report(y_test,preds))"
   ]
  },
  {
   "cell_type": "code",
   "execution_count": 222,
   "id": "22fa44bd",
   "metadata": {},
   "outputs": [
    {
     "name": "stdout",
     "output_type": "stream",
     "text": [
      "0.8517699115044248\n",
      "[[383   9]\n",
      " [ 58   2]]\n",
      "              precision    recall  f1-score   support\n",
      "\n",
      "         0.0       0.87      0.98      0.92       392\n",
      "         1.0       0.18      0.03      0.06        60\n",
      "\n",
      "    accuracy                           0.85       452\n",
      "   macro avg       0.53      0.51      0.49       452\n",
      "weighted avg       0.78      0.85      0.80       452\n",
      "\n"
     ]
    }
   ],
   "source": [
    "knn = KNeighborsClassifier()\n",
    "knn.fit(X_train,y_train)\n",
    "preds = knn.predict(X_test)\n",
    "\n",
    "print(accuracy_score(y_test,preds))\n",
    "\n",
    "print(confusion_matrix(y_test,preds))\n",
    "\n",
    "print(classification_report(y_test,preds))"
   ]
  },
  {
   "cell_type": "code",
   "execution_count": 158,
   "id": "33e2b78f",
   "metadata": {},
   "outputs": [],
   "source": [
    "# for train_ix, test_ix in kfold.split(X, y):\n",
    "#     count = 1\n",
    "#     # select rows\n",
    "#     train_X, test_X = X.iloc[train_ix], X.iloc[test_ix]\n",
    "#     train_y, test_y = y.iloc[train_ix], y.iloc[test_ix]\n",
    "#     # summarize train and test composition\n",
    "#     train_0, train_1 = len(train_y[train_y==0]), len(train_y[train_y==1])\n",
    "#     test_0, test_1 = len(test_y[test_y==0]), len(test_y[test_y==1])\n",
    "#     print('>Train: 0=%d, 1=%d, Test: 0=%d, 1=%d' % (train_0, train_1, test_0, test_1))\n",
    "#     model = KNeighborsClassifier()\n",
    "#     model.fit(train_X,train_y)\n",
    "# print(f\"All the Folds are completed\")\n",
    "\n",
    "# print(50*\"*\")\n",
    "\n",
    "# preds = model.predict(test_X)\n",
    "\n",
    "# print(accuracy_score(test_y,preds))\n",
    "\n",
    "# print(confusion_matrix(test_y,preds))\n",
    "\n",
    "# print(classification_report(test_y,preds))"
   ]
  },
  {
   "cell_type": "code",
   "execution_count": 223,
   "id": "d5aa8e05",
   "metadata": {},
   "outputs": [],
   "source": [
    "error_rate = []\n",
    "for k in range(5,21,2):\n",
    "    knn = KNeighborsClassifier(n_neighbors=k)\n",
    "    knn.fit(X_train,y_train)\n",
    "    preds = knn.predict(X_test)\n",
    "    error_rate.append(np.mean(y_test != preds))"
   ]
  },
  {
   "cell_type": "code",
   "execution_count": 224,
   "id": "442a7772",
   "metadata": {},
   "outputs": [
    {
     "data": {
      "text/plain": [
       "Text(0, 0.5, 'Error_rate')"
      ]
     },
     "execution_count": 224,
     "metadata": {},
     "output_type": "execute_result"
    },
    {
     "data": {
      "image/png": "[encoded data removed]",
      "text/plain": [
       "<Figure size 1008x720 with 1 Axes>"
      ]
     },
     "metadata": {},
     "output_type": "display_data"
    }
   ],
   "source": [
    "plt.figure(figsize=(14,10))\n",
    "plt.plot(range(5,21,2),error_rate,color='black',linestyle='dashed',marker='o',\n",
    "        markerfacecolor='violet',markersize=10)\n",
    "plt.title(\"Error_rate VS K_value\")\n",
    "plt.xlabel('K')\n",
    "plt.ylabel('Error_rate')"
   ]
  },
  {
   "cell_type": "code",
   "execution_count": 225,
   "id": "7d9b9745",
   "metadata": {},
   "outputs": [
    {
     "name": "stdout",
     "output_type": "stream",
     "text": [
      "0.8738938053097345\n",
      "[[391   1]\n",
      " [ 56   4]]\n",
      "              precision    recall  f1-score   support\n",
      "\n",
      "         0.0       0.87      1.00      0.93       392\n",
      "         1.0       0.80      0.07      0.12        60\n",
      "\n",
      "    accuracy                           0.87       452\n",
      "   macro avg       0.84      0.53      0.53       452\n",
      "weighted avg       0.86      0.87      0.82       452\n",
      "\n"
     ]
    }
   ],
   "source": [
    "# from the above plot we can see that at n neighbors = 13 we are getting lowest error_rate\n",
    "# So let's build a model with the neighbors of 13\n",
    "knn_7 = KNeighborsClassifier(n_neighbors=13)\n",
    "knn_7.fit(X_train,y_train)\n",
    "preds = knn_7.predict(X_test)\n",
    "\n",
    "print(accuracy_score(y_test,preds))\n",
    "\n",
    "print(confusion_matrix(y_test,preds))\n",
    "\n",
    "print(classification_report(y_test,preds))"
   ]
  },
  {
   "cell_type": "code",
   "execution_count": 226,
   "id": "c44c60e3",
   "metadata": {},
   "outputs": [
    {
     "name": "stdout",
     "output_type": "stream",
     "text": [
      "0.8650442477876106\n",
      "[[358  34]\n",
      " [ 27  33]]\n",
      "              precision    recall  f1-score   support\n",
      "\n",
      "         0.0       0.93      0.91      0.92       392\n",
      "         1.0       0.49      0.55      0.52        60\n",
      "\n",
      "    accuracy                           0.87       452\n",
      "   macro avg       0.71      0.73      0.72       452\n",
      "weighted avg       0.87      0.87      0.87       452\n",
      "\n"
     ]
    }
   ],
   "source": [
    "tree = DecisionTreeClassifier()\n",
    "tree.fit(X_train,y_train)\n",
    "preds = tree.predict(X_test)\n",
    "\n",
    "print(accuracy_score(y_test,preds))\n",
    "\n",
    "print(confusion_matrix(y_test,preds))\n",
    "\n",
    "print(classification_report(y_test,preds))"
   ]
  },
  {
   "cell_type": "code",
   "execution_count": 227,
   "id": "4b0eddd1",
   "metadata": {},
   "outputs": [
    {
     "name": "stdout",
     "output_type": "stream",
     "text": [
      "0.9292035398230089\n",
      "[[384   8]\n",
      " [ 24  36]]\n",
      "              precision    recall  f1-score   support\n",
      "\n",
      "         0.0       0.94      0.98      0.96       392\n",
      "         1.0       0.82      0.60      0.69        60\n",
      "\n",
      "    accuracy                           0.93       452\n",
      "   macro avg       0.88      0.79      0.83       452\n",
      "weighted avg       0.92      0.93      0.92       452\n",
      "\n"
     ]
    }
   ],
   "source": [
    "rfc = RandomForestClassifier()\n",
    "rfc.fit(X_train,y_train)\n",
    "preds = rfc.predict(X_test)\n",
    "\n",
    "print(accuracy_score(y_test,preds))\n",
    "\n",
    "print(confusion_matrix(y_test,preds))\n",
    "\n",
    "print(classification_report(y_test,preds))"
   ]
  },
  {
   "cell_type": "code",
   "execution_count": 230,
   "id": "2a26cb53",
   "metadata": {},
   "outputs": [
    {
     "name": "stdout",
     "output_type": "stream",
     "text": [
      "{'n_estimators': [200, 400, 600, 800, 1000, 1200, 1400, 1600, 1800, 2000], 'max_features': ['auto', 'sqrt', 'log2'], 'max_depth': [10, 120, 230, 340, 450, 560, 670, 780, 890, 1000], 'min_samples_split': [1, 3, 4, 5, 6, 9], 'min_samples_leaf': [1, 2, 4, 6, 8], 'criterion': ['entropy', 'gini']}\n"
     ]
    }
   ],
   "source": [
    "n_estimators = [int(x) for x in np.linspace(200,2000,10)]\n",
    "max_features = ['auto','sqrt','log2']\n",
    "max_depth = [int(x) for x in np.linspace(10,1000,10)]\n",
    "min_samples_split = [1,3,4,5,6,9]\n",
    "min_samples_leaf = [1,2,4,6,8]\n",
    "random_grid = {'n_estimators' : n_estimators,\n",
    "              'max_features': max_features,\n",
    "              'max_depth':max_depth,\n",
    "              'min_samples_split':min_samples_split,\n",
    "              'min_samples_leaf':min_samples_leaf,\n",
    "              'criterion':['entropy','gini']}\n",
    "print(random_grid)"
   ]
  },
  {
   "cell_type": "code",
   "execution_count": 231,
   "id": "f100a277",
   "metadata": {},
   "outputs": [],
   "source": [
    "X_train,X_test,y_train,y_test = train_test_split(X,y,test_size=0.3,random_state=42)"
   ]
  },
  {
   "cell_type": "code",
   "execution_count": 232,
   "id": "fc079b34",
   "metadata": {},
   "outputs": [
    {
     "data": {
      "text/plain": [
       "RandomizedSearchCV(cv=3, estimator=RandomForestClassifier(), n_iter=50,\n",
       "                   n_jobs=-1,\n",
       "                   param_distributions={'criterion': ['entropy', 'gini'],\n",
       "                                        'max_depth': [10, 120, 230, 340, 450,\n",
       "                                                      560, 670, 780, 890,\n",
       "                                                      1000],\n",
       "                                        'max_features': ['auto', 'sqrt',\n",
       "                                                         'log2'],\n",
       "                                        'min_samples_leaf': [1, 2, 4, 6, 8],\n",
       "                                        'min_samples_split': [1, 3, 4, 5, 6, 9],\n",
       "                                        'n_estimators': [200, 400, 600, 800,\n",
       "                                                         1000, 1200, 1400, 1600,\n",
       "                                                         1800, 2000]},\n",
       "                   random_state=100)"
      ]
     },
     "execution_count": 232,
     "metadata": {},
     "output_type": "execute_result"
    }
   ],
   "source": [
    "random_rf = RandomForestClassifier()\n",
    "rf_random_grid = RandomizedSearchCV(estimator=random_rf,param_distributions=random_grid,\n",
    "                                    n_iter=50,cv=3,random_state=100,n_jobs=-1)\n",
    "rf_random_grid.fit(X_train,y_train)"
   ]
  },
  {
   "cell_type": "code",
   "execution_count": 233,
   "id": "ea0148e6",
   "metadata": {},
   "outputs": [
    {
     "name": "stdout",
     "output_type": "stream",
     "text": [
      "0.9114391143911439\n",
      "[[453  13]\n",
      " [ 35  41]]\n",
      "              precision    recall  f1-score   support\n",
      "\n",
      "         0.0       0.93      0.97      0.95       466\n",
      "         1.0       0.76      0.54      0.63        76\n",
      "\n",
      "    accuracy                           0.91       542\n",
      "   macro avg       0.84      0.76      0.79       542\n",
      "weighted avg       0.90      0.91      0.90       542\n",
      "\n"
     ]
    }
   ],
   "source": [
    "best_rfc = rf_random_grid.best_estimator_\n",
    "best_rf.fit(X_train,y_train)\n",
    "preds = best_rf.predict(X_test)\n",
    "\n",
    "print(accuracy_score(y_test,preds))\n",
    "\n",
    "print(confusion_matrix(y_test,preds))\n",
    "\n",
    "print(classification_report(y_test,preds))"
   ]
  },
  {
   "cell_type": "code",
   "execution_count": 164,
   "id": "67308f2f",
   "metadata": {},
   "outputs": [],
   "source": [
    "# As Support Vector machine works based on the Distance Calculations let's scale down the Data .\n",
    "scaler = StandardScaler()\n",
    "X_train_scaled = scaler.fit_transform(X_train)\n",
    "X_test_scaled = scaler.transform(X_test)"
   ]
  },
  {
   "cell_type": "code",
   "execution_count": 165,
   "id": "feeeeee9",
   "metadata": {},
   "outputs": [
    {
     "name": "stdout",
     "output_type": "stream",
     "text": [
      "0.8805309734513275\n",
      "[[389   3]\n",
      " [ 51   9]]\n",
      "              precision    recall  f1-score   support\n",
      "\n",
      "         0.0       0.88      0.99      0.94       392\n",
      "         1.0       0.75      0.15      0.25        60\n",
      "\n",
      "    accuracy                           0.88       452\n",
      "   macro avg       0.82      0.57      0.59       452\n",
      "weighted avg       0.87      0.88      0.84       452\n",
      "\n"
     ]
    }
   ],
   "source": [
    "svc = SVC()\n",
    "svc.fit(X_train_scaled,y_train)\n",
    "preds = svc.predict(X_test_scaled)\n",
    "\n",
    "print(accuracy_score(y_test,preds))\n",
    "\n",
    "print(confusion_matrix(y_test,preds))\n",
    "\n",
    "print(classification_report(y_test,preds))"
   ]
  },
  {
   "cell_type": "markdown",
   "id": "013db98d",
   "metadata": {},
   "source": [
    "### Though the above models are giving the High Accuracy but they are not able to classify both the labels properly , we can say that by looking at the F1_score and Precision. So let's try with the balanced data."
   ]
  },
  {
   "cell_type": "code",
   "execution_count": 201,
   "id": "1fccf470",
   "metadata": {},
   "outputs": [],
   "source": [
    "# Using SMOTE to over sample the data\n",
    "smote = SMOTE()\n",
    "# We are over sampling the data by 80%\n",
    "X_ros,y_ros = smote.fit_resample(X,y)"
   ]
  },
  {
   "cell_type": "code",
   "execution_count": 202,
   "id": "2507f90d",
   "metadata": {},
   "outputs": [
    {
     "name": "stdout",
     "output_type": "stream",
     "text": [
      "Classes ration Before samplingCounter({0.0: 1578, 1.0: 227})\n",
      "Classes ration After samplingCounter({0.0: 1578, 1.0: 1578})\n"
     ]
    }
   ],
   "source": [
    "print(f\"Classes ration Before sampling{Counter(y)}\")\n",
    "\n",
    "print(f\"Classes ration After sampling{Counter(y_ros)}\")"
   ]
  },
  {
   "cell_type": "code",
   "execution_count": 203,
   "id": "fccee924",
   "metadata": {},
   "outputs": [],
   "source": [
    "X_train,X_test,y_train,y_test = train_test_split(X_ros,y_ros,test_size=0.3,random_state=43)"
   ]
  },
  {
   "cell_type": "code",
   "execution_count": 204,
   "id": "557e231a",
   "metadata": {},
   "outputs": [
    {
     "name": "stdout",
     "output_type": "stream",
     "text": [
      "0.7212249208025343\n",
      "[[319 149]\n",
      " [115 364]]\n",
      "              precision    recall  f1-score   support\n",
      "\n",
      "         0.0       0.74      0.68      0.71       468\n",
      "         1.0       0.71      0.76      0.73       479\n",
      "\n",
      "    accuracy                           0.72       947\n",
      "   macro avg       0.72      0.72      0.72       947\n",
      "weighted avg       0.72      0.72      0.72       947\n",
      "\n"
     ]
    }
   ],
   "source": [
    "# Logistic Regression \n",
    "logmod = LogisticRegression()\n",
    "logmod.fit(X_train,y_train)\n",
    "preds = logmod.predict(X_test)\n",
    "\n",
    "print(accuracy_score(y_test,preds))\n",
    "\n",
    "print(confusion_matrix(y_test,preds))\n",
    "\n",
    "print(classification_report(y_test,preds))"
   ]
  },
  {
   "cell_type": "code",
   "execution_count": 205,
   "id": "806047dd",
   "metadata": {},
   "outputs": [
    {
     "name": "stdout",
     "output_type": "stream",
     "text": [
      "0.8014783526927138\n",
      "[[312 156]\n",
      " [ 32 447]]\n",
      "              precision    recall  f1-score   support\n",
      "\n",
      "         0.0       0.91      0.67      0.77       468\n",
      "         1.0       0.74      0.93      0.83       479\n",
      "\n",
      "    accuracy                           0.80       947\n",
      "   macro avg       0.82      0.80      0.80       947\n",
      "weighted avg       0.82      0.80      0.80       947\n",
      "\n"
     ]
    }
   ],
   "source": [
    "knn = KNeighborsClassifier()\n",
    "knn.fit(X_train,y_train)\n",
    "preds = knn.predict(X_test)\n",
    "\n",
    "print(accuracy_score(y_test,preds))\n",
    "\n",
    "print(confusion_matrix(y_test,preds))\n",
    "\n",
    "print(classification_report(y_test,preds))"
   ]
  },
  {
   "cell_type": "code",
   "execution_count": 206,
   "id": "c4712405",
   "metadata": {},
   "outputs": [],
   "source": [
    "error_rate = []\n",
    "for k in range(5,15,2):\n",
    "    knn = KNeighborsClassifier(n_neighbors=k)\n",
    "    knn.fit(X_train,y_train)\n",
    "    preds = knn.predict(X_test)\n",
    "    error_rate.append(np.mean(y_test != preds))"
   ]
  },
  {
   "cell_type": "code",
   "execution_count": 207,
   "id": "03233d55",
   "metadata": {},
   "outputs": [
    {
     "data": {
      "text/plain": [
       "Text(0, 0.5, 'Error_rate')"
      ]
     },
     "execution_count": 207,
     "metadata": {},
     "output_type": "execute_result"
    },
    {
     "data": {
      "image/png": "[encoded data removed]",
      "text/plain": [
       "<Figure size 1008x720 with 1 Axes>"
      ]
     },
     "metadata": {},
     "output_type": "display_data"
    }
   ],
   "source": [
    "plt.figure(figsize=(14,10))\n",
    "plt.plot(range(5,15,2),error_rate,color='black',linestyle='dashed',marker='o',\n",
    "        markerfacecolor='violet',markersize=10)\n",
    "plt.title(\"Error_rate VS K_value\")\n",
    "plt.xlabel('K')\n",
    "plt.ylabel('Error_rate')"
   ]
  },
  {
   "cell_type": "code",
   "execution_count": 208,
   "id": "0c991fb7",
   "metadata": {},
   "outputs": [
    {
     "name": "stdout",
     "output_type": "stream",
     "text": [
      "0.8870116156282999\n",
      "[[408  60]\n",
      " [ 47 432]]\n",
      "              precision    recall  f1-score   support\n",
      "\n",
      "         0.0       0.90      0.87      0.88       468\n",
      "         1.0       0.88      0.90      0.89       479\n",
      "\n",
      "    accuracy                           0.89       947\n",
      "   macro avg       0.89      0.89      0.89       947\n",
      "weighted avg       0.89      0.89      0.89       947\n",
      "\n"
     ]
    }
   ],
   "source": [
    "tree = DecisionTreeClassifier()\n",
    "tree.fit(X_train,y_train)\n",
    "preds = tree.predict(X_test)\n",
    "\n",
    "print(accuracy_score(y_test,preds))\n",
    "\n",
    "print(confusion_matrix(y_test,preds))\n",
    "\n",
    "print(classification_report(y_test,preds))"
   ]
  },
  {
   "cell_type": "code",
   "execution_count": 209,
   "id": "54c7571c",
   "metadata": {},
   "outputs": [
    {
     "name": "stdout",
     "output_type": "stream",
     "text": [
      "0.9186906019007391\n",
      "[[440  28]\n",
      " [ 49 430]]\n",
      "              precision    recall  f1-score   support\n",
      "\n",
      "         0.0       0.90      0.94      0.92       468\n",
      "         1.0       0.94      0.90      0.92       479\n",
      "\n",
      "    accuracy                           0.92       947\n",
      "   macro avg       0.92      0.92      0.92       947\n",
      "weighted avg       0.92      0.92      0.92       947\n",
      "\n"
     ]
    }
   ],
   "source": [
    "rfc = RandomForestClassifier()\n",
    "rfc.fit(X_train,y_train)\n",
    "preds = rfc.predict(X_test)\n",
    "\n",
    "print(accuracy_score(y_test,preds))\n",
    "\n",
    "print(confusion_matrix(y_test,preds))\n",
    "\n",
    "print(classification_report(y_test,preds))"
   ]
  },
  {
   "cell_type": "code",
   "execution_count": 210,
   "id": "1a64e3f3",
   "metadata": {},
   "outputs": [],
   "source": [
    "error_rate = []\n",
    "for n in range(500,1100,100):\n",
    "    rfc = RandomForestClassifier(n_estimators=n)\n",
    "    rfc.fit(X_train,y_train)\n",
    "    preds = rfc.predict(X_test)\n",
    "    error_rate.append(np.mean(y_test != preds))"
   ]
  },
  {
   "cell_type": "code",
   "execution_count": 211,
   "id": "4355336b",
   "metadata": {},
   "outputs": [
    {
     "data": {
      "text/plain": [
       "Text(0, 0.5, 'Error_rate')"
      ]
     },
     "execution_count": 211,
     "metadata": {},
     "output_type": "execute_result"
    },
    {
     "data": {
      "image/png": "[encoded data removed]",
      "text/plain": [
       "<Figure size 1008x720 with 1 Axes>"
      ]
     },
     "metadata": {},
     "output_type": "display_data"
    }
   ],
   "source": [
    "plt.figure(figsize=(14,10))\n",
    "plt.plot(range(500,1100,100),error_rate,color='black',linestyle='dashed',marker='o',\n",
    "        markerfacecolor='violet',markersize=10)\n",
    "plt.title(\"Error_rate VS Number of Estimators\")\n",
    "plt.xlabel('No.of Estimators')\n",
    "plt.ylabel('Error_rate')"
   ]
  },
  {
   "cell_type": "code",
   "execution_count": 212,
   "id": "efb6ecfc",
   "metadata": {},
   "outputs": [
    {
     "name": "stdout",
     "output_type": "stream",
     "text": [
      "0.9345300950369588\n",
      "[[462   6]\n",
      " [ 56 423]]\n",
      "              precision    recall  f1-score   support\n",
      "\n",
      "         0.0       0.89      0.99      0.94       468\n",
      "         1.0       0.99      0.88      0.93       479\n",
      "\n",
      "    accuracy                           0.93       947\n",
      "   macro avg       0.94      0.94      0.93       947\n",
      "weighted avg       0.94      0.93      0.93       947\n",
      "\n"
     ]
    }
   ],
   "source": [
    "# As we can see at the n estimators we are getting the lowest Error_rate.\n",
    "rfc_n = RandomForestClassifier(n_estimators=900)\n",
    "rfc_n.fit(X_train_ros,y_train_ros)\n",
    "preds = rfc_n.predict(X_test)\n",
    "\n",
    "print(accuracy_score(y_test,preds))\n",
    "\n",
    "print(confusion_matrix(y_test,preds))\n",
    "\n",
    "print(classification_report(y_test,preds))"
   ]
  },
  {
   "cell_type": "markdown",
   "id": "14642153",
   "metadata": {},
   "source": [
    "### HyperParameters Optimization\n",
    "#### Since Random Forests gave the Best Results,  let's optimize it."
   ]
  },
  {
   "cell_type": "code",
   "execution_count": 213,
   "id": "5bf2d6c8",
   "metadata": {},
   "outputs": [
    {
     "name": "stdout",
     "output_type": "stream",
     "text": [
      "{'n_estimators': [200, 400, 600, 800, 1000, 1200, 1400, 1600, 1800, 2000], 'max_features': ['auto', 'sqrt', 'log2'], 'max_depth': [10, 120, 230, 340, 450, 560, 670, 780, 890, 1000], 'min_samples_split': [1, 3, 4, 5, 6, 9], 'min_samples_leaf': [1, 2, 4, 6, 8], 'criterion': ['entropy', 'gini']}\n"
     ]
    }
   ],
   "source": [
    "n_estimators = [int(x) for x in np.linspace(200,2000,10)]\n",
    "max_features = ['auto','sqrt','log2']\n",
    "max_depth = [int(x) for x in np.linspace(10,1000,10)]\n",
    "min_samples_split = [1,3,4,5,6,9]\n",
    "min_samples_leaf = [1,2,4,6,8]\n",
    "random_grid = {'n_estimators' : n_estimators,\n",
    "              'max_features': max_features,\n",
    "              'max_depth':max_depth,\n",
    "              'min_samples_split':min_samples_split,\n",
    "              'min_samples_leaf':min_samples_leaf,\n",
    "              'criterion':['entropy','gini']}\n",
    "print(random_grid)"
   ]
  },
  {
   "cell_type": "code",
   "execution_count": 215,
   "id": "eb38abdc",
   "metadata": {},
   "outputs": [],
   "source": [
    "X_train,X_test,y_train,y_test = train_test_split(X_ros,y_ros,test_size=0.3,random_state=42)"
   ]
  },
  {
   "cell_type": "code",
   "execution_count": 216,
   "id": "caa7884f",
   "metadata": {},
   "outputs": [
    {
     "data": {
      "text/plain": [
       "RandomizedSearchCV(cv=3, estimator=RandomForestClassifier(), n_iter=50,\n",
       "                   n_jobs=-1,\n",
       "                   param_distributions={'criterion': ['entropy', 'gini'],\n",
       "                                        'max_depth': [10, 120, 230, 340, 450,\n",
       "                                                      560, 670, 780, 890,\n",
       "                                                      1000],\n",
       "                                        'max_features': ['auto', 'sqrt',\n",
       "                                                         'log2'],\n",
       "                                        'min_samples_leaf': [1, 2, 4, 6, 8],\n",
       "                                        'min_samples_split': [1, 3, 4, 5, 6, 9],\n",
       "                                        'n_estimators': [200, 400, 600, 800,\n",
       "                                                         1000, 1200, 1400, 1600,\n",
       "                                                         1800, 2000]},\n",
       "                   random_state=100)"
      ]
     },
     "execution_count": 216,
     "metadata": {},
     "output_type": "execute_result"
    }
   ],
   "source": [
    "random_rf = RandomForestClassifier()\n",
    "rf_random_grid = RandomizedSearchCV(estimator=random_rf,param_distributions=random_grid,\n",
    "                                    n_iter=50,cv=3,random_state=100,n_jobs=-1)\n",
    "rf_random_grid.fit(X_train,y_train)"
   ]
  },
  {
   "cell_type": "code",
   "execution_count": 217,
   "id": "d148e7f6",
   "metadata": {},
   "outputs": [],
   "source": [
    "best_rf = rf_random_grid.best_estimator_"
   ]
  },
  {
   "cell_type": "code",
   "execution_count": 218,
   "id": "56b4d234",
   "metadata": {},
   "outputs": [
    {
     "name": "stdout",
     "output_type": "stream",
     "text": [
      "0.9229144667370645\n",
      "[[452  29]\n",
      " [ 44 422]]\n",
      "              precision    recall  f1-score   support\n",
      "\n",
      "         0.0       0.91      0.94      0.93       481\n",
      "         1.0       0.94      0.91      0.92       466\n",
      "\n",
      "    accuracy                           0.92       947\n",
      "   macro avg       0.92      0.92      0.92       947\n",
      "weighted avg       0.92      0.92      0.92       947\n",
      "\n"
     ]
    }
   ],
   "source": [
    "best_rf.fit(X_train,y_train)\n",
    "preds = best_rf.predict(X_test)\n",
    "\n",
    "print(accuracy_score(y_test,preds))\n",
    "\n",
    "print(confusion_matrix(y_test,preds))\n",
    "\n",
    "print(classification_report(y_test,preds))"
   ]
  },
  {
   "cell_type": "code",
   "execution_count": 191,
   "id": "7ce3c207",
   "metadata": {},
   "outputs": [],
   "source": [
    "model = Sequential([Flatten(input_shape=(13,)),\n",
    "    Dense(16, activation = 'relu'),\n",
    "    Dense(16, activation = 'relu'),\n",
    "    Dense(1, activation = \"sigmoid\")])"
   ]
  },
  {
   "cell_type": "code",
   "execution_count": 192,
   "id": "82b87462",
   "metadata": {},
   "outputs": [
    {
     "name": "stdout",
     "output_type": "stream",
     "text": [
      "Model: \"sequential\"\n",
      "_________________________________________________________________\n",
      "Layer (type)                 Output Shape              Param #   \n",
      "=================================================================\n",
      "flatten (Flatten)            (None, 13)                0         \n",
      "_________________________________________________________________\n",
      "dense (Dense)                (None, 16)                224       \n",
      "_________________________________________________________________\n",
      "dense_1 (Dense)              (None, 16)                272       \n",
      "_________________________________________________________________\n",
      "dense_2 (Dense)              (None, 1)                 17        \n",
      "=================================================================\n",
      "Total params: 513\n",
      "Trainable params: 513\n",
      "Non-trainable params: 0\n",
      "_________________________________________________________________\n"
     ]
    }
   ],
   "source": [
    "model.summary()"
   ]
  },
  {
   "cell_type": "code",
   "execution_count": 194,
   "id": "7bd02ed7",
   "metadata": {
    "scrolled": false
   },
   "outputs": [
    {
     "name": "stdout",
     "output_type": "stream",
     "text": [
      "Epoch 1/50\n",
      "2209/2209 [==============================] - 3s 957us/step - loss: 0.5616 - accuracy: 0.7130 - val_loss: 0.4951 - val_accuracy: 0.7592\n",
      "Epoch 2/50\n",
      "2209/2209 [==============================] - 2s 764us/step - loss: 0.4433 - accuracy: 0.8040 - val_loss: 0.5059 - val_accuracy: 0.7518\n",
      "Epoch 3/50\n",
      "2209/2209 [==============================] - 2s 787us/step - loss: 0.4016 - accuracy: 0.8343 - val_loss: 0.4731 - val_accuracy: 0.7888\n",
      "Epoch 4/50\n",
      "2209/2209 [==============================] - 2s 739us/step - loss: 0.3807 - accuracy: 0.8334 - val_loss: 0.4859 - val_accuracy: 0.7687\n",
      "Epoch 5/50\n",
      "2209/2209 [==============================] - 3s 1ms/step - loss: 0.3689 - accuracy: 0.8474 - val_loss: 0.5107 - val_accuracy: 0.7614\n",
      "Epoch 6/50\n",
      "2209/2209 [==============================] - 2s 1ms/step - loss: 0.3559 - accuracy: 0.8606 - val_loss: 0.4340 - val_accuracy: 0.8068\n",
      "Epoch 7/50\n",
      "2209/2209 [==============================] - 2s 846us/step - loss: 0.3476 - accuracy: 0.8542 - val_loss: 0.5216 - val_accuracy: 0.7666\n",
      "Epoch 8/50\n",
      "2209/2209 [==============================] - 2s 863us/step - loss: 0.3398 - accuracy: 0.8610 - val_loss: 0.4592 - val_accuracy: 0.7930\n",
      "Epoch 9/50\n",
      "2209/2209 [==============================] - 2s 791us/step - loss: 0.3324 - accuracy: 0.8560 - val_loss: 0.4876 - val_accuracy: 0.7835\n",
      "Epoch 10/50\n",
      "2209/2209 [==============================] - 2s 908us/step - loss: 0.3256 - accuracy: 0.8687 - val_loss: 0.4576 - val_accuracy: 0.8068\n",
      "Epoch 11/50\n",
      "2209/2209 [==============================] - 2s 784us/step - loss: 0.3175 - accuracy: 0.8665 - val_loss: 0.5265 - val_accuracy: 0.7656\n",
      "Epoch 12/50\n",
      "2209/2209 [==============================] - 2s 900us/step - loss: 0.3153 - accuracy: 0.8687 - val_loss: 0.5053 - val_accuracy: 0.7930\n",
      "Epoch 13/50\n",
      "2209/2209 [==============================] - 4s 2ms/step - loss: 0.3088 - accuracy: 0.8769 - val_loss: 0.4400 - val_accuracy: 0.8205\n",
      "Epoch 14/50\n",
      "2209/2209 [==============================] - 4s 2ms/step - loss: 0.3039 - accuracy: 0.8742 - val_loss: 0.4948 - val_accuracy: 0.8015\n",
      "Epoch 15/50\n",
      "2209/2209 [==============================] - 2s 951us/step - loss: 0.2993 - accuracy: 0.8760 - val_loss: 0.4868 - val_accuracy: 0.7951\n",
      "Epoch 16/50\n",
      "2209/2209 [==============================] - 2s 762us/step - loss: 0.2925 - accuracy: 0.8764 - val_loss: 0.4503 - val_accuracy: 0.8258\n",
      "Epoch 17/50\n",
      "2209/2209 [==============================] - 2s 765us/step - loss: 0.2906 - accuracy: 0.8800 - val_loss: 0.4521 - val_accuracy: 0.8089\n",
      "Epoch 18/50\n",
      "2209/2209 [==============================] - 2s 770us/step - loss: 0.2863 - accuracy: 0.8818 - val_loss: 0.4634 - val_accuracy: 0.8131\n",
      "Epoch 19/50\n",
      "2209/2209 [==============================] - 2s 800us/step - loss: 0.2817 - accuracy: 0.8846 - val_loss: 0.5025 - val_accuracy: 0.7951\n",
      "Epoch 20/50\n",
      "2209/2209 [==============================] - 2s 884us/step - loss: 0.2782 - accuracy: 0.8868 - val_loss: 0.5127 - val_accuracy: 0.7930\n",
      "Epoch 21/50\n",
      "2209/2209 [==============================] - 2s 1ms/step - loss: 0.2756 - accuracy: 0.8818 - val_loss: 0.5269 - val_accuracy: 0.7962\n",
      "Epoch 22/50\n",
      "2209/2209 [==============================] - 2s 817us/step - loss: 0.2723 - accuracy: 0.8882 - val_loss: 0.5084 - val_accuracy: 0.7962\n",
      "Epoch 23/50\n",
      "2209/2209 [==============================] - 2s 725us/step - loss: 0.2656 - accuracy: 0.8900 - val_loss: 0.4791 - val_accuracy: 0.8131\n",
      "Epoch 24/50\n",
      "2209/2209 [==============================] - 2s 794us/step - loss: 0.2674 - accuracy: 0.8891 - val_loss: 0.4444 - val_accuracy: 0.8194\n",
      "Epoch 25/50\n",
      "2209/2209 [==============================] - 2s 796us/step - loss: 0.2648 - accuracy: 0.8923 - val_loss: 0.4974 - val_accuracy: 0.7888\n",
      "Epoch 26/50\n",
      "2209/2209 [==============================] - 2s 830us/step - loss: 0.2618 - accuracy: 0.8936 - val_loss: 0.5062 - val_accuracy: 0.7920\n",
      "Epoch 27/50\n",
      "2209/2209 [==============================] - 2s 862us/step - loss: 0.2599 - accuracy: 0.8918 - val_loss: 0.5210 - val_accuracy: 0.7973\n",
      "Epoch 28/50\n",
      "2209/2209 [==============================] - 2s 706us/step - loss: 0.2524 - accuracy: 0.9000 - val_loss: 0.5311 - val_accuracy: 0.7973\n",
      "Epoch 29/50\n",
      "2209/2209 [==============================] - 2s 726us/step - loss: 0.2531 - accuracy: 0.8990 - val_loss: 0.5036 - val_accuracy: 0.7973\n",
      "Epoch 30/50\n",
      "2209/2209 [==============================] - 2s 715us/step - loss: 0.2469 - accuracy: 0.9031 - val_loss: 0.4881 - val_accuracy: 0.7994\n",
      "Epoch 31/50\n",
      "2209/2209 [==============================] - 2s 720us/step - loss: 0.2478 - accuracy: 0.9013 - val_loss: 0.4857 - val_accuracy: 0.8036\n",
      "Epoch 32/50\n",
      "2209/2209 [==============================] - 2s 733us/step - loss: 0.2451 - accuracy: 0.9000 - val_loss: 0.5809 - val_accuracy: 0.7782\n",
      "Epoch 33/50\n",
      "2209/2209 [==============================] - 2s 741us/step - loss: 0.2422 - accuracy: 0.9072 - val_loss: 0.5273 - val_accuracy: 0.8046\n",
      "Epoch 34/50\n",
      "2209/2209 [==============================] - 2s 720us/step - loss: 0.2368 - accuracy: 0.9027 - val_loss: 0.4832 - val_accuracy: 0.8025\n",
      "Epoch 35/50\n",
      "2209/2209 [==============================] - 2s 723us/step - loss: 0.2331 - accuracy: 0.9140 - val_loss: 0.4933 - val_accuracy: 0.8036\n",
      "Epoch 36/50\n",
      "2209/2209 [==============================] - 2s 829us/step - loss: 0.2329 - accuracy: 0.9072 - val_loss: 0.4910 - val_accuracy: 0.8057\n",
      "Epoch 37/50\n",
      "2209/2209 [==============================] - 2s 886us/step - loss: 0.2293 - accuracy: 0.9104 - val_loss: 0.4904 - val_accuracy: 0.8078\n",
      "Epoch 38/50\n",
      "2209/2209 [==============================] - 2s 874us/step - loss: 0.2280 - accuracy: 0.9113 - val_loss: 0.5596 - val_accuracy: 0.7920\n",
      "Epoch 39/50\n",
      "2209/2209 [==============================] - 2s 762us/step - loss: 0.2241 - accuracy: 0.9126 - val_loss: 0.4834 - val_accuracy: 0.8089\n",
      "Epoch 40/50\n",
      "2209/2209 [==============================] - 2s 815us/step - loss: 0.2218 - accuracy: 0.9140 - val_loss: 0.5401 - val_accuracy: 0.7867\n",
      "Epoch 41/50\n",
      "2209/2209 [==============================] - 2s 745us/step - loss: 0.2235 - accuracy: 0.9140 - val_loss: 0.5550 - val_accuracy: 0.7856\n",
      "Epoch 42/50\n",
      "2209/2209 [==============================] - 2s 729us/step - loss: 0.2186 - accuracy: 0.9158 - val_loss: 0.5809 - val_accuracy: 0.7920\n",
      "Epoch 43/50\n",
      "2209/2209 [==============================] - 2s 728us/step - loss: 0.2191 - accuracy: 0.9172 - val_loss: 0.5181 - val_accuracy: 0.8046\n",
      "Epoch 44/50\n",
      "2209/2209 [==============================] - 2s 742us/step - loss: 0.2177 - accuracy: 0.9199 - val_loss: 0.5415 - val_accuracy: 0.8099\n",
      "Epoch 45/50\n",
      "2209/2209 [==============================] - 2s 767us/step - loss: 0.2144 - accuracy: 0.9172 - val_loss: 0.5024 - val_accuracy: 0.7951\n",
      "Epoch 46/50\n",
      "2209/2209 [==============================] - 2s 701us/step - loss: 0.2142 - accuracy: 0.9199 - val_loss: 0.5737 - val_accuracy: 0.7973\n",
      "Epoch 47/50\n",
      "2209/2209 [==============================] - 2s 719us/step - loss: 0.2122 - accuracy: 0.9153 - val_loss: 0.5662 - val_accuracy: 0.7973\n",
      "Epoch 48/50\n",
      "2209/2209 [==============================] - 2s 790us/step - loss: 0.2085 - accuracy: 0.9167 - val_loss: 0.5670 - val_accuracy: 0.7835\n",
      "Epoch 49/50\n",
      "2209/2209 [==============================] - 2s 782us/step - loss: 0.2093 - accuracy: 0.9185 - val_loss: 0.6021 - val_accuracy: 0.7856\n",
      "Epoch 50/50\n",
      "2209/2209 [==============================] - 2s 750us/step - loss: 0.2078 - accuracy: 0.9217 - val_loss: 0.5769 - val_accuracy: 0.7856\n",
      "30/30 [==============================] - 0s 823us/step - loss: 0.5769 - accuracy: 0.7856\n"
     ]
    }
   ],
   "source": [
    "# we pass the data, labels and epochs and watch the magic!\n",
    "model.compile(optimizer='adam',\n",
    "\n",
    "              loss='binary_crossentropy',\n",
    "\n",
    "              metrics=['accuracy'])\n",
    "scaler_nn = StandardScaler()\n",
    "X_train_scaled = scaler_nn.fit_transform(X_train)\n",
    "X_test_scaled = scaler.transform(X_test)\n",
    "\n",
    "# As we know that Artificial Neural Networks works well with Normalized data, We use Scaled data for the training\n",
    "\n",
    "model.fit(X_train_scaled, y_train, epochs=50, batch_size=1,validation_data=(X_test_scaled,y_test))\n",
    "\n",
    "test_loss, test_acc = model.evaluate(X_test_scaled, y_test)"
   ]
  },
  {
   "cell_type": "code",
   "execution_count": null,
   "id": "4705fc1e",
   "metadata": {},
   "outputs": [],
   "source": []
  }
 ],
 "metadata": {
  "kernelspec": {
   "display_name": "Python 3",
   "language": "python",
   "name": "python3"
  },
  "language_info": {
   "codemirror_mode": {
    "name": "ipython",
    "version": 3
   },
   "file_extension": ".py",
   "mimetype": "text/x-python",
   "name": "python",
   "nbconvert_exporter": "python",
   "pygments_lexer": "ipython3",
   "version": "3.9.6"
  }
 },
 "nbformat": 4,
 "nbformat_minor": 5
}
