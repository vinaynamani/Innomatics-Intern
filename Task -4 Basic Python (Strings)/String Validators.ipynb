{
 "cells": [
  {
   "cell_type": "code",
   "execution_count": 9,
   "id": "e7538f25",
   "metadata": {},
   "outputs": [
    {
     "name": "stdout",
     "output_type": "stream",
     "text": [
      "qA2\n",
      "True\n",
      "True\n",
      "True\n",
      "True\n",
      "True\n"
     ]
    }
   ],
   "source": [
    "s = str(input())\n",
    "alphanum = []\n",
    "alpha = []\n",
    "digit = []\n",
    "lower = []\n",
    "upper = []\n",
    "for i in s:\n",
    "    alphanum.append(i.isalnum())\n",
    "    alpha.append(i.isalpha())\n",
    "    digit.append(i.isdigit())\n",
    "    lower.append(i.islower())\n",
    "    upper.append(i.isupper())\n",
    "print(True in alphanum)\n",
    "print(True in alpha)\n",
    "print(True in digit)\n",
    "print(True in lower)\n",
    "print(True in upper)"
   ]
  },
  {
   "cell_type": "code",
   "execution_count": null,
   "id": "1cd73d8b",
   "metadata": {},
   "outputs": [],
   "source": []
  }
 ],
 "metadata": {
  "kernelspec": {
   "display_name": "Python 3",
   "language": "python",
   "name": "python3"
  },
  "language_info": {
   "codemirror_mode": {
    "name": "ipython",
    "version": 3
   },
   "file_extension": ".py",
   "mimetype": "text/x-python",
   "name": "python",
   "nbconvert_exporter": "python",
   "pygments_lexer": "ipython3",
   "version": "3.9.6"
  }
 },
 "nbformat": 4,
 "nbformat_minor": 5
}
