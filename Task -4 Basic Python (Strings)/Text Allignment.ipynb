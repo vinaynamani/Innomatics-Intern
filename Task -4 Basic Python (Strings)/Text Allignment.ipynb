{
 "cells": [
  {
   "cell_type": "code",
   "execution_count": 19,
   "id": "54a4e9eb",
   "metadata": {},
   "outputs": [
    {
     "name": "stdout",
     "output_type": "stream",
     "text": [
      "    V    \n",
      "   VVV   \n",
      "  VVVVV  \n",
      " VVVVVVV \n",
      "VVVVVVVVV\n",
      "  VVVVV               VVVVV             \n",
      "  VVVVV               VVVVV             \n",
      "  VVVVV               VVVVV             \n",
      "  VVVVV               VVVVV             \n",
      "  VVVVV               VVVVV             \n",
      "  VVVVV               VVVVV             \n",
      "  VVVVVVVVVVVVVVVVVVVVVVVVV   \n",
      "  VVVVVVVVVVVVVVVVVVVVVVVVV   \n",
      "  VVVVVVVVVVVVVVVVVVVVVVVVV   \n",
      "  VVVVV               VVVVV             \n",
      "  VVVVV               VVVVV             \n",
      "  VVVVV               VVVVV             \n",
      "  VVVVV               VVVVV             \n",
      "  VVVVV               VVVVV             \n",
      "  VVVVV               VVVVV             \n",
      "                    VVVVVVVVV \n",
      "                     VVVVVVV  \n",
      "                      VVVVV   \n",
      "                       VVV    \n",
      "                        V     \n"
     ]
    }
   ],
   "source": [
    "thickness = 5\n",
    "c = \"V\"\n",
    "for i in range(thickness):\n",
    "    print((c*i).rjust(thickness-1)+c+(c*i).ljust(thickness-1))\n",
    "for i in range(thickness+1):\n",
    "    print((c*thickness).center(thickness*2)+(c*thickness).center(thickness*6))\n",
    "for i in range((thickness+1)//2):\n",
    "    print((c*thickness*5).center(thickness*6))\n",
    "for i in range(thickness+1):\n",
    "    print((c*thickness).center(thickness*2)+(c*thickness).center(thickness*6))\n",
    "for i in range(thickness):\n",
    "    print(((c*(thickness-i-1)).rjust(thickness)+c+(c*(thickness-i-1)).ljust(thickness)).rjust(thickness*6))"
   ]
  },
  {
   "cell_type": "code",
   "execution_count": null,
   "id": "d75d4ae8",
   "metadata": {},
   "outputs": [],
   "source": []
  }
 ],
 "metadata": {
  "kernelspec": {
   "display_name": "Python 3",
   "language": "python",
   "name": "python3"
  },
  "language_info": {
   "codemirror_mode": {
    "name": "ipython",
    "version": 3
   },
   "file_extension": ".py",
   "mimetype": "text/x-python",
   "name": "python",
   "nbconvert_exporter": "python",
   "pygments_lexer": "ipython3",
   "version": "3.9.6"
  }
 },
 "nbformat": 4,
 "nbformat_minor": 5
}
