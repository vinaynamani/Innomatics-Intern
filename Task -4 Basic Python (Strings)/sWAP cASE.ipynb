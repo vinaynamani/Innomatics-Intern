{
 "cells": [
  {
   "cell_type": "code",
   "execution_count": 10,
   "id": "fc0d7cb9",
   "metadata": {},
   "outputs": [
    {
     "name": "stdout",
     "output_type": "stream",
     "text": [
      "HackerRank.com presents \"Pythonist 2\"\n"
     ]
    }
   ],
   "source": [
    "text = input()"
   ]
  },
  {
   "cell_type": "code",
   "execution_count": 11,
   "id": "8ee704d2",
   "metadata": {},
   "outputs": [],
   "source": [
    "def swapcase(s):\n",
    "    return s.swapcase()"
   ]
  },
  {
   "cell_type": "code",
   "execution_count": 12,
   "id": "d36dff79",
   "metadata": {},
   "outputs": [
    {
     "data": {
      "text/plain": [
       "'hACKERrANK.COM PRESENTS \"pYTHONIST 2\"'"
      ]
     },
     "execution_count": 12,
     "metadata": {},
     "output_type": "execute_result"
    }
   ],
   "source": [
    "swapcase(text)"
   ]
  },
  {
   "cell_type": "code",
   "execution_count": null,
   "id": "85f41c6e",
   "metadata": {},
   "outputs": [],
   "source": []
  }
 ],
 "metadata": {
  "kernelspec": {
   "display_name": "Python 3",
   "language": "python",
   "name": "python3"
  },
  "language_info": {
   "codemirror_mode": {
    "name": "ipython",
    "version": 3
   },
   "file_extension": ".py",
   "mimetype": "text/x-python",
   "name": "python",
   "nbconvert_exporter": "python",
   "pygments_lexer": "ipython3",
   "version": "3.9.6"
  }
 },
 "nbformat": 4,
 "nbformat_minor": 5
}
